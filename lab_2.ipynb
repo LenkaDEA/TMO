{
  "nbformat": 4,
  "nbformat_minor": 0,
  "metadata": {
    "anaconda-cloud": {},
    "kernelspec": {
      "display_name": "Python 3",
      "language": "python",
      "name": "python3"
    },
    "language_info": {
      "name": "python",
      "version": "3.6.6",
      "mimetype": "text/x-python",
      "codemirror_mode": {
        "name": "ipython",
        "version": 3
      },
      "pygments_lexer": "ipython3",
      "nbconvert_exporter": "python",
      "file_extension": ".py"
    },
    "colab": {
      "name": "lab_2.ipynb",
      "provenance": [],
      "collapsed_sections": []
    }
  },
  "cells": [
    {
      "cell_type": "code",
      "metadata": {
        "trusted": true,
        "_uuid": "3570c8e98366e6e09f6e9e09bfef1385a74898a8",
        "id": "fCzhGKgEveoZ",
        "colab_type": "code",
        "colab": {}
      },
      "source": [
        "import numpy as np\n",
        "import pandas as pd"
      ],
      "execution_count": 0,
      "outputs": []
    },
    {
      "cell_type": "code",
      "metadata": {
        "trusted": true,
        "_uuid": "00e99b05a3236a79b7177f4ddb63f8844c275f78",
        "id": "4pWepUzkveom",
        "colab_type": "code",
        "colab": {
          "base_uri": "https://localhost:8080/",
          "height": 395
        },
        "outputId": "725b9b34-d5ef-4c16-8c23-b9b0f35f05bc"
      },
      "source": [
        "data = pd.read_csv('adult.data.txt')\n",
        "data.head()"
      ],
      "execution_count": 3,
      "outputs": [
        {
          "output_type": "execute_result",
          "data": {
            "text/html": [
              "<div>\n",
              "<style scoped>\n",
              "    .dataframe tbody tr th:only-of-type {\n",
              "        vertical-align: middle;\n",
              "    }\n",
              "\n",
              "    .dataframe tbody tr th {\n",
              "        vertical-align: top;\n",
              "    }\n",
              "\n",
              "    .dataframe thead th {\n",
              "        text-align: right;\n",
              "    }\n",
              "</style>\n",
              "<table border=\"1\" class=\"dataframe\">\n",
              "  <thead>\n",
              "    <tr style=\"text-align: right;\">\n",
              "      <th></th>\n",
              "      <th>age</th>\n",
              "      <th>workclass</th>\n",
              "      <th>fnlwgt</th>\n",
              "      <th>education</th>\n",
              "      <th>education-num</th>\n",
              "      <th>marital-status</th>\n",
              "      <th>occupation</th>\n",
              "      <th>relationship</th>\n",
              "      <th>race</th>\n",
              "      <th>sex</th>\n",
              "      <th>capital-gain</th>\n",
              "      <th>capital-loss</th>\n",
              "      <th>hours-per-week</th>\n",
              "      <th>native-country</th>\n",
              "      <th>salary</th>\n",
              "    </tr>\n",
              "  </thead>\n",
              "  <tbody>\n",
              "    <tr>\n",
              "      <th>0</th>\n",
              "      <td>39</td>\n",
              "      <td>State-gov</td>\n",
              "      <td>77516</td>\n",
              "      <td>Bachelors</td>\n",
              "      <td>13</td>\n",
              "      <td>Never-married</td>\n",
              "      <td>Adm-clerical</td>\n",
              "      <td>Not-in-family</td>\n",
              "      <td>White</td>\n",
              "      <td>Male</td>\n",
              "      <td>2174</td>\n",
              "      <td>0</td>\n",
              "      <td>40</td>\n",
              "      <td>United-States</td>\n",
              "      <td>&lt;=50K</td>\n",
              "    </tr>\n",
              "    <tr>\n",
              "      <th>1</th>\n",
              "      <td>50</td>\n",
              "      <td>Self-emp-not-inc</td>\n",
              "      <td>83311</td>\n",
              "      <td>Bachelors</td>\n",
              "      <td>13</td>\n",
              "      <td>Married-civ-spouse</td>\n",
              "      <td>Exec-managerial</td>\n",
              "      <td>Husband</td>\n",
              "      <td>White</td>\n",
              "      <td>Male</td>\n",
              "      <td>0</td>\n",
              "      <td>0</td>\n",
              "      <td>13</td>\n",
              "      <td>United-States</td>\n",
              "      <td>&lt;=50K</td>\n",
              "    </tr>\n",
              "    <tr>\n",
              "      <th>2</th>\n",
              "      <td>38</td>\n",
              "      <td>Private</td>\n",
              "      <td>215646</td>\n",
              "      <td>HS-grad</td>\n",
              "      <td>9</td>\n",
              "      <td>Divorced</td>\n",
              "      <td>Handlers-cleaners</td>\n",
              "      <td>Not-in-family</td>\n",
              "      <td>White</td>\n",
              "      <td>Male</td>\n",
              "      <td>0</td>\n",
              "      <td>0</td>\n",
              "      <td>40</td>\n",
              "      <td>United-States</td>\n",
              "      <td>&lt;=50K</td>\n",
              "    </tr>\n",
              "    <tr>\n",
              "      <th>3</th>\n",
              "      <td>53</td>\n",
              "      <td>Private</td>\n",
              "      <td>234721</td>\n",
              "      <td>11th</td>\n",
              "      <td>7</td>\n",
              "      <td>Married-civ-spouse</td>\n",
              "      <td>Handlers-cleaners</td>\n",
              "      <td>Husband</td>\n",
              "      <td>Black</td>\n",
              "      <td>Male</td>\n",
              "      <td>0</td>\n",
              "      <td>0</td>\n",
              "      <td>40</td>\n",
              "      <td>United-States</td>\n",
              "      <td>&lt;=50K</td>\n",
              "    </tr>\n",
              "    <tr>\n",
              "      <th>4</th>\n",
              "      <td>28</td>\n",
              "      <td>Private</td>\n",
              "      <td>338409</td>\n",
              "      <td>Bachelors</td>\n",
              "      <td>13</td>\n",
              "      <td>Married-civ-spouse</td>\n",
              "      <td>Prof-specialty</td>\n",
              "      <td>Wife</td>\n",
              "      <td>Black</td>\n",
              "      <td>Female</td>\n",
              "      <td>0</td>\n",
              "      <td>0</td>\n",
              "      <td>40</td>\n",
              "      <td>Cuba</td>\n",
              "      <td>&lt;=50K</td>\n",
              "    </tr>\n",
              "  </tbody>\n",
              "</table>\n",
              "</div>"
            ],
            "text/plain": [
              "   age         workclass  fnlwgt  ... hours-per-week  native-country salary\n",
              "0   39         State-gov   77516  ...             40   United-States  <=50K\n",
              "1   50  Self-emp-not-inc   83311  ...             13   United-States  <=50K\n",
              "2   38           Private  215646  ...             40   United-States  <=50K\n",
              "3   53           Private  234721  ...             40   United-States  <=50K\n",
              "4   28           Private  338409  ...             40            Cuba  <=50K\n",
              "\n",
              "[5 rows x 15 columns]"
            ]
          },
          "metadata": {
            "tags": []
          },
          "execution_count": 3
        }
      ]
    },
    {
      "cell_type": "code",
      "metadata": {
        "trusted": true,
        "_uuid": "b47a687d2ef3a449909c9212421d83e42c039bd8",
        "id": "pC7LA1r_vepw",
        "colab_type": "code",
        "colab": {
          "base_uri": "https://localhost:8080/",
          "height": 69
        },
        "outputId": "05af0965-94cf-4c24-f141-81c387b5eb02"
      },
      "source": [
        "data['sex'].value_counts()"
      ],
      "execution_count": 4,
      "outputs": [
        {
          "output_type": "execute_result",
          "data": {
            "text/plain": [
              "Male      21790\n",
              "Female    10771\n",
              "Name: sex, dtype: int64"
            ]
          },
          "metadata": {
            "tags": []
          },
          "execution_count": 4
        }
      ]
    },
    {
      "cell_type": "code",
      "metadata": {
        "trusted": true,
        "_uuid": "6936751bc2061873c52c052b8977b1fe0ac826bd",
        "id": "3_H0Q9t8vep7",
        "colab_type": "code",
        "colab": {
          "base_uri": "https://localhost:8080/",
          "height": 35
        },
        "outputId": "4077459b-4e2d-4755-a457-a30bb2cdcb21"
      },
      "source": [
        "data.loc[data['sex'] == 'Female', 'age'].mean()"
      ],
      "execution_count": 5,
      "outputs": [
        {
          "output_type": "execute_result",
          "data": {
            "text/plain": [
              "36.85823043357163"
            ]
          },
          "metadata": {
            "tags": []
          },
          "execution_count": 5
        }
      ]
    },
    {
      "cell_type": "code",
      "metadata": {
        "trusted": true,
        "_uuid": "4edbe332b55c59e05da5574920b0f91283b7814a",
        "id": "5bjleMz4veqE",
        "colab_type": "code",
        "colab": {
          "base_uri": "https://localhost:8080/",
          "height": 35
        },
        "outputId": "9c638d44-2fd2-4018-cc65-032ba8d087ad"
      },
      "source": [
        "float((data['native-country'] == 'Germany').sum()) / data.shape[0]"
      ],
      "execution_count": 6,
      "outputs": [
        {
          "output_type": "execute_result",
          "data": {
            "text/plain": [
              "0.004207487485028101"
            ]
          },
          "metadata": {
            "tags": []
          },
          "execution_count": 6
        }
      ]
    },
    {
      "cell_type": "code",
      "metadata": {
        "trusted": true,
        "_uuid": "94d017ce7c339eae7a13a816cee415527837d802",
        "id": "uRnzKC_hveqQ",
        "colab_type": "code",
        "colab": {
          "base_uri": "https://localhost:8080/",
          "height": 35
        },
        "outputId": "1c2a2117-8ee4-4b3a-972e-a4623c2efa82"
      },
      "source": [
        "ages1 = data.loc[data['salary'] == '>50K', 'age']\n",
        "ages2 = data.loc[data['salary'] == '<=50K', 'age']\n",
        "print(\"Средний возраст богтых: {0} +- {1} лет, бедных - {2} +- {3} лет.\".format(\n",
        "    round(ages1.mean()), round(ages1.std(), 1),\n",
        "    round(ages2.mean()), round(ages2.std(), 1)))"
      ],
      "execution_count": 17,
      "outputs": [
        {
          "output_type": "stream",
          "text": [
            "Средний возраст богтых: 44 +- 10.5 лет, бедных - 37 +- 14.0 лет.\n"
          ],
          "name": "stdout"
        }
      ]
    },
    {
      "cell_type": "code",
      "metadata": {
        "trusted": true,
        "_uuid": "8ca42b7a1befd52dbc72781a7c55505c2fb0909c",
        "id": "GeDUj_zjveqc",
        "colab_type": "code",
        "colab": {
          "base_uri": "https://localhost:8080/",
          "height": 69
        },
        "outputId": "3738b0a3-8438-481e-a7b0-bbe9e3f97630"
      },
      "source": [
        "data.loc[data['salary'] == '>50K', 'education'].unique() # No"
      ],
      "execution_count": 8,
      "outputs": [
        {
          "output_type": "execute_result",
          "data": {
            "text/plain": [
              "array(['HS-grad', 'Masters', 'Bachelors', 'Some-college', 'Assoc-voc',\n",
              "       'Doctorate', 'Prof-school', 'Assoc-acdm', '7th-8th', '12th',\n",
              "       '10th', '11th', '9th', '5th-6th', '1st-4th'], dtype=object)"
            ]
          },
          "metadata": {
            "tags": []
          },
          "execution_count": 8
        }
      ]
    },
    {
      "cell_type": "code",
      "metadata": {
        "trusted": true,
        "_uuid": "f8d3404d2871b68504a3920faa635d723ac2f45b",
        "id": "cd6-keMMveqk",
        "colab_type": "code",
        "colab": {
          "base_uri": "https://localhost:8080/",
          "height": 1000
        },
        "outputId": "f0c43ed2-2022-45e3-a90c-8b3bab4ec020"
      },
      "source": [
        "for (race, sex), sub_df in data.groupby(['race', 'sex']):\n",
        "    print(\"Раса: {0}, пол: {1}\".format(race, sex))\n",
        "    print(sub_df['age'].describe())"
      ],
      "execution_count": 18,
      "outputs": [
        {
          "output_type": "stream",
          "text": [
            "Раса: Amer-Indian-Eskimo, пол: Female\n",
            "count    119.000000\n",
            "mean      37.117647\n",
            "std       13.114991\n",
            "min       17.000000\n",
            "25%       27.000000\n",
            "50%       36.000000\n",
            "75%       46.000000\n",
            "max       80.000000\n",
            "Name: age, dtype: float64\n",
            "Раса: Amer-Indian-Eskimo, пол: Male\n",
            "count    192.000000\n",
            "mean      37.208333\n",
            "std       12.049563\n",
            "min       17.000000\n",
            "25%       28.000000\n",
            "50%       35.000000\n",
            "75%       45.000000\n",
            "max       82.000000\n",
            "Name: age, dtype: float64\n",
            "Раса: Asian-Pac-Islander, пол: Female\n",
            "count    346.000000\n",
            "mean      35.089595\n",
            "std       12.300845\n",
            "min       17.000000\n",
            "25%       25.000000\n",
            "50%       33.000000\n",
            "75%       43.750000\n",
            "max       75.000000\n",
            "Name: age, dtype: float64\n",
            "Раса: Asian-Pac-Islander, пол: Male\n",
            "count    693.000000\n",
            "mean      39.073593\n",
            "std       12.883944\n",
            "min       18.000000\n",
            "25%       29.000000\n",
            "50%       37.000000\n",
            "75%       46.000000\n",
            "max       90.000000\n",
            "Name: age, dtype: float64\n",
            "Раса: Black, пол: Female\n",
            "count    1555.000000\n",
            "mean       37.854019\n",
            "std        12.637197\n",
            "min        17.000000\n",
            "25%        28.000000\n",
            "50%        37.000000\n",
            "75%        46.000000\n",
            "max        90.000000\n",
            "Name: age, dtype: float64\n",
            "Раса: Black, пол: Male\n",
            "count    1569.000000\n",
            "mean       37.682600\n",
            "std        12.882612\n",
            "min        17.000000\n",
            "25%        27.000000\n",
            "50%        36.000000\n",
            "75%        46.000000\n",
            "max        90.000000\n",
            "Name: age, dtype: float64\n",
            "Раса: Other, пол: Female\n",
            "count    109.000000\n",
            "mean      31.678899\n",
            "std       11.631599\n",
            "min       17.000000\n",
            "25%       23.000000\n",
            "50%       29.000000\n",
            "75%       39.000000\n",
            "max       74.000000\n",
            "Name: age, dtype: float64\n",
            "Раса: Other, пол: Male\n",
            "count    162.000000\n",
            "mean      34.654321\n",
            "std       11.355531\n",
            "min       17.000000\n",
            "25%       26.000000\n",
            "50%       32.000000\n",
            "75%       42.000000\n",
            "max       77.000000\n",
            "Name: age, dtype: float64\n",
            "Раса: White, пол: Female\n",
            "count    8642.000000\n",
            "mean       36.811618\n",
            "std        14.329093\n",
            "min        17.000000\n",
            "25%        25.000000\n",
            "50%        35.000000\n",
            "75%        46.000000\n",
            "max        90.000000\n",
            "Name: age, dtype: float64\n",
            "Раса: White, пол: Male\n",
            "count    19174.000000\n",
            "mean        39.652498\n",
            "std         13.436029\n",
            "min         17.000000\n",
            "25%         29.000000\n",
            "50%         38.000000\n",
            "75%         49.000000\n",
            "max         90.000000\n",
            "Name: age, dtype: float64\n"
          ],
          "name": "stdout"
        }
      ]
    },
    {
      "cell_type": "code",
      "metadata": {
        "trusted": true,
        "_uuid": "0d76dd6753edc9e15a3ecf84d7ea9f44cf497e0d",
        "id": "iFFo0LPmveqs",
        "colab_type": "code",
        "colab": {
          "base_uri": "https://localhost:8080/",
          "height": 69
        },
        "outputId": "221eed12-b740-4c7c-bbdb-c523f00dc65b"
      },
      "source": [
        "data.loc[(data['sex'] == 'Male') &\n",
        "     (data['marital-status'].isin(['Never-married', \n",
        "                                   'Separated', \n",
        "                                   'Divorced',\n",
        "                                   'Widowed'])), 'salary'].value_counts()"
      ],
      "execution_count": 10,
      "outputs": [
        {
          "output_type": "execute_result",
          "data": {
            "text/plain": [
              "<=50K    7552\n",
              ">50K      697\n",
              "Name: salary, dtype: int64"
            ]
          },
          "metadata": {
            "tags": []
          },
          "execution_count": 10
        }
      ]
    },
    {
      "cell_type": "code",
      "metadata": {
        "trusted": true,
        "_uuid": "3ebaeb074e6cc61d190ff5c8a1f9e54ece35e166",
        "id": "Ovjs3oAnveq2",
        "colab_type": "code",
        "colab": {
          "base_uri": "https://localhost:8080/",
          "height": 69
        },
        "outputId": "4b3db881-76f9-47c2-f10f-95cabfa147ba"
      },
      "source": [
        "data.loc[(data['sex'] == 'Male') &\n",
        "     (data['marital-status'].str.startswith('Married')), 'salary'].value_counts()"
      ],
      "execution_count": 11,
      "outputs": [
        {
          "output_type": "execute_result",
          "data": {
            "text/plain": [
              "<=50K    7576\n",
              ">50K     5965\n",
              "Name: salary, dtype: int64"
            ]
          },
          "metadata": {
            "tags": []
          },
          "execution_count": 11
        }
      ]
    },
    {
      "cell_type": "code",
      "metadata": {
        "trusted": true,
        "_uuid": "6caad66a24cf60a6105f41955b14ba9f25501c87",
        "id": "RdtkTDsVveq_",
        "colab_type": "code",
        "colab": {
          "base_uri": "https://localhost:8080/",
          "height": 156
        },
        "outputId": "c6278c24-bb88-4df8-d708-5f211a292fcb"
      },
      "source": [
        "data['marital-status'].value_counts()"
      ],
      "execution_count": 12,
      "outputs": [
        {
          "output_type": "execute_result",
          "data": {
            "text/plain": [
              "Married-civ-spouse       14976\n",
              "Never-married            10683\n",
              "Divorced                  4443\n",
              "Separated                 1025\n",
              "Widowed                    993\n",
              "Married-spouse-absent      418\n",
              "Married-AF-spouse           23\n",
              "Name: marital-status, dtype: int64"
            ]
          },
          "metadata": {
            "tags": []
          },
          "execution_count": 12
        }
      ]
    },
    {
      "cell_type": "code",
      "metadata": {
        "trusted": true,
        "_uuid": "93ac2854df19a96970e330550c0e1985fb38edc4",
        "id": "ypsYK6DYverH",
        "colab_type": "code",
        "colab": {
          "base_uri": "https://localhost:8080/",
          "height": 69
        },
        "outputId": "4490936f-24d8-45f8-c621-23b14d82c56e"
      },
      "source": [
        "max_load = data['hours-per-week'].max()\n",
        "print(\"Максимальное время - {0} часов/неделя\".format(max_load))\n",
        "\n",
        "num_workaholics = data[data['hours-per-week'] == max_load].shape[0]\n",
        "print(\"Общее количество трудоголиков {0}\".format(num_workaholics))\n",
        "\n",
        "rich_share = float(data[(data['hours-per-week'] == max_load)\n",
        "                 & (data['salary'] == '>50K')].shape[0]) / num_workaholics\n",
        "print(\"Процент богатых их них {0}%\".format(int(100 * rich_share)))"
      ],
      "execution_count": 19,
      "outputs": [
        {
          "output_type": "stream",
          "text": [
            "Максимальное время - 99 часов/неделя\n",
            "Общее количество трудоголиков 85\n",
            "Процент богатых их них 29%\n"
          ],
          "name": "stdout"
        }
      ]
    },
    {
      "cell_type": "code",
      "metadata": {
        "trusted": true,
        "_uuid": "6833dda87a7268b668ddce2d94f44abbac46e8e8",
        "id": "rolCiaDVverR",
        "colab_type": "code",
        "colab": {
          "base_uri": "https://localhost:8080/",
          "height": 1000
        },
        "outputId": "fdf707c9-168b-49b3-ae1d-9d5ccdd3ec4c"
      },
      "source": [
        "for (country, salary), sub_df in data.groupby(['native-country', 'salary']):\n",
        "    print(country, salary, round(sub_df['hours-per-week'].mean(), 2))"
      ],
      "execution_count": 14,
      "outputs": [
        {
          "output_type": "stream",
          "text": [
            "? <=50K 40.16\n",
            "? >50K 45.55\n",
            "Cambodia <=50K 41.42\n",
            "Cambodia >50K 40.0\n",
            "Canada <=50K 37.91\n",
            "Canada >50K 45.64\n",
            "China <=50K 37.38\n",
            "China >50K 38.9\n",
            "Columbia <=50K 38.68\n",
            "Columbia >50K 50.0\n",
            "Cuba <=50K 37.99\n",
            "Cuba >50K 42.44\n",
            "Dominican-Republic <=50K 42.34\n",
            "Dominican-Republic >50K 47.0\n",
            "Ecuador <=50K 38.04\n",
            "Ecuador >50K 48.75\n",
            "El-Salvador <=50K 36.03\n",
            "El-Salvador >50K 45.0\n",
            "England <=50K 40.48\n",
            "England >50K 44.53\n",
            "France <=50K 41.06\n",
            "France >50K 50.75\n",
            "Germany <=50K 39.14\n",
            "Germany >50K 44.98\n",
            "Greece <=50K 41.81\n",
            "Greece >50K 50.62\n",
            "Guatemala <=50K 39.36\n",
            "Guatemala >50K 36.67\n",
            "Haiti <=50K 36.33\n",
            "Haiti >50K 42.75\n",
            "Holand-Netherlands <=50K 40.0\n",
            "Honduras <=50K 34.33\n",
            "Honduras >50K 60.0\n",
            "Hong <=50K 39.14\n",
            "Hong >50K 45.0\n",
            "Hungary <=50K 31.3\n",
            "Hungary >50K 50.0\n",
            "India <=50K 38.23\n",
            "India >50K 46.48\n",
            "Iran <=50K 41.44\n",
            "Iran >50K 47.5\n",
            "Ireland <=50K 40.95\n",
            "Ireland >50K 48.0\n",
            "Italy <=50K 39.62\n",
            "Italy >50K 45.4\n",
            "Jamaica <=50K 38.24\n",
            "Jamaica >50K 41.1\n",
            "Japan <=50K 41.0\n",
            "Japan >50K 47.96\n",
            "Laos <=50K 40.38\n",
            "Laos >50K 40.0\n",
            "Mexico <=50K 40.0\n",
            "Mexico >50K 46.58\n",
            "Nicaragua <=50K 36.09\n",
            "Nicaragua >50K 37.5\n",
            "Outlying-US(Guam-USVI-etc) <=50K 41.86\n",
            "Peru <=50K 35.07\n",
            "Peru >50K 40.0\n",
            "Philippines <=50K 38.07\n",
            "Philippines >50K 43.03\n",
            "Poland <=50K 38.17\n",
            "Poland >50K 39.0\n",
            "Portugal <=50K 41.94\n",
            "Portugal >50K 41.5\n",
            "Puerto-Rico <=50K 38.47\n",
            "Puerto-Rico >50K 39.42\n",
            "Scotland <=50K 39.44\n",
            "Scotland >50K 46.67\n",
            "South <=50K 40.16\n",
            "South >50K 51.44\n",
            "Taiwan <=50K 33.77\n",
            "Taiwan >50K 46.8\n",
            "Thailand <=50K 42.87\n",
            "Thailand >50K 58.33\n",
            "Trinadad&Tobago <=50K 37.06\n",
            "Trinadad&Tobago >50K 40.0\n",
            "United-States <=50K 38.8\n",
            "United-States >50K 45.51\n",
            "Vietnam <=50K 37.19\n",
            "Vietnam >50K 39.2\n",
            "Yugoslavia <=50K 41.6\n",
            "Yugoslavia >50K 49.5\n"
          ],
          "name": "stdout"
        }
      ]
    },
    {
      "cell_type": "code",
      "metadata": {
        "trusted": false,
        "_uuid": "214675c86e5d7eb24fe64850dc5aa2d7bbf95fa8",
        "id": "RNe3nuYJvera",
        "colab_type": "code",
        "colab": {
          "base_uri": "https://localhost:8080/",
          "height": 195
        },
        "outputId": "90e6c178-8534-4c51-b4e0-4f6f3b3ab073"
      },
      "source": [
        "pd.crosstab(data['native-country'], data['salary'], \n",
        "           values=data['hours-per-week'], aggfunc=np.mean).T"
      ],
      "execution_count": 15,
      "outputs": [
        {
          "output_type": "execute_result",
          "data": {
            "text/html": [
              "<div>\n",
              "<style scoped>\n",
              "    .dataframe tbody tr th:only-of-type {\n",
              "        vertical-align: middle;\n",
              "    }\n",
              "\n",
              "    .dataframe tbody tr th {\n",
              "        vertical-align: top;\n",
              "    }\n",
              "\n",
              "    .dataframe thead th {\n",
              "        text-align: right;\n",
              "    }\n",
              "</style>\n",
              "<table border=\"1\" class=\"dataframe\">\n",
              "  <thead>\n",
              "    <tr style=\"text-align: right;\">\n",
              "      <th>native-country</th>\n",
              "      <th>?</th>\n",
              "      <th>Cambodia</th>\n",
              "      <th>Canada</th>\n",
              "      <th>China</th>\n",
              "      <th>Columbia</th>\n",
              "      <th>Cuba</th>\n",
              "      <th>Dominican-Republic</th>\n",
              "      <th>Ecuador</th>\n",
              "      <th>El-Salvador</th>\n",
              "      <th>England</th>\n",
              "      <th>France</th>\n",
              "      <th>Germany</th>\n",
              "      <th>Greece</th>\n",
              "      <th>Guatemala</th>\n",
              "      <th>Haiti</th>\n",
              "      <th>Holand-Netherlands</th>\n",
              "      <th>Honduras</th>\n",
              "      <th>Hong</th>\n",
              "      <th>Hungary</th>\n",
              "      <th>India</th>\n",
              "      <th>Iran</th>\n",
              "      <th>Ireland</th>\n",
              "      <th>Italy</th>\n",
              "      <th>Jamaica</th>\n",
              "      <th>Japan</th>\n",
              "      <th>Laos</th>\n",
              "      <th>Mexico</th>\n",
              "      <th>Nicaragua</th>\n",
              "      <th>Outlying-US(Guam-USVI-etc)</th>\n",
              "      <th>Peru</th>\n",
              "      <th>Philippines</th>\n",
              "      <th>Poland</th>\n",
              "      <th>Portugal</th>\n",
              "      <th>Puerto-Rico</th>\n",
              "      <th>Scotland</th>\n",
              "      <th>South</th>\n",
              "      <th>Taiwan</th>\n",
              "      <th>Thailand</th>\n",
              "      <th>Trinadad&amp;Tobago</th>\n",
              "      <th>United-States</th>\n",
              "      <th>Vietnam</th>\n",
              "      <th>Yugoslavia</th>\n",
              "    </tr>\n",
              "    <tr>\n",
              "      <th>salary</th>\n",
              "      <th></th>\n",
              "      <th></th>\n",
              "      <th></th>\n",
              "      <th></th>\n",
              "      <th></th>\n",
              "      <th></th>\n",
              "      <th></th>\n",
              "      <th></th>\n",
              "      <th></th>\n",
              "      <th></th>\n",
              "      <th></th>\n",
              "      <th></th>\n",
              "      <th></th>\n",
              "      <th></th>\n",
              "      <th></th>\n",
              "      <th></th>\n",
              "      <th></th>\n",
              "      <th></th>\n",
              "      <th></th>\n",
              "      <th></th>\n",
              "      <th></th>\n",
              "      <th></th>\n",
              "      <th></th>\n",
              "      <th></th>\n",
              "      <th></th>\n",
              "      <th></th>\n",
              "      <th></th>\n",
              "      <th></th>\n",
              "      <th></th>\n",
              "      <th></th>\n",
              "      <th></th>\n",
              "      <th></th>\n",
              "      <th></th>\n",
              "      <th></th>\n",
              "      <th></th>\n",
              "      <th></th>\n",
              "      <th></th>\n",
              "      <th></th>\n",
              "      <th></th>\n",
              "      <th></th>\n",
              "      <th></th>\n",
              "      <th></th>\n",
              "    </tr>\n",
              "  </thead>\n",
              "  <tbody>\n",
              "    <tr>\n",
              "      <th>&lt;=50K</th>\n",
              "      <td>40.164760</td>\n",
              "      <td>41.416667</td>\n",
              "      <td>37.914634</td>\n",
              "      <td>37.381818</td>\n",
              "      <td>38.684211</td>\n",
              "      <td>37.985714</td>\n",
              "      <td>42.338235</td>\n",
              "      <td>38.041667</td>\n",
              "      <td>36.030928</td>\n",
              "      <td>40.483333</td>\n",
              "      <td>41.058824</td>\n",
              "      <td>39.139785</td>\n",
              "      <td>41.809524</td>\n",
              "      <td>39.360656</td>\n",
              "      <td>36.325</td>\n",
              "      <td>40.0</td>\n",
              "      <td>34.333333</td>\n",
              "      <td>39.142857</td>\n",
              "      <td>31.3</td>\n",
              "      <td>38.233333</td>\n",
              "      <td>41.44</td>\n",
              "      <td>40.947368</td>\n",
              "      <td>39.625</td>\n",
              "      <td>38.239437</td>\n",
              "      <td>41.000000</td>\n",
              "      <td>40.375</td>\n",
              "      <td>40.003279</td>\n",
              "      <td>36.09375</td>\n",
              "      <td>41.857143</td>\n",
              "      <td>35.068966</td>\n",
              "      <td>38.065693</td>\n",
              "      <td>38.166667</td>\n",
              "      <td>41.939394</td>\n",
              "      <td>38.470588</td>\n",
              "      <td>39.444444</td>\n",
              "      <td>40.15625</td>\n",
              "      <td>33.774194</td>\n",
              "      <td>42.866667</td>\n",
              "      <td>37.058824</td>\n",
              "      <td>38.799127</td>\n",
              "      <td>37.193548</td>\n",
              "      <td>41.6</td>\n",
              "    </tr>\n",
              "    <tr>\n",
              "      <th>&gt;50K</th>\n",
              "      <td>45.547945</td>\n",
              "      <td>40.000000</td>\n",
              "      <td>45.641026</td>\n",
              "      <td>38.900000</td>\n",
              "      <td>50.000000</td>\n",
              "      <td>42.440000</td>\n",
              "      <td>47.000000</td>\n",
              "      <td>48.750000</td>\n",
              "      <td>45.000000</td>\n",
              "      <td>44.533333</td>\n",
              "      <td>50.750000</td>\n",
              "      <td>44.977273</td>\n",
              "      <td>50.625000</td>\n",
              "      <td>36.666667</td>\n",
              "      <td>42.750</td>\n",
              "      <td>NaN</td>\n",
              "      <td>60.000000</td>\n",
              "      <td>45.000000</td>\n",
              "      <td>50.0</td>\n",
              "      <td>46.475000</td>\n",
              "      <td>47.50</td>\n",
              "      <td>48.000000</td>\n",
              "      <td>45.400</td>\n",
              "      <td>41.100000</td>\n",
              "      <td>47.958333</td>\n",
              "      <td>40.000</td>\n",
              "      <td>46.575758</td>\n",
              "      <td>37.50000</td>\n",
              "      <td>NaN</td>\n",
              "      <td>40.000000</td>\n",
              "      <td>43.032787</td>\n",
              "      <td>39.000000</td>\n",
              "      <td>41.500000</td>\n",
              "      <td>39.416667</td>\n",
              "      <td>46.666667</td>\n",
              "      <td>51.43750</td>\n",
              "      <td>46.800000</td>\n",
              "      <td>58.333333</td>\n",
              "      <td>40.000000</td>\n",
              "      <td>45.505369</td>\n",
              "      <td>39.200000</td>\n",
              "      <td>49.5</td>\n",
              "    </tr>\n",
              "  </tbody>\n",
              "</table>\n",
              "</div>"
            ],
            "text/plain": [
              "native-country          ?   Cambodia  ...    Vietnam  Yugoslavia\n",
              "salary                                ...                       \n",
              "<=50K           40.164760  41.416667  ...  37.193548        41.6\n",
              ">50K            45.547945  40.000000  ...  39.200000        49.5\n",
              "\n",
              "[2 rows x 42 columns]"
            ]
          },
          "metadata": {
            "tags": []
          },
          "execution_count": 15
        }
      ]
    },
    {
      "cell_type": "code",
      "metadata": {
        "id": "DzateC3zwLU5",
        "colab_type": "code",
        "colab": {}
      },
      "source": [
        ""
      ],
      "execution_count": 0,
      "outputs": []
    }
  ]
}