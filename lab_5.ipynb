{
  "nbformat": 4,
  "nbformat_minor": 0,
  "metadata": {
    "colab": {
      "name": "lab_5.ipynb",
      "provenance": [],
      "collapsed_sections": []
    },
    "kernelspec": {
      "name": "python3",
      "display_name": "Python 3"
    }
  },
  "cells": [
    {
      "cell_type": "code",
      "metadata": {
        "id": "dlxPQem6qmv0",
        "colab_type": "code",
        "colab": {
          "base_uri": "https://localhost:8080/",
          "height": 51
        },
        "outputId": "7d5386ab-c183-417f-9fbf-f6088762bc0d"
      },
      "source": [
        "import numpy as np\n",
        "import pandas as pd\n",
        "import seaborn as sns\n",
        "import matplotlib.pyplot as plt\n",
        "%matplotlib inline\n",
        "from sklearn.impute import SimpleImputer\n",
        "import pandas_profiling as pp\n",
        "import warnings\n",
        "warnings.simplefilter(\"ignore\")"
      ],
      "execution_count": 105,
      "outputs": [
        {
          "output_type": "stream",
          "text": [
            "/usr/local/lib/python3.6/dist-packages/statsmodels/tools/_testing.py:19: FutureWarning: pandas.util.testing is deprecated. Use the functions in the public API at pandas.testing instead.\n",
            "  import pandas.util.testing as tm\n"
          ],
          "name": "stderr"
        }
      ]
    },
    {
      "cell_type": "code",
      "metadata": {
        "id": "fcegEMgRswUS",
        "colab_type": "code",
        "outputId": "e18ec079-0a9d-4c4b-a71e-9e4f51097802",
        "colab": {
          "base_uri": "https://localhost:8080/",
          "height": 666
        }
      },
      "source": [
        "data = pd.read_csv('datasets_494724_1208143_COVID19_line_list_data.csv')\n",
        "data.head()"
      ],
      "execution_count": 106,
      "outputs": [
        {
          "output_type": "execute_result",
          "data": {
            "text/html": [
              "<div>\n",
              "<style scoped>\n",
              "    .dataframe tbody tr th:only-of-type {\n",
              "        vertical-align: middle;\n",
              "    }\n",
              "\n",
              "    .dataframe tbody tr th {\n",
              "        vertical-align: top;\n",
              "    }\n",
              "\n",
              "    .dataframe thead th {\n",
              "        text-align: right;\n",
              "    }\n",
              "</style>\n",
              "<table border=\"1\" class=\"dataframe\">\n",
              "  <thead>\n",
              "    <tr style=\"text-align: right;\">\n",
              "      <th></th>\n",
              "      <th>id</th>\n",
              "      <th>case_in_country</th>\n",
              "      <th>reporting date</th>\n",
              "      <th>Unnamed: 3</th>\n",
              "      <th>summary</th>\n",
              "      <th>location</th>\n",
              "      <th>country</th>\n",
              "      <th>gender</th>\n",
              "      <th>age</th>\n",
              "      <th>symptom_onset</th>\n",
              "      <th>If_onset_approximated</th>\n",
              "      <th>hosp_visit_date</th>\n",
              "      <th>exposure_start</th>\n",
              "      <th>exposure_end</th>\n",
              "      <th>visiting Wuhan</th>\n",
              "      <th>from Wuhan</th>\n",
              "      <th>death</th>\n",
              "      <th>recovered</th>\n",
              "      <th>symptom</th>\n",
              "      <th>source</th>\n",
              "      <th>link</th>\n",
              "      <th>Unnamed: 21</th>\n",
              "      <th>Unnamed: 22</th>\n",
              "      <th>Unnamed: 23</th>\n",
              "      <th>Unnamed: 24</th>\n",
              "      <th>Unnamed: 25</th>\n",
              "      <th>Unnamed: 26</th>\n",
              "    </tr>\n",
              "  </thead>\n",
              "  <tbody>\n",
              "    <tr>\n",
              "      <th>0</th>\n",
              "      <td>1</td>\n",
              "      <td>NaN</td>\n",
              "      <td>1/20/2020</td>\n",
              "      <td>NaN</td>\n",
              "      <td>First confirmed imported COVID-19 pneumonia pa...</td>\n",
              "      <td>Shenzhen, Guangdong</td>\n",
              "      <td>China</td>\n",
              "      <td>male</td>\n",
              "      <td>66.0</td>\n",
              "      <td>01/03/20</td>\n",
              "      <td>0.0</td>\n",
              "      <td>01/11/20</td>\n",
              "      <td>12/29/2019</td>\n",
              "      <td>01/04/20</td>\n",
              "      <td>1</td>\n",
              "      <td>0.0</td>\n",
              "      <td>0</td>\n",
              "      <td>0</td>\n",
              "      <td>NaN</td>\n",
              "      <td>Shenzhen Municipal Health Commission</td>\n",
              "      <td>http://wjw.sz.gov.cn/wzx/202001/t20200120_1898...</td>\n",
              "      <td>NaN</td>\n",
              "      <td>NaN</td>\n",
              "      <td>NaN</td>\n",
              "      <td>NaN</td>\n",
              "      <td>NaN</td>\n",
              "      <td>NaN</td>\n",
              "    </tr>\n",
              "    <tr>\n",
              "      <th>1</th>\n",
              "      <td>2</td>\n",
              "      <td>NaN</td>\n",
              "      <td>1/20/2020</td>\n",
              "      <td>NaN</td>\n",
              "      <td>First confirmed imported COVID-19 pneumonia pa...</td>\n",
              "      <td>Shanghai</td>\n",
              "      <td>China</td>\n",
              "      <td>female</td>\n",
              "      <td>56.0</td>\n",
              "      <td>1/15/2020</td>\n",
              "      <td>0.0</td>\n",
              "      <td>1/15/2020</td>\n",
              "      <td>NaN</td>\n",
              "      <td>01/12/20</td>\n",
              "      <td>0</td>\n",
              "      <td>1.0</td>\n",
              "      <td>0</td>\n",
              "      <td>0</td>\n",
              "      <td>NaN</td>\n",
              "      <td>Official Weibo of Shanghai Municipal Health Co...</td>\n",
              "      <td>https://www.weibo.com/2372649470/IqogQhgfa?fro...</td>\n",
              "      <td>NaN</td>\n",
              "      <td>NaN</td>\n",
              "      <td>NaN</td>\n",
              "      <td>NaN</td>\n",
              "      <td>NaN</td>\n",
              "      <td>NaN</td>\n",
              "    </tr>\n",
              "    <tr>\n",
              "      <th>2</th>\n",
              "      <td>3</td>\n",
              "      <td>NaN</td>\n",
              "      <td>1/21/2020</td>\n",
              "      <td>NaN</td>\n",
              "      <td>First confirmed imported cases in Zhejiang: pa...</td>\n",
              "      <td>Zhejiang</td>\n",
              "      <td>China</td>\n",
              "      <td>male</td>\n",
              "      <td>46.0</td>\n",
              "      <td>01/04/20</td>\n",
              "      <td>0.0</td>\n",
              "      <td>1/17/2020</td>\n",
              "      <td>NaN</td>\n",
              "      <td>01/03/20</td>\n",
              "      <td>0</td>\n",
              "      <td>1.0</td>\n",
              "      <td>0</td>\n",
              "      <td>0</td>\n",
              "      <td>NaN</td>\n",
              "      <td>Health Commission of Zhejiang Province</td>\n",
              "      <td>http://www.zjwjw.gov.cn/art/2020/1/21/art_1202...</td>\n",
              "      <td>NaN</td>\n",
              "      <td>NaN</td>\n",
              "      <td>NaN</td>\n",
              "      <td>NaN</td>\n",
              "      <td>NaN</td>\n",
              "      <td>NaN</td>\n",
              "    </tr>\n",
              "    <tr>\n",
              "      <th>3</th>\n",
              "      <td>4</td>\n",
              "      <td>NaN</td>\n",
              "      <td>1/21/2020</td>\n",
              "      <td>NaN</td>\n",
              "      <td>new confirmed imported COVID-19 pneumonia in T...</td>\n",
              "      <td>Tianjin</td>\n",
              "      <td>China</td>\n",
              "      <td>female</td>\n",
              "      <td>60.0</td>\n",
              "      <td>NaN</td>\n",
              "      <td>NaN</td>\n",
              "      <td>1/19/2020</td>\n",
              "      <td>NaN</td>\n",
              "      <td>NaN</td>\n",
              "      <td>1</td>\n",
              "      <td>0.0</td>\n",
              "      <td>0</td>\n",
              "      <td>0</td>\n",
              "      <td>NaN</td>\n",
              "      <td>人民日报官方微博</td>\n",
              "      <td>https://m.weibo.cn/status/4463235401268457?</td>\n",
              "      <td>NaN</td>\n",
              "      <td>NaN</td>\n",
              "      <td>NaN</td>\n",
              "      <td>NaN</td>\n",
              "      <td>NaN</td>\n",
              "      <td>NaN</td>\n",
              "    </tr>\n",
              "    <tr>\n",
              "      <th>4</th>\n",
              "      <td>5</td>\n",
              "      <td>NaN</td>\n",
              "      <td>1/21/2020</td>\n",
              "      <td>NaN</td>\n",
              "      <td>new confirmed imported COVID-19 pneumonia in T...</td>\n",
              "      <td>Tianjin</td>\n",
              "      <td>China</td>\n",
              "      <td>male</td>\n",
              "      <td>58.0</td>\n",
              "      <td>NaN</td>\n",
              "      <td>NaN</td>\n",
              "      <td>1/14/2020</td>\n",
              "      <td>NaN</td>\n",
              "      <td>NaN</td>\n",
              "      <td>0</td>\n",
              "      <td>0.0</td>\n",
              "      <td>0</td>\n",
              "      <td>0</td>\n",
              "      <td>NaN</td>\n",
              "      <td>人民日报官方微博</td>\n",
              "      <td>https://m.weibo.cn/status/4463235401268457?</td>\n",
              "      <td>NaN</td>\n",
              "      <td>NaN</td>\n",
              "      <td>NaN</td>\n",
              "      <td>NaN</td>\n",
              "      <td>NaN</td>\n",
              "      <td>NaN</td>\n",
              "    </tr>\n",
              "  </tbody>\n",
              "</table>\n",
              "</div>"
            ],
            "text/plain": [
              "   id  case_in_country reporting date  ...  Unnamed: 24 Unnamed: 25 Unnamed: 26\n",
              "0   1              NaN      1/20/2020  ...          NaN         NaN         NaN\n",
              "1   2              NaN      1/20/2020  ...          NaN         NaN         NaN\n",
              "2   3              NaN      1/21/2020  ...          NaN         NaN         NaN\n",
              "3   4              NaN      1/21/2020  ...          NaN         NaN         NaN\n",
              "4   5              NaN      1/21/2020  ...          NaN         NaN         NaN\n",
              "\n",
              "[5 rows x 27 columns]"
            ]
          },
          "metadata": {
            "tags": []
          },
          "execution_count": 106
        }
      ]
    },
    {
      "cell_type": "code",
      "metadata": {
        "id": "EkQkJT7utJTR",
        "colab_type": "code",
        "outputId": "41055357-6e8e-4b0e-a64f-44527251e1d7",
        "colab": {
          "base_uri": "https://localhost:8080/",
          "height": 493
        }
      },
      "source": [
        "# проверим есть ли пропущенные значения\n",
        "data.isnull().sum()"
      ],
      "execution_count": 107,
      "outputs": [
        {
          "output_type": "execute_result",
          "data": {
            "text/plain": [
              "id                          0\n",
              "case_in_country           197\n",
              "reporting date              1\n",
              "Unnamed: 3               1085\n",
              "summary                     5\n",
              "location                    0\n",
              "country                     0\n",
              "gender                    183\n",
              "age                       242\n",
              "symptom_onset             522\n",
              "If_onset_approximated     525\n",
              "hosp_visit_date           578\n",
              "exposure_start            957\n",
              "exposure_end              744\n",
              "visiting Wuhan              0\n",
              "from Wuhan                  4\n",
              "death                       0\n",
              "recovered                   0\n",
              "symptom                   815\n",
              "source                      0\n",
              "link                        0\n",
              "Unnamed: 21              1085\n",
              "Unnamed: 22              1085\n",
              "Unnamed: 23              1085\n",
              "Unnamed: 24              1085\n",
              "Unnamed: 25              1085\n",
              "Unnamed: 26              1085\n",
              "dtype: int64"
            ]
          },
          "metadata": {
            "tags": []
          },
          "execution_count": 107
        }
      ]
    },
    {
      "cell_type": "code",
      "metadata": {
        "id": "gFSJTbx65lDD",
        "colab_type": "code",
        "outputId": "1a3ef87a-ca99-462c-b2ef-7cd0cc609ef2",
        "colab": {
          "base_uri": "https://localhost:8080/",
          "height": 34
        }
      },
      "source": [
        "# Удаление колонок, содержащих пустые значения\n",
        "data_new_1 = data.drop(columns=['Unnamed: 21','link','source', 'summary','reporting date','Unnamed: 22','Unnamed: 23','Unnamed: 24','Unnamed: 25','symptom','Unnamed: 26', 'Unnamed: 3','symptom_onset','If_onset_approximated','hosp_visit_date','exposure_start', 'exposure_end'])\n",
        "(data.shape, data_new_1.shape)"
      ],
      "execution_count": 108,
      "outputs": [
        {
          "output_type": "execute_result",
          "data": {
            "text/plain": [
              "((1085, 27), (1085, 10))"
            ]
          },
          "metadata": {
            "tags": []
          },
          "execution_count": 108
        }
      ]
    },
    {
      "cell_type": "code",
      "metadata": {
        "id": "nViO-qvF6p_W",
        "colab_type": "code",
        "outputId": "a896d433-aa21-4e4d-a309-2dd16df64f5a",
        "colab": {
          "base_uri": "https://localhost:8080/",
          "height": 204
        }
      },
      "source": [
        "data_new_1.head()"
      ],
      "execution_count": 109,
      "outputs": [
        {
          "output_type": "execute_result",
          "data": {
            "text/html": [
              "<div>\n",
              "<style scoped>\n",
              "    .dataframe tbody tr th:only-of-type {\n",
              "        vertical-align: middle;\n",
              "    }\n",
              "\n",
              "    .dataframe tbody tr th {\n",
              "        vertical-align: top;\n",
              "    }\n",
              "\n",
              "    .dataframe thead th {\n",
              "        text-align: right;\n",
              "    }\n",
              "</style>\n",
              "<table border=\"1\" class=\"dataframe\">\n",
              "  <thead>\n",
              "    <tr style=\"text-align: right;\">\n",
              "      <th></th>\n",
              "      <th>id</th>\n",
              "      <th>case_in_country</th>\n",
              "      <th>location</th>\n",
              "      <th>country</th>\n",
              "      <th>gender</th>\n",
              "      <th>age</th>\n",
              "      <th>visiting Wuhan</th>\n",
              "      <th>from Wuhan</th>\n",
              "      <th>death</th>\n",
              "      <th>recovered</th>\n",
              "    </tr>\n",
              "  </thead>\n",
              "  <tbody>\n",
              "    <tr>\n",
              "      <th>0</th>\n",
              "      <td>1</td>\n",
              "      <td>NaN</td>\n",
              "      <td>Shenzhen, Guangdong</td>\n",
              "      <td>China</td>\n",
              "      <td>male</td>\n",
              "      <td>66.0</td>\n",
              "      <td>1</td>\n",
              "      <td>0.0</td>\n",
              "      <td>0</td>\n",
              "      <td>0</td>\n",
              "    </tr>\n",
              "    <tr>\n",
              "      <th>1</th>\n",
              "      <td>2</td>\n",
              "      <td>NaN</td>\n",
              "      <td>Shanghai</td>\n",
              "      <td>China</td>\n",
              "      <td>female</td>\n",
              "      <td>56.0</td>\n",
              "      <td>0</td>\n",
              "      <td>1.0</td>\n",
              "      <td>0</td>\n",
              "      <td>0</td>\n",
              "    </tr>\n",
              "    <tr>\n",
              "      <th>2</th>\n",
              "      <td>3</td>\n",
              "      <td>NaN</td>\n",
              "      <td>Zhejiang</td>\n",
              "      <td>China</td>\n",
              "      <td>male</td>\n",
              "      <td>46.0</td>\n",
              "      <td>0</td>\n",
              "      <td>1.0</td>\n",
              "      <td>0</td>\n",
              "      <td>0</td>\n",
              "    </tr>\n",
              "    <tr>\n",
              "      <th>3</th>\n",
              "      <td>4</td>\n",
              "      <td>NaN</td>\n",
              "      <td>Tianjin</td>\n",
              "      <td>China</td>\n",
              "      <td>female</td>\n",
              "      <td>60.0</td>\n",
              "      <td>1</td>\n",
              "      <td>0.0</td>\n",
              "      <td>0</td>\n",
              "      <td>0</td>\n",
              "    </tr>\n",
              "    <tr>\n",
              "      <th>4</th>\n",
              "      <td>5</td>\n",
              "      <td>NaN</td>\n",
              "      <td>Tianjin</td>\n",
              "      <td>China</td>\n",
              "      <td>male</td>\n",
              "      <td>58.0</td>\n",
              "      <td>0</td>\n",
              "      <td>0.0</td>\n",
              "      <td>0</td>\n",
              "      <td>0</td>\n",
              "    </tr>\n",
              "  </tbody>\n",
              "</table>\n",
              "</div>"
            ],
            "text/plain": [
              "   id  case_in_country             location  ... from Wuhan death  recovered\n",
              "0   1              NaN  Shenzhen, Guangdong  ...        0.0     0          0\n",
              "1   2              NaN             Shanghai  ...        1.0     0          0\n",
              "2   3              NaN             Zhejiang  ...        1.0     0          0\n",
              "3   4              NaN              Tianjin  ...        0.0     0          0\n",
              "4   5              NaN              Tianjin  ...        0.0     0          0\n",
              "\n",
              "[5 rows x 10 columns]"
            ]
          },
          "metadata": {
            "tags": []
          },
          "execution_count": 109
        }
      ]
    },
    {
      "cell_type": "code",
      "metadata": {
        "id": "uG3QO4Ej6-6Y",
        "colab_type": "code",
        "outputId": "020e9734-87bc-4f2a-a9fb-5ebfc5c31daf",
        "colab": {
          "base_uri": "https://localhost:8080/",
          "height": 204
        }
      },
      "source": [
        "data_new_1.isnull().sum()"
      ],
      "execution_count": 110,
      "outputs": [
        {
          "output_type": "execute_result",
          "data": {
            "text/plain": [
              "id                   0\n",
              "case_in_country    197\n",
              "location             0\n",
              "country              0\n",
              "gender             183\n",
              "age                242\n",
              "visiting Wuhan       0\n",
              "from Wuhan           4\n",
              "death                0\n",
              "recovered            0\n",
              "dtype: int64"
            ]
          },
          "metadata": {
            "tags": []
          },
          "execution_count": 110
        }
      ]
    },
    {
      "cell_type": "code",
      "metadata": {
        "id": "z379L5XW_oXh",
        "colab_type": "code",
        "outputId": "5089345f-b903-4a5d-c481-6890ddd11819",
        "colab": {
          "base_uri": "https://localhost:8080/",
          "height": 34
        }
      },
      "source": [
        "# Удаление строки, содержащих пустые значения\n",
        "data_new_2 = data_new_1.dropna(axis=0,how='any',subset=['case_in_country','gender', 'age'])\n",
        "(data_new_1.shape, data_new_2.shape)"
      ],
      "execution_count": 111,
      "outputs": [
        {
          "output_type": "execute_result",
          "data": {
            "text/plain": [
              "((1085, 10), (635, 10))"
            ]
          },
          "metadata": {
            "tags": []
          },
          "execution_count": 111
        }
      ]
    },
    {
      "cell_type": "code",
      "metadata": {
        "id": "TI2zE8Tt_87M",
        "colab_type": "code",
        "outputId": "b765f369-c0f0-4336-b6f7-718b7d369e13",
        "colab": {
          "base_uri": "https://localhost:8080/",
          "height": 204
        }
      },
      "source": [
        "data_new_2.head()"
      ],
      "execution_count": 112,
      "outputs": [
        {
          "output_type": "execute_result",
          "data": {
            "text/html": [
              "<div>\n",
              "<style scoped>\n",
              "    .dataframe tbody tr th:only-of-type {\n",
              "        vertical-align: middle;\n",
              "    }\n",
              "\n",
              "    .dataframe tbody tr th {\n",
              "        vertical-align: top;\n",
              "    }\n",
              "\n",
              "    .dataframe thead th {\n",
              "        text-align: right;\n",
              "    }\n",
              "</style>\n",
              "<table border=\"1\" class=\"dataframe\">\n",
              "  <thead>\n",
              "    <tr style=\"text-align: right;\">\n",
              "      <th></th>\n",
              "      <th>id</th>\n",
              "      <th>case_in_country</th>\n",
              "      <th>location</th>\n",
              "      <th>country</th>\n",
              "      <th>gender</th>\n",
              "      <th>age</th>\n",
              "      <th>visiting Wuhan</th>\n",
              "      <th>from Wuhan</th>\n",
              "      <th>death</th>\n",
              "      <th>recovered</th>\n",
              "    </tr>\n",
              "  </thead>\n",
              "  <tbody>\n",
              "    <tr>\n",
              "      <th>197</th>\n",
              "      <td>198</td>\n",
              "      <td>1.0</td>\n",
              "      <td>Bordeaux</td>\n",
              "      <td>France</td>\n",
              "      <td>male</td>\n",
              "      <td>48.0</td>\n",
              "      <td>1</td>\n",
              "      <td>0.0</td>\n",
              "      <td>0</td>\n",
              "      <td>0</td>\n",
              "    </tr>\n",
              "    <tr>\n",
              "      <th>198</th>\n",
              "      <td>199</td>\n",
              "      <td>2.0</td>\n",
              "      <td>Paris</td>\n",
              "      <td>France</td>\n",
              "      <td>male</td>\n",
              "      <td>31.0</td>\n",
              "      <td>0</td>\n",
              "      <td>1.0</td>\n",
              "      <td>0</td>\n",
              "      <td>02/12/20</td>\n",
              "    </tr>\n",
              "    <tr>\n",
              "      <th>199</th>\n",
              "      <td>200</td>\n",
              "      <td>3.0</td>\n",
              "      <td>Paris</td>\n",
              "      <td>France</td>\n",
              "      <td>female</td>\n",
              "      <td>30.0</td>\n",
              "      <td>0</td>\n",
              "      <td>1.0</td>\n",
              "      <td>0</td>\n",
              "      <td>02/12/20</td>\n",
              "    </tr>\n",
              "    <tr>\n",
              "      <th>200</th>\n",
              "      <td>201</td>\n",
              "      <td>4.0</td>\n",
              "      <td>Paris</td>\n",
              "      <td>France</td>\n",
              "      <td>male</td>\n",
              "      <td>80.0</td>\n",
              "      <td>0</td>\n",
              "      <td>1.0</td>\n",
              "      <td>2/14/2020</td>\n",
              "      <td>0</td>\n",
              "    </tr>\n",
              "    <tr>\n",
              "      <th>209</th>\n",
              "      <td>210</td>\n",
              "      <td>13.0</td>\n",
              "      <td>Paris</td>\n",
              "      <td>France</td>\n",
              "      <td>female</td>\n",
              "      <td>33.0</td>\n",
              "      <td>0</td>\n",
              "      <td>0.0</td>\n",
              "      <td>0</td>\n",
              "      <td>0</td>\n",
              "    </tr>\n",
              "  </tbody>\n",
              "</table>\n",
              "</div>"
            ],
            "text/plain": [
              "      id  case_in_country  location  ... from Wuhan      death  recovered\n",
              "197  198              1.0  Bordeaux  ...        0.0          0          0\n",
              "198  199              2.0     Paris  ...        1.0          0   02/12/20\n",
              "199  200              3.0     Paris  ...        1.0          0   02/12/20\n",
              "200  201              4.0     Paris  ...        1.0  2/14/2020          0\n",
              "209  210             13.0     Paris  ...        0.0          0          0\n",
              "\n",
              "[5 rows x 10 columns]"
            ]
          },
          "metadata": {
            "tags": []
          },
          "execution_count": 112
        }
      ]
    },
    {
      "cell_type": "code",
      "metadata": {
        "id": "2LfxkVn-M_co",
        "colab_type": "code",
        "outputId": "4f6009ab-d979-4375-bff1-e0dc829422ec",
        "colab": {
          "base_uri": "https://localhost:8080/",
          "height": 34
        }
      },
      "source": [
        "data_new_2.shape[0]"
      ],
      "execution_count": 113,
      "outputs": [
        {
          "output_type": "execute_result",
          "data": {
            "text/plain": [
              "635"
            ]
          },
          "metadata": {
            "tags": []
          },
          "execution_count": 113
        }
      ]
    },
    {
      "cell_type": "code",
      "metadata": {
        "id": "lJplNe7AAIDE",
        "colab_type": "code",
        "colab": {}
      },
      "source": [
        "data_new_2['death'] = data_new_2['death'].apply(lambda x: 0 if x=='0' else 1)"
      ],
      "execution_count": 0,
      "outputs": []
    },
    {
      "cell_type": "code",
      "metadata": {
        "id": "O-pJ4lEgFJAQ",
        "colab_type": "code",
        "colab": {}
      },
      "source": [
        "data_new_2['recovered'] = data_new_2['recovered'].apply(lambda x: 0 if x=='0' else 1)"
      ],
      "execution_count": 0,
      "outputs": []
    },
    {
      "cell_type": "code",
      "metadata": {
        "id": "toLWaaidU6p9",
        "colab_type": "code",
        "outputId": "33cdcacb-86b8-4583-fd03-22d93d5f308f",
        "colab": {
          "base_uri": "https://localhost:8080/",
          "height": 419
        }
      },
      "source": [
        "data_new_2"
      ],
      "execution_count": 116,
      "outputs": [
        {
          "output_type": "execute_result",
          "data": {
            "text/html": [
              "<div>\n",
              "<style scoped>\n",
              "    .dataframe tbody tr th:only-of-type {\n",
              "        vertical-align: middle;\n",
              "    }\n",
              "\n",
              "    .dataframe tbody tr th {\n",
              "        vertical-align: top;\n",
              "    }\n",
              "\n",
              "    .dataframe thead th {\n",
              "        text-align: right;\n",
              "    }\n",
              "</style>\n",
              "<table border=\"1\" class=\"dataframe\">\n",
              "  <thead>\n",
              "    <tr style=\"text-align: right;\">\n",
              "      <th></th>\n",
              "      <th>id</th>\n",
              "      <th>case_in_country</th>\n",
              "      <th>location</th>\n",
              "      <th>country</th>\n",
              "      <th>gender</th>\n",
              "      <th>age</th>\n",
              "      <th>visiting Wuhan</th>\n",
              "      <th>from Wuhan</th>\n",
              "      <th>death</th>\n",
              "      <th>recovered</th>\n",
              "    </tr>\n",
              "  </thead>\n",
              "  <tbody>\n",
              "    <tr>\n",
              "      <th>197</th>\n",
              "      <td>198</td>\n",
              "      <td>1.0</td>\n",
              "      <td>Bordeaux</td>\n",
              "      <td>France</td>\n",
              "      <td>male</td>\n",
              "      <td>48.0</td>\n",
              "      <td>1</td>\n",
              "      <td>0.0</td>\n",
              "      <td>0</td>\n",
              "      <td>0</td>\n",
              "    </tr>\n",
              "    <tr>\n",
              "      <th>198</th>\n",
              "      <td>199</td>\n",
              "      <td>2.0</td>\n",
              "      <td>Paris</td>\n",
              "      <td>France</td>\n",
              "      <td>male</td>\n",
              "      <td>31.0</td>\n",
              "      <td>0</td>\n",
              "      <td>1.0</td>\n",
              "      <td>0</td>\n",
              "      <td>1</td>\n",
              "    </tr>\n",
              "    <tr>\n",
              "      <th>199</th>\n",
              "      <td>200</td>\n",
              "      <td>3.0</td>\n",
              "      <td>Paris</td>\n",
              "      <td>France</td>\n",
              "      <td>female</td>\n",
              "      <td>30.0</td>\n",
              "      <td>0</td>\n",
              "      <td>1.0</td>\n",
              "      <td>0</td>\n",
              "      <td>1</td>\n",
              "    </tr>\n",
              "    <tr>\n",
              "      <th>200</th>\n",
              "      <td>201</td>\n",
              "      <td>4.0</td>\n",
              "      <td>Paris</td>\n",
              "      <td>France</td>\n",
              "      <td>male</td>\n",
              "      <td>80.0</td>\n",
              "      <td>0</td>\n",
              "      <td>1.0</td>\n",
              "      <td>1</td>\n",
              "      <td>0</td>\n",
              "    </tr>\n",
              "    <tr>\n",
              "      <th>209</th>\n",
              "      <td>210</td>\n",
              "      <td>13.0</td>\n",
              "      <td>Paris</td>\n",
              "      <td>France</td>\n",
              "      <td>female</td>\n",
              "      <td>33.0</td>\n",
              "      <td>0</td>\n",
              "      <td>0.0</td>\n",
              "      <td>0</td>\n",
              "      <td>0</td>\n",
              "    </tr>\n",
              "    <tr>\n",
              "      <th>...</th>\n",
              "      <td>...</td>\n",
              "      <td>...</td>\n",
              "      <td>...</td>\n",
              "      <td>...</td>\n",
              "      <td>...</td>\n",
              "      <td>...</td>\n",
              "      <td>...</td>\n",
              "      <td>...</td>\n",
              "      <td>...</td>\n",
              "      <td>...</td>\n",
              "    </tr>\n",
              "    <tr>\n",
              "      <th>1027</th>\n",
              "      <td>1028</td>\n",
              "      <td>32.0</td>\n",
              "      <td>Andalusia</td>\n",
              "      <td>Spain</td>\n",
              "      <td>male</td>\n",
              "      <td>58.0</td>\n",
              "      <td>0</td>\n",
              "      <td>0.0</td>\n",
              "      <td>0</td>\n",
              "      <td>0</td>\n",
              "    </tr>\n",
              "    <tr>\n",
              "      <th>1029</th>\n",
              "      <td>1030</td>\n",
              "      <td>34.0</td>\n",
              "      <td>Zaragoza</td>\n",
              "      <td>Spain</td>\n",
              "      <td>female</td>\n",
              "      <td>27.0</td>\n",
              "      <td>0</td>\n",
              "      <td>0.0</td>\n",
              "      <td>0</td>\n",
              "      <td>0</td>\n",
              "    </tr>\n",
              "    <tr>\n",
              "      <th>1030</th>\n",
              "      <td>1031</td>\n",
              "      <td>1.0</td>\n",
              "      <td>Jonkoping</td>\n",
              "      <td>Sweden</td>\n",
              "      <td>female</td>\n",
              "      <td>25.0</td>\n",
              "      <td>1</td>\n",
              "      <td>0.0</td>\n",
              "      <td>0</td>\n",
              "      <td>0</td>\n",
              "    </tr>\n",
              "    <tr>\n",
              "      <th>1052</th>\n",
              "      <td>1053</td>\n",
              "      <td>1.0</td>\n",
              "      <td>Lebanon</td>\n",
              "      <td>Lebanon</td>\n",
              "      <td>female</td>\n",
              "      <td>45.0</td>\n",
              "      <td>0</td>\n",
              "      <td>0.0</td>\n",
              "      <td>0</td>\n",
              "      <td>0</td>\n",
              "    </tr>\n",
              "    <tr>\n",
              "      <th>1084</th>\n",
              "      <td>1085</td>\n",
              "      <td>1.0</td>\n",
              "      <td>Bern</td>\n",
              "      <td>Switzerland</td>\n",
              "      <td>male</td>\n",
              "      <td>70.0</td>\n",
              "      <td>0</td>\n",
              "      <td>0.0</td>\n",
              "      <td>0</td>\n",
              "      <td>0</td>\n",
              "    </tr>\n",
              "  </tbody>\n",
              "</table>\n",
              "<p>635 rows × 10 columns</p>\n",
              "</div>"
            ],
            "text/plain": [
              "        id  case_in_country   location  ... from Wuhan death  recovered\n",
              "197    198              1.0   Bordeaux  ...        0.0     0          0\n",
              "198    199              2.0      Paris  ...        1.0     0          1\n",
              "199    200              3.0      Paris  ...        1.0     0          1\n",
              "200    201              4.0      Paris  ...        1.0     1          0\n",
              "209    210             13.0      Paris  ...        0.0     0          0\n",
              "...    ...              ...        ...  ...        ...   ...        ...\n",
              "1027  1028             32.0  Andalusia  ...        0.0     0          0\n",
              "1029  1030             34.0   Zaragoza  ...        0.0     0          0\n",
              "1030  1031              1.0  Jonkoping  ...        0.0     0          0\n",
              "1052  1053              1.0    Lebanon  ...        0.0     0          0\n",
              "1084  1085              1.0       Bern  ...        0.0     0          0\n",
              "\n",
              "[635 rows x 10 columns]"
            ]
          },
          "metadata": {
            "tags": []
          },
          "execution_count": 116
        }
      ]
    },
    {
      "cell_type": "code",
      "metadata": {
        "id": "nXy26j8qVtvx",
        "colab_type": "code",
        "colab": {
          "base_uri": "https://localhost:8080/",
          "height": 34
        },
        "outputId": "8497abed-f675-419f-ac30-3b30b1ad66fd"
      },
      "source": [
        "data = pd.get_dummies(data_new_2)\n",
        "data = data.drop(columns=['id','case_in_country'])\n",
        "(data.shape, data.shape)"
      ],
      "execution_count": 212,
      "outputs": [
        {
          "output_type": "execute_result",
          "data": {
            "text/plain": [
              "((635, 118), (635, 118))"
            ]
          },
          "metadata": {
            "tags": []
          },
          "execution_count": 212
        }
      ]
    },
    {
      "cell_type": "code",
      "metadata": {
        "id": "LE19NBkrV-Xr",
        "colab_type": "code",
        "colab": {}
      },
      "source": [
        "from sklearn.model_selection import train_test_split"
      ],
      "execution_count": 0,
      "outputs": []
    },
    {
      "cell_type": "code",
      "metadata": {
        "id": "RC7Ewq7fkNcs",
        "colab_type": "code",
        "outputId": "7256b20c-5800-4623-c65e-1c638df291fc",
        "colab": {
          "base_uri": "https://localhost:8080/",
          "height": 51
        }
      },
      "source": [
        "y = data.death\n",
        "data.drop('death', axis=1, inplace=True)\n",
        "X_cov, X_test, y_cov, y_test = train_test_split(data, y, test_size=0.2)\n",
        "print (X_cov.shape, y_cov.shape)\n",
        "print (X_test.shape, y_test.shape)"
      ],
      "execution_count": 214,
      "outputs": [
        {
          "output_type": "stream",
          "text": [
            "(508, 117) (508,)\n",
            "(127, 117) (127,)\n"
          ],
          "name": "stdout"
        }
      ]
    },
    {
      "cell_type": "markdown",
      "metadata": {
        "id": "asyaGpVFim6M",
        "colab_type": "text"
      },
      "source": [
        "Обучение модели"
      ]
    },
    {
      "cell_type": "code",
      "metadata": {
        "id": "eKlFp-2QaHnt",
        "colab_type": "code",
        "colab": {}
      },
      "source": [
        "from sklearn.neighbors import KNeighborsClassifier"
      ],
      "execution_count": 0,
      "outputs": []
    },
    {
      "cell_type": "code",
      "metadata": {
        "id": "Lrol1zQHgI1e",
        "colab_type": "code",
        "colab": {}
      },
      "source": [
        "KNeighborsClassifierObj = KNeighborsClassifier(n_neighbors=10)"
      ],
      "execution_count": 0,
      "outputs": []
    },
    {
      "cell_type": "code",
      "metadata": {
        "id": "ely16ygYiirV",
        "colab_type": "code",
        "outputId": "44bca647-fe2b-42ec-e4fc-71ffe8de7f5a",
        "colab": {
          "base_uri": "https://localhost:8080/",
          "height": 68
        }
      },
      "source": [
        "KNeighborsClassifierObj.fit(X_cov, y_cov)"
      ],
      "execution_count": 217,
      "outputs": [
        {
          "output_type": "execute_result",
          "data": {
            "text/plain": [
              "KNeighborsClassifier(algorithm='auto', leaf_size=30, metric='minkowski',\n",
              "                     metric_params=None, n_jobs=None, n_neighbors=10, p=2,\n",
              "                     weights='uniform')"
            ]
          },
          "metadata": {
            "tags": []
          },
          "execution_count": 217
        }
      ]
    },
    {
      "cell_type": "code",
      "metadata": {
        "id": "MgTniMYQmZZ3",
        "colab_type": "code",
        "colab": {}
      },
      "source": [
        "y_predicted = KNeighborsClassifierObj.predict(X_test)"
      ],
      "execution_count": 0,
      "outputs": []
    },
    {
      "cell_type": "markdown",
      "metadata": {
        "id": "7a4ulP28oOFP",
        "colab_type": "text"
      },
      "source": [
        "Метрика качества"
      ]
    },
    {
      "cell_type": "code",
      "metadata": {
        "id": "gH5PxCetnYCc",
        "colab_type": "code",
        "colab": {}
      },
      "source": [
        "from sklearn.metrics import accuracy_score, balanced_accuracy_score, precision_score, f1_score, classification_report"
      ],
      "execution_count": 0,
      "outputs": []
    },
    {
      "cell_type": "code",
      "metadata": {
        "id": "1aPCCxk5oRyx",
        "colab_type": "code",
        "outputId": "bd70173d-e623-4619-8cd7-6c9fc175169e",
        "colab": {
          "base_uri": "https://localhost:8080/",
          "height": 34
        }
      },
      "source": [
        "accuracy_score(y_test, y_predicted)"
      ],
      "execution_count": 220,
      "outputs": [
        {
          "output_type": "execute_result",
          "data": {
            "text/plain": [
              "0.9606299212598425"
            ]
          },
          "metadata": {
            "tags": []
          },
          "execution_count": 220
        }
      ]
    },
    {
      "cell_type": "code",
      "metadata": {
        "id": "R-yIJSG2oToR",
        "colab_type": "code",
        "outputId": "ed853778-ecf4-4e28-a561-00cfd69e5038",
        "colab": {
          "base_uri": "https://localhost:8080/",
          "height": 34
        }
      },
      "source": [
        "precision_score(y_test, y_predicted)"
      ],
      "execution_count": 221,
      "outputs": [
        {
          "output_type": "execute_result",
          "data": {
            "text/plain": [
              "0.0"
            ]
          },
          "metadata": {
            "tags": []
          },
          "execution_count": 221
        }
      ]
    },
    {
      "cell_type": "markdown",
      "metadata": {
        "id": "iYEYt07rqbtA",
        "colab_type": "text"
      },
      "source": [
        "Смертность не зависит от других параметров."
      ]
    },
    {
      "cell_type": "code",
      "metadata": {
        "id": "w4g9uJbAoZcA",
        "colab_type": "code",
        "outputId": "fe7e0bcb-4bd3-43aa-bad1-0cbdd8563066",
        "colab": {
          "base_uri": "https://localhost:8080/",
          "height": 255
        }
      },
      "source": [
        "classification_report(y_test, y_predicted, output_dict = True)"
      ],
      "execution_count": 222,
      "outputs": [
        {
          "output_type": "execute_result",
          "data": {
            "text/plain": [
              "{'0': {'f1-score': 0.9799196787148594,\n",
              "  'precision': 0.9606299212598425,\n",
              "  'recall': 1.0,\n",
              "  'support': 122},\n",
              " '1': {'f1-score': 0.0, 'precision': 0.0, 'recall': 0.0, 'support': 5},\n",
              " 'accuracy': 0.9606299212598425,\n",
              " 'macro avg': {'f1-score': 0.4899598393574297,\n",
              "  'precision': 0.48031496062992124,\n",
              "  'recall': 0.5,\n",
              "  'support': 127},\n",
              " 'weighted avg': {'f1-score': 0.9413401638048255,\n",
              "  'precision': 0.9228098456196913,\n",
              "  'recall': 0.9606299212598425,\n",
              "  'support': 127}}"
            ]
          },
          "metadata": {
            "tags": []
          },
          "execution_count": 222
        }
      ]
    },
    {
      "cell_type": "markdown",
      "metadata": {
        "id": "QGAvt0_Sojv4",
        "colab_type": "text"
      },
      "source": [
        "Кросс-валидация"
      ]
    },
    {
      "cell_type": "code",
      "metadata": {
        "id": "qipK-vDiohLT",
        "colab_type": "code",
        "colab": {}
      },
      "source": [
        "from sklearn.model_selection import cross_val_score"
      ],
      "execution_count": 0,
      "outputs": []
    },
    {
      "cell_type": "code",
      "metadata": {
        "id": "bQ0zM5dzomlE",
        "colab_type": "code",
        "outputId": "3505c973-13f5-4f7f-bf2b-ffc73f5289d0",
        "colab": {
          "base_uri": "https://localhost:8080/",
          "height": 34
        }
      },
      "source": [
        "scores = cross_val_score(KNeighborsClassifierObj, \n",
        "                         X_cov, y_cov, cv=3,\n",
        "                        scoring='f1_weighted')\n",
        "scores, np.mean(scores)"
      ],
      "execution_count": 224,
      "outputs": [
        {
          "output_type": "execute_result",
          "data": {
            "text/plain": [
              "(array([0.95610184, 0.96463877, 0.95584342]), 0.9588613436340419)"
            ]
          },
          "metadata": {
            "tags": []
          },
          "execution_count": 224
        }
      ]
    },
    {
      "cell_type": "markdown",
      "metadata": {
        "id": "pM24vegUo4jf",
        "colab_type": "text"
      },
      "source": [
        "Подбор гиперпараметров\n"
      ]
    },
    {
      "cell_type": "code",
      "metadata": {
        "id": "-hEQSVMeo0aj",
        "colab_type": "code",
        "colab": {}
      },
      "source": [
        "from sklearn.model_selection import GridSearchCV"
      ],
      "execution_count": 0,
      "outputs": []
    },
    {
      "cell_type": "code",
      "metadata": {
        "id": "m4B15bDNo681",
        "colab_type": "code",
        "colab": {}
      },
      "source": [
        "n_range = np.array(range(5,55,5))\n",
        "tuned_parameters = [{'n_neighbors': n_range}]"
      ],
      "execution_count": 0,
      "outputs": []
    },
    {
      "cell_type": "code",
      "metadata": {
        "id": "4eXkWHAAo8l0",
        "colab_type": "code",
        "colab": {}
      },
      "source": [
        "clf_gs = GridSearchCV(KNeighborsClassifier(), tuned_parameters, cv=5, scoring='f1_weighted')"
      ],
      "execution_count": 0,
      "outputs": []
    },
    {
      "cell_type": "code",
      "metadata": {
        "id": "qM-0iIv4o-fL",
        "colab_type": "code",
        "outputId": "54e85cea-57b0-456d-d669-655d70b7dfef",
        "colab": {
          "base_uri": "https://localhost:8080/",
          "height": 187
        }
      },
      "source": [
        "clf_gs.fit(X_cov, y_cov)"
      ],
      "execution_count": 228,
      "outputs": [
        {
          "output_type": "execute_result",
          "data": {
            "text/plain": [
              "GridSearchCV(cv=5, error_score=nan,\n",
              "             estimator=KNeighborsClassifier(algorithm='auto', leaf_size=30,\n",
              "                                            metric='minkowski',\n",
              "                                            metric_params=None, n_jobs=None,\n",
              "                                            n_neighbors=5, p=2,\n",
              "                                            weights='uniform'),\n",
              "             iid='deprecated', n_jobs=None,\n",
              "             param_grid=[{'n_neighbors': array([ 5, 10, 15, 20, 25, 30, 35, 40, 45, 50])}],\n",
              "             pre_dispatch='2*n_jobs', refit=True, return_train_score=False,\n",
              "             scoring='f1_weighted', verbose=0)"
            ]
          },
          "metadata": {
            "tags": []
          },
          "execution_count": 228
        }
      ]
    },
    {
      "cell_type": "code",
      "metadata": {
        "id": "VQ0fsSy8pATG",
        "colab_type": "code",
        "outputId": "6c7d6417-9787-4387-f19f-899552e447b0",
        "colab": {
          "base_uri": "https://localhost:8080/",
          "height": 34
        }
      },
      "source": [
        "clf_gs.best_params_"
      ],
      "execution_count": 229,
      "outputs": [
        {
          "output_type": "execute_result",
          "data": {
            "text/plain": [
              "{'n_neighbors': 5}"
            ]
          },
          "metadata": {
            "tags": []
          },
          "execution_count": 229
        }
      ]
    },
    {
      "cell_type": "code",
      "metadata": {
        "id": "oZuE2ZQcpGTs",
        "colab_type": "code",
        "outputId": "8e405c91-0d5b-4aba-c290-6d88531d5a9f",
        "colab": {
          "base_uri": "https://localhost:8080/",
          "height": 34
        }
      },
      "source": [
        "clf_gs.best_score_"
      ],
      "execution_count": 230,
      "outputs": [
        {
          "output_type": "execute_result",
          "data": {
            "text/plain": [
              "0.9588742014124028"
            ]
          },
          "metadata": {
            "tags": []
          },
          "execution_count": 230
        }
      ]
    },
    {
      "cell_type": "code",
      "metadata": {
        "id": "e9aF1nd2pHwg",
        "colab_type": "code",
        "outputId": "8eed8906-6660-4d18-f4dd-ef46d6a04650",
        "colab": {
          "base_uri": "https://localhost:8080/",
          "height": 282
        }
      },
      "source": [
        "plt.plot(n_range, clf_gs.cv_results_['mean_test_score'])"
      ],
      "execution_count": 231,
      "outputs": [
        {
          "output_type": "execute_result",
          "data": {
            "text/plain": [
              "[<matplotlib.lines.Line2D at 0x7f1752b97278>]"
            ]
          },
          "metadata": {
            "tags": []
          },
          "execution_count": 231
        },
        {
          "output_type": "display_data",
          "data": {
            "image/png": "[encoded data removed]",
            "text/plain": [
              "<Figure size 432x288 with 1 Axes>"
            ]
          },
          "metadata": {
            "tags": [],
            "needs_background": "light"
          }
        }
      ]
    },
    {
      "cell_type": "markdown",
      "metadata": {
        "id": "2PuVsAcfTFX-",
        "colab_type": "text"
      },
      "source": [
        "Логическая регрессия"
      ]
    },
    {
      "cell_type": "code",
      "metadata": {
        "id": "mRqC7uFopJSi",
        "colab_type": "code",
        "colab": {}
      },
      "source": [
        "from sklearn.linear_model import LogisticRegression"
      ],
      "execution_count": 0,
      "outputs": []
    },
    {
      "cell_type": "code",
      "metadata": {
        "id": "5v5-18UlTLps",
        "colab_type": "code",
        "colab": {}
      },
      "source": [
        "LogRegression = LogisticRegression()"
      ],
      "execution_count": 0,
      "outputs": []
    },
    {
      "cell_type": "code",
      "metadata": {
        "id": "cZHoG1XnTNsD",
        "colab_type": "code",
        "colab": {
          "base_uri": "https://localhost:8080/",
          "height": 102
        },
        "outputId": "1e7437ce-5c84-4553-b784-e841b01d46b6"
      },
      "source": [
        "LogRegression.fit(X_cov,y_cov)"
      ],
      "execution_count": 234,
      "outputs": [
        {
          "output_type": "execute_result",
          "data": {
            "text/plain": [
              "LogisticRegression(C=1.0, class_weight=None, dual=False, fit_intercept=True,\n",
              "                   intercept_scaling=1, l1_ratio=None, max_iter=100,\n",
              "                   multi_class='auto', n_jobs=None, penalty='l2',\n",
              "                   random_state=None, solver='lbfgs', tol=0.0001, verbose=0,\n",
              "                   warm_start=False)"
            ]
          },
          "metadata": {
            "tags": []
          },
          "execution_count": 234
        }
      ]
    },
    {
      "cell_type": "code",
      "metadata": {
        "id": "lehY8megTSiC",
        "colab_type": "code",
        "colab": {}
      },
      "source": [
        "y_predicted_lr = LogRegression.predict(X_test)"
      ],
      "execution_count": 0,
      "outputs": []
    },
    {
      "cell_type": "code",
      "metadata": {
        "id": "wTU_FxSmTUcx",
        "colab_type": "code",
        "colab": {
          "base_uri": "https://localhost:8080/",
          "height": 34
        },
        "outputId": "4d908d54-83e4-4b08-df34-41f167e32808"
      },
      "source": [
        "LogRegression.score(X_test,y_test)"
      ],
      "execution_count": 236,
      "outputs": [
        {
          "output_type": "execute_result",
          "data": {
            "text/plain": [
              "0.9606299212598425"
            ]
          },
          "metadata": {
            "tags": []
          },
          "execution_count": 236
        }
      ]
    },
    {
      "cell_type": "code",
      "metadata": {
        "id": "PJKkPbCsTVmj",
        "colab_type": "code",
        "colab": {
          "base_uri": "https://localhost:8080/",
          "height": 255
        },
        "outputId": "4132eab1-25b1-4894-a7ac-9a092f739b50"
      },
      "source": [
        "classification_report(y_test, y_predicted_lr, output_dict = True)"
      ],
      "execution_count": 237,
      "outputs": [
        {
          "output_type": "execute_result",
          "data": {
            "text/plain": [
              "{'0': {'f1-score': 0.9799196787148594,\n",
              "  'precision': 0.9606299212598425,\n",
              "  'recall': 1.0,\n",
              "  'support': 122},\n",
              " '1': {'f1-score': 0.0, 'precision': 0.0, 'recall': 0.0, 'support': 5},\n",
              " 'accuracy': 0.9606299212598425,\n",
              " 'macro avg': {'f1-score': 0.4899598393574297,\n",
              "  'precision': 0.48031496062992124,\n",
              "  'recall': 0.5,\n",
              "  'support': 127},\n",
              " 'weighted avg': {'f1-score': 0.9413401638048255,\n",
              "  'precision': 0.9228098456196913,\n",
              "  'recall': 0.9606299212598425,\n",
              "  'support': 127}}"
            ]
          },
          "metadata": {
            "tags": []
          },
          "execution_count": 237
        }
      ]
    },
    {
      "cell_type": "markdown",
      "metadata": {
        "id": "-1x8TVj5TdZN",
        "colab_type": "text"
      },
      "source": [
        "SVM"
      ]
    },
    {
      "cell_type": "code",
      "metadata": {
        "id": "knsFJqV4TXOO",
        "colab_type": "code",
        "colab": {}
      },
      "source": [
        "from sklearn.svm import SVC"
      ],
      "execution_count": 0,
      "outputs": []
    },
    {
      "cell_type": "code",
      "metadata": {
        "id": "Ca8mGPgjTfkj",
        "colab_type": "code",
        "colab": {}
      },
      "source": [
        "SVC_ = SVC()"
      ],
      "execution_count": 0,
      "outputs": []
    },
    {
      "cell_type": "code",
      "metadata": {
        "id": "ZBLqUo7mTgfz",
        "colab_type": "code",
        "colab": {
          "base_uri": "https://localhost:8080/",
          "height": 85
        },
        "outputId": "02c7476b-18b1-477a-bcd0-dfa4a8deb8b8"
      },
      "source": [
        "SVC_.fit(X_cov,y_cov)"
      ],
      "execution_count": 240,
      "outputs": [
        {
          "output_type": "execute_result",
          "data": {
            "text/plain": [
              "SVC(C=1.0, break_ties=False, cache_size=200, class_weight=None, coef0=0.0,\n",
              "    decision_function_shape='ovr', degree=3, gamma='scale', kernel='rbf',\n",
              "    max_iter=-1, probability=False, random_state=None, shrinking=True,\n",
              "    tol=0.001, verbose=False)"
            ]
          },
          "metadata": {
            "tags": []
          },
          "execution_count": 240
        }
      ]
    },
    {
      "cell_type": "code",
      "metadata": {
        "id": "lOXc-ocEThp9",
        "colab_type": "code",
        "colab": {
          "base_uri": "https://localhost:8080/",
          "height": 119
        },
        "outputId": "2ce2c77c-6f9b-4c6b-9449-35b64b009367"
      },
      "source": [
        "y_predicted_svc = SVC_.predict(X_test)\n",
        "y_predicted_svc"
      ],
      "execution_count": 241,
      "outputs": [
        {
          "output_type": "execute_result",
          "data": {
            "text/plain": [
              "array([0, 0, 0, 0, 0, 0, 0, 0, 0, 0, 0, 0, 0, 0, 0, 0, 0, 0, 0, 0, 0, 0,\n",
              "       0, 0, 0, 0, 0, 0, 0, 0, 0, 0, 0, 0, 0, 0, 0, 0, 0, 0, 0, 0, 0, 0,\n",
              "       0, 0, 0, 0, 0, 0, 0, 0, 0, 0, 0, 0, 0, 0, 0, 0, 0, 0, 0, 0, 0, 0,\n",
              "       0, 0, 0, 0, 0, 0, 0, 0, 0, 0, 0, 0, 0, 0, 0, 0, 0, 0, 0, 0, 0, 0,\n",
              "       0, 0, 0, 0, 0, 0, 0, 0, 0, 0, 0, 0, 0, 0, 0, 0, 0, 0, 0, 0, 0, 0,\n",
              "       0, 0, 0, 0, 0, 0, 0, 0, 0, 0, 0, 0, 0, 0, 0, 0, 0])"
            ]
          },
          "metadata": {
            "tags": []
          },
          "execution_count": 241
        }
      ]
    },
    {
      "cell_type": "code",
      "metadata": {
        "id": "hYR4_Dc9ToLt",
        "colab_type": "code",
        "colab": {
          "base_uri": "https://localhost:8080/",
          "height": 34
        },
        "outputId": "0bd746d5-ac5d-4307-e475-9f4a9b09f75e"
      },
      "source": [
        "SVC_.score(X_test,y_test)"
      ],
      "execution_count": 242,
      "outputs": [
        {
          "output_type": "execute_result",
          "data": {
            "text/plain": [
              "0.9606299212598425"
            ]
          },
          "metadata": {
            "tags": []
          },
          "execution_count": 242
        }
      ]
    },
    {
      "cell_type": "code",
      "metadata": {
        "id": "S9q-HXrhUVZz",
        "colab_type": "code",
        "colab": {
          "base_uri": "https://localhost:8080/",
          "height": 255
        },
        "outputId": "3e97035e-9a53-4f41-9ded-4439cda151b2"
      },
      "source": [
        "classification_report(y_test,y_predicted_svc, output_dict= True)"
      ],
      "execution_count": 243,
      "outputs": [
        {
          "output_type": "execute_result",
          "data": {
            "text/plain": [
              "{'0': {'f1-score': 0.9799196787148594,\n",
              "  'precision': 0.9606299212598425,\n",
              "  'recall': 1.0,\n",
              "  'support': 122},\n",
              " '1': {'f1-score': 0.0, 'precision': 0.0, 'recall': 0.0, 'support': 5},\n",
              " 'accuracy': 0.9606299212598425,\n",
              " 'macro avg': {'f1-score': 0.4899598393574297,\n",
              "  'precision': 0.48031496062992124,\n",
              "  'recall': 0.5,\n",
              "  'support': 127},\n",
              " 'weighted avg': {'f1-score': 0.9413401638048255,\n",
              "  'precision': 0.9228098456196913,\n",
              "  'recall': 0.9606299212598425,\n",
              "  'support': 127}}"
            ]
          },
          "metadata": {
            "tags": []
          },
          "execution_count": 243
        }
      ]
    },
    {
      "cell_type": "markdown",
      "metadata": {
        "id": "Det28L4wUm24",
        "colab_type": "text"
      },
      "source": [
        "Дерево решений"
      ]
    },
    {
      "cell_type": "code",
      "metadata": {
        "id": "SpFDMLtpUXJS",
        "colab_type": "code",
        "colab": {}
      },
      "source": [
        "from sklearn.tree import DecisionTreeClassifier"
      ],
      "execution_count": 0,
      "outputs": []
    },
    {
      "cell_type": "code",
      "metadata": {
        "id": "d5Zwe5l2Uo0x",
        "colab_type": "code",
        "colab": {}
      },
      "source": [
        "DTClassifier = DecisionTreeClassifier(random_state=1)"
      ],
      "execution_count": 0,
      "outputs": []
    },
    {
      "cell_type": "code",
      "metadata": {
        "id": "ZxUKMOm4Up9Z",
        "colab_type": "code",
        "colab": {
          "base_uri": "https://localhost:8080/",
          "height": 119
        },
        "outputId": "c430bb05-8eb0-48eb-97df-36fa33852617"
      },
      "source": [
        "DTClassifier.fit(X_cov,y_cov)"
      ],
      "execution_count": 246,
      "outputs": [
        {
          "output_type": "execute_result",
          "data": {
            "text/plain": [
              "DecisionTreeClassifier(ccp_alpha=0.0, class_weight=None, criterion='gini',\n",
              "                       max_depth=None, max_features=None, max_leaf_nodes=None,\n",
              "                       min_impurity_decrease=0.0, min_impurity_split=None,\n",
              "                       min_samples_leaf=1, min_samples_split=2,\n",
              "                       min_weight_fraction_leaf=0.0, presort='deprecated',\n",
              "                       random_state=1, splitter='best')"
            ]
          },
          "metadata": {
            "tags": []
          },
          "execution_count": 246
        }
      ]
    },
    {
      "cell_type": "code",
      "metadata": {
        "id": "7Hg7ZwLwUq5Y",
        "colab_type": "code",
        "colab": {}
      },
      "source": [
        "y_predicted_DT = DTClassifier.predict(X_test)"
      ],
      "execution_count": 0,
      "outputs": []
    },
    {
      "cell_type": "code",
      "metadata": {
        "id": "P6N7AfjdUxcF",
        "colab_type": "code",
        "colab": {
          "base_uri": "https://localhost:8080/",
          "height": 34
        },
        "outputId": "59c7accc-2498-4977-8f93-c4acea32a5ca"
      },
      "source": [
        "DTClassifier.score(X_test,y_test)"
      ],
      "execution_count": 248,
      "outputs": [
        {
          "output_type": "execute_result",
          "data": {
            "text/plain": [
              "0.937007874015748"
            ]
          },
          "metadata": {
            "tags": []
          },
          "execution_count": 248
        }
      ]
    },
    {
      "cell_type": "code",
      "metadata": {
        "id": "8jxrvDjIUzKo",
        "colab_type": "code",
        "colab": {
          "base_uri": "https://localhost:8080/",
          "height": 255
        },
        "outputId": "f97a3ace-0869-49ac-dc98-b1dd75e4dffe"
      },
      "source": [
        "classification_report(y_predicted_DT,y_test, output_dict= True)"
      ],
      "execution_count": 249,
      "outputs": [
        {
          "output_type": "execute_result",
          "data": {
            "text/plain": [
              "{'0': {'f1-score': 0.9674796747967479,\n",
              "  'precision': 0.9754098360655737,\n",
              "  'recall': 0.9596774193548387,\n",
              "  'support': 124},\n",
              " '1': {'f1-score': 0.0, 'precision': 0.0, 'recall': 0.0, 'support': 3},\n",
              " 'accuracy': 0.937007874015748,\n",
              " 'macro avg': {'f1-score': 0.48373983739837395,\n",
              "  'precision': 0.48770491803278687,\n",
              "  'recall': 0.4798387096774194,\n",
              "  'support': 127},\n",
              " 'weighted avg': {'f1-score': 0.9446258242109979,\n",
              "  'precision': 0.9523686588356783,\n",
              "  'recall': 0.937007874015748,\n",
              "  'support': 127}}"
            ]
          },
          "metadata": {
            "tags": []
          },
          "execution_count": 249
        }
      ]
    },
    {
      "cell_type": "code",
      "metadata": {
        "id": "1_2pRmB9U0uf",
        "colab_type": "code",
        "colab": {}
      },
      "source": [
        "from sklearn.tree import DecisionTreeClassifier, DecisionTreeRegressor, export_graphviz\n",
        "import graphviz "
      ],
      "execution_count": 0,
      "outputs": []
    },
    {
      "cell_type": "code",
      "metadata": {
        "id": "xt97snZMU5lx",
        "colab_type": "code",
        "colab": {
          "base_uri": "https://localhost:8080/",
          "height": 1000
        },
        "outputId": "9e43a546-c3ad-4cf1-adcd-a279987d377e"
      },
      "source": [
        "#Визуализация дерева решений\n",
        "dot_data = export_graphviz(DTClassifier, out_file=None, \n",
        "                           feature_names=data.columns, \n",
        "                           class_names=('Died','Survived'), \n",
        "                           filled=True, rounded=True, special_characters=True)  \n",
        "graph = graphviz.Source(dot_data)  \n",
        "graph"
      ],
      "execution_count": 251,
      "outputs": [
        {
          "output_type": "execute_result",
          "data": {
            "text/plain": [
              "<graphviz.files.Source at 0x7f1752b4b978>"
            ],
            "image/svg+xml": "<?xml version=\"1.0\" encoding=\"UTF-8\" standalone=\"no\"?>\n<!DOCTYPE svg PUBLIC \"-//W3C//DTD SVG 1.1//EN\"\n \"http://www.w3.org/Graphics/SVG/1.1/DTD/svg11.dtd\">\n<!-- Generated by graphviz version 2.40.1 (20161225.0304)\n -->\n<!-- Title: Tree Pages: 1 -->\n<svg width=\"1620pt\" height=\"1385pt\"\n viewBox=\"0.00 0.00 1620.00 1385.00\" xmlns=\"http://www.w3.org/2000/svg\" xmlns:xlink=\"http://www.w3.org/1999/xlink\">\n<g id=\"graph0\" class=\"graph\" transform=\"scale(1 1) rotate(0) translate(4 1381)\">\n<title>Tree</title>\n<polygon fill=\"#ffffff\" stroke=\"transparent\" points=\"-4,4 -4,-1381 1616,-1381 1616,4 -4,4\"/>\n<!-- 0 -->\n<g id=\"node1\" class=\"node\">\n<title>0</title>\n<path fill=\"#e6853f\" stroke=\"#000000\" d=\"M1222,-1377C1222,-1377 1093,-1377 1093,-1377 1087,-1377 1081,-1371 1081,-1365 1081,-1365 1081,-1306 1081,-1306 1081,-1300 1087,-1294 1093,-1294 1093,-1294 1222,-1294 1222,-1294 1228,-1294 1234,-1300 1234,-1306 1234,-1306 1234,-1365 1234,-1365 1234,-1371 1228,-1377 1222,-1377\"/>\n<text text-anchor=\"start\" x=\"1089\" y=\"-1361.8\" font-family=\"Helvetica,sans-Serif\" font-size=\"14.00\" fill=\"#000000\">location_Manila ≤ 0.5</text>\n<text text-anchor=\"start\" x=\"1119.5\" y=\"-1346.8\" font-family=\"Helvetica,sans-Serif\" font-size=\"14.00\" fill=\"#000000\">gini = 0.054</text>\n<text text-anchor=\"start\" x=\"1109.5\" y=\"-1331.8\" font-family=\"Helvetica,sans-Serif\" font-size=\"14.00\" fill=\"#000000\">samples = 508</text>\n<text text-anchor=\"start\" x=\"1103.5\" y=\"-1316.8\" font-family=\"Helvetica,sans-Serif\" font-size=\"14.00\" fill=\"#000000\">value = [494, 14]</text>\n<text text-anchor=\"start\" x=\"1117.5\" y=\"-1301.8\" font-family=\"Helvetica,sans-Serif\" font-size=\"14.00\" fill=\"#000000\">class = Died</text>\n</g>\n<!-- 1 -->\n<g id=\"node2\" class=\"node\">\n<title>1</title>\n<path fill=\"#e6843e\" stroke=\"#000000\" d=\"M1142,-1258C1142,-1258 1023,-1258 1023,-1258 1017,-1258 1011,-1252 1011,-1246 1011,-1246 1011,-1187 1011,-1187 1011,-1181 1017,-1175 1023,-1175 1023,-1175 1142,-1175 1142,-1175 1148,-1175 1154,-1181 1154,-1187 1154,-1187 1154,-1246 1154,-1246 1154,-1252 1148,-1258 1142,-1258\"/>\n<text text-anchor=\"start\" x=\"1019\" y=\"-1242.8\" font-family=\"Helvetica,sans-Serif\" font-size=\"14.00\" fill=\"#000000\">location_Paris ≤ 0.5</text>\n<text text-anchor=\"start\" x=\"1049\" y=\"-1227.8\" font-family=\"Helvetica,sans-Serif\" font-size=\"14.00\" fill=\"#000000\">gini = 0.05</text>\n<text text-anchor=\"start\" x=\"1034.5\" y=\"-1212.8\" font-family=\"Helvetica,sans-Serif\" font-size=\"14.00\" fill=\"#000000\">samples = 507</text>\n<text text-anchor=\"start\" x=\"1028.5\" y=\"-1197.8\" font-family=\"Helvetica,sans-Serif\" font-size=\"14.00\" fill=\"#000000\">value = [494, 13]</text>\n<text text-anchor=\"start\" x=\"1042.5\" y=\"-1182.8\" font-family=\"Helvetica,sans-Serif\" font-size=\"14.00\" fill=\"#000000\">class = Died</text>\n</g>\n<!-- 0&#45;&gt;1 -->\n<g id=\"edge1\" class=\"edge\">\n<title>0&#45;&gt;1</title>\n<path fill=\"none\" stroke=\"#000000\" d=\"M1131.2686,-1293.8796C1125.7627,-1285.1434 1119.8994,-1275.8404 1114.2176,-1266.8253\"/>\n<polygon fill=\"#000000\" stroke=\"#000000\" points=\"1117.1363,-1264.8919 1108.8433,-1258.2981 1111.2143,-1268.6242 1117.1363,-1264.8919\"/>\n<text text-anchor=\"middle\" x=\"1103.3137\" y=\"-1278.9789\" font-family=\"Helvetica,sans-Serif\" font-size=\"14.00\" fill=\"#000000\">True</text>\n</g>\n<!-- 58 -->\n<g id=\"node59\" class=\"node\">\n<title>58</title>\n<path fill=\"#399de5\" stroke=\"#000000\" d=\"M1283,-1250.5C1283,-1250.5 1184,-1250.5 1184,-1250.5 1178,-1250.5 1172,-1244.5 1172,-1238.5 1172,-1238.5 1172,-1194.5 1172,-1194.5 1172,-1188.5 1178,-1182.5 1184,-1182.5 1184,-1182.5 1283,-1182.5 1283,-1182.5 1289,-1182.5 1295,-1188.5 1295,-1194.5 1295,-1194.5 1295,-1238.5 1295,-1238.5 1295,-1244.5 1289,-1250.5 1283,-1250.5\"/>\n<text text-anchor=\"start\" x=\"1204\" y=\"-1235.3\" font-family=\"Helvetica,sans-Serif\" font-size=\"14.00\" fill=\"#000000\">gini = 0.0</text>\n<text text-anchor=\"start\" x=\"1194\" y=\"-1220.3\" font-family=\"Helvetica,sans-Serif\" font-size=\"14.00\" fill=\"#000000\">samples = 1</text>\n<text text-anchor=\"start\" x=\"1192\" y=\"-1205.3\" font-family=\"Helvetica,sans-Serif\" font-size=\"14.00\" fill=\"#000000\">value = [0, 1]</text>\n<text text-anchor=\"start\" x=\"1180\" y=\"-1190.3\" font-family=\"Helvetica,sans-Serif\" font-size=\"14.00\" fill=\"#000000\">class = Survived</text>\n</g>\n<!-- 0&#45;&gt;58 -->\n<g id=\"edge58\" class=\"edge\">\n<title>0&#45;&gt;58</title>\n<path fill=\"none\" stroke=\"#000000\" d=\"M1184.0811,-1293.8796C1191.174,-1282.7735 1198.8521,-1270.7513 1205.9937,-1259.5691\"/>\n<polygon fill=\"#000000\" stroke=\"#000000\" points=\"1209.1518,-1261.1267 1211.5846,-1250.8149 1203.2523,-1257.3589 1209.1518,-1261.1267\"/>\n<text text-anchor=\"middle\" x=\"1216.9681\" y=\"-1271.5284\" font-family=\"Helvetica,sans-Serif\" font-size=\"14.00\" fill=\"#000000\">False</text>\n</g>\n<!-- 2 -->\n<g id=\"node3\" class=\"node\">\n<title>2</title>\n<path fill=\"#e6843d\" stroke=\"#000000\" d=\"M1085,-1139C1085,-1139 918,-1139 918,-1139 912,-1139 906,-1133 906,-1127 906,-1127 906,-1068 906,-1068 906,-1062 912,-1056 918,-1056 918,-1056 1085,-1056 1085,-1056 1091,-1056 1097,-1062 1097,-1068 1097,-1068 1097,-1127 1097,-1127 1097,-1133 1091,-1139 1085,-1139\"/>\n<text text-anchor=\"start\" x=\"914\" y=\"-1123.8\" font-family=\"Helvetica,sans-Serif\" font-size=\"14.00\" fill=\"#000000\">location_South Korea ≤ 0.5</text>\n<text text-anchor=\"start\" x=\"963.5\" y=\"-1108.8\" font-family=\"Helvetica,sans-Serif\" font-size=\"14.00\" fill=\"#000000\">gini = 0.043</text>\n<text text-anchor=\"start\" x=\"953.5\" y=\"-1093.8\" font-family=\"Helvetica,sans-Serif\" font-size=\"14.00\" fill=\"#000000\">samples = 502</text>\n<text text-anchor=\"start\" x=\"947.5\" y=\"-1078.8\" font-family=\"Helvetica,sans-Serif\" font-size=\"14.00\" fill=\"#000000\">value = [491, 11]</text>\n<text text-anchor=\"start\" x=\"961.5\" y=\"-1063.8\" font-family=\"Helvetica,sans-Serif\" font-size=\"14.00\" fill=\"#000000\">class = Died</text>\n</g>\n<!-- 1&#45;&gt;2 -->\n<g id=\"edge2\" class=\"edge\">\n<title>1&#45;&gt;2</title>\n<path fill=\"none\" stroke=\"#000000\" d=\"M1054.1701,-1174.8796C1048.2237,-1166.1434 1041.8914,-1156.8404 1035.755,-1147.8253\"/>\n<polygon fill=\"#000000\" stroke=\"#000000\" points=\"1038.4711,-1145.5953 1029.9508,-1139.2981 1032.6844,-1149.5342 1038.4711,-1145.5953\"/>\n</g>\n<!-- 55 -->\n<g id=\"node56\" class=\"node\">\n<title>55</title>\n<path fill=\"#f6d5bd\" stroke=\"#000000\" d=\"M1202,-1139C1202,-1139 1127,-1139 1127,-1139 1121,-1139 1115,-1133 1115,-1127 1115,-1127 1115,-1068 1115,-1068 1115,-1062 1121,-1056 1127,-1056 1127,-1056 1202,-1056 1202,-1056 1208,-1056 1214,-1062 1214,-1068 1214,-1068 1214,-1127 1214,-1127 1214,-1133 1208,-1139 1202,-1139\"/>\n<text text-anchor=\"start\" x=\"1130\" y=\"-1123.8\" font-family=\"Helvetica,sans-Serif\" font-size=\"14.00\" fill=\"#000000\">age ≤ 46.5</text>\n<text text-anchor=\"start\" x=\"1131\" y=\"-1108.8\" font-family=\"Helvetica,sans-Serif\" font-size=\"14.00\" fill=\"#000000\">gini = 0.48</text>\n<text text-anchor=\"start\" x=\"1125\" y=\"-1093.8\" font-family=\"Helvetica,sans-Serif\" font-size=\"14.00\" fill=\"#000000\">samples = 5</text>\n<text text-anchor=\"start\" x=\"1123\" y=\"-1078.8\" font-family=\"Helvetica,sans-Serif\" font-size=\"14.00\" fill=\"#000000\">value = [3, 2]</text>\n<text text-anchor=\"start\" x=\"1124.5\" y=\"-1063.8\" font-family=\"Helvetica,sans-Serif\" font-size=\"14.00\" fill=\"#000000\">class = Died</text>\n</g>\n<!-- 1&#45;&gt;55 -->\n<g id=\"edge55\" class=\"edge\">\n<title>1&#45;&gt;55</title>\n<path fill=\"none\" stroke=\"#000000\" d=\"M1111.1796,-1174.8796C1117.2615,-1166.0534 1123.7422,-1156.6485 1130.0141,-1147.5466\"/>\n<polygon fill=\"#000000\" stroke=\"#000000\" points=\"1132.9059,-1149.5184 1135.698,-1139.2981 1127.1418,-1145.5465 1132.9059,-1149.5184\"/>\n</g>\n<!-- 3 -->\n<g id=\"node4\" class=\"node\">\n<title>3</title>\n<path fill=\"#e5823b\" stroke=\"#000000\" d=\"M910,-1020C910,-1020 767,-1020 767,-1020 761,-1020 755,-1014 755,-1008 755,-1008 755,-949 755,-949 755,-943 761,-937 767,-937 767,-937 910,-937 910,-937 916,-937 922,-943 922,-949 922,-949 922,-1008 922,-1008 922,-1014 916,-1020 910,-1020\"/>\n<text text-anchor=\"start\" x=\"763\" y=\"-1004.8\" font-family=\"Helvetica,sans-Serif\" font-size=\"14.00\" fill=\"#000000\">location_Kowloon ≤ 0.5</text>\n<text text-anchor=\"start\" x=\"800.5\" y=\"-989.8\" font-family=\"Helvetica,sans-Serif\" font-size=\"14.00\" fill=\"#000000\">gini = 0.023</text>\n<text text-anchor=\"start\" x=\"790.5\" y=\"-974.8\" font-family=\"Helvetica,sans-Serif\" font-size=\"14.00\" fill=\"#000000\">samples = 433</text>\n<text text-anchor=\"start\" x=\"788.5\" y=\"-959.8\" font-family=\"Helvetica,sans-Serif\" font-size=\"14.00\" fill=\"#000000\">value = [428, 5]</text>\n<text text-anchor=\"start\" x=\"798.5\" y=\"-944.8\" font-family=\"Helvetica,sans-Serif\" font-size=\"14.00\" fill=\"#000000\">class = Died</text>\n</g>\n<!-- 2&#45;&gt;3 -->\n<g id=\"edge3\" class=\"edge\">\n<title>2&#45;&gt;3</title>\n<path fill=\"none\" stroke=\"#000000\" d=\"M944.4905,-1055.8796C931.3379,-1046.2774 917.2472,-1035.9903 903.7732,-1026.1534\"/>\n<polygon fill=\"#000000\" stroke=\"#000000\" points=\"905.6177,-1023.1666 895.4773,-1020.0969 901.4902,-1028.8202 905.6177,-1023.1666\"/>\n</g>\n<!-- 30 -->\n<g id=\"node31\" class=\"node\">\n<title>30</title>\n<path fill=\"#e78d4c\" stroke=\"#000000\" d=\"M1065,-1020C1065,-1020 952,-1020 952,-1020 946,-1020 940,-1014 940,-1008 940,-1008 940,-949 940,-949 940,-943 946,-937 952,-937 952,-937 1065,-937 1065,-937 1071,-937 1077,-943 1077,-949 1077,-949 1077,-1008 1077,-1008 1077,-1014 1071,-1020 1065,-1020\"/>\n<text text-anchor=\"start\" x=\"948\" y=\"-1004.8\" font-family=\"Helvetica,sans-Serif\" font-size=\"14.00\" fill=\"#000000\">gender_male ≤ 0.5</text>\n<text text-anchor=\"start\" x=\"970.5\" y=\"-989.8\" font-family=\"Helvetica,sans-Serif\" font-size=\"14.00\" fill=\"#000000\">gini = 0.159</text>\n<text text-anchor=\"start\" x=\"964.5\" y=\"-974.8\" font-family=\"Helvetica,sans-Serif\" font-size=\"14.00\" fill=\"#000000\">samples = 69</text>\n<text text-anchor=\"start\" x=\"963\" y=\"-959.8\" font-family=\"Helvetica,sans-Serif\" font-size=\"14.00\" fill=\"#000000\">value = [63, 6]</text>\n<text text-anchor=\"start\" x=\"968.5\" y=\"-944.8\" font-family=\"Helvetica,sans-Serif\" font-size=\"14.00\" fill=\"#000000\">class = Died</text>\n</g>\n<!-- 2&#45;&gt;30 -->\n<g id=\"edge30\" class=\"edge\">\n<title>2&#45;&gt;30</title>\n<path fill=\"none\" stroke=\"#000000\" d=\"M1003.9483,-1055.8796C1004.4304,-1047.6838 1004.9418,-1038.9891 1005.4411,-1030.5013\"/>\n<polygon fill=\"#000000\" stroke=\"#000000\" points=\"1008.9479,-1030.4864 1006.0413,-1020.2981 1001.96,-1030.0753 1008.9479,-1030.4864\"/>\n</g>\n<!-- 4 -->\n<g id=\"node5\" class=\"node\">\n<title>4</title>\n<path fill=\"#e5823b\" stroke=\"#000000\" d=\"M742.5,-901C742.5,-901 586.5,-901 586.5,-901 580.5,-901 574.5,-895 574.5,-889 574.5,-889 574.5,-830 574.5,-830 574.5,-824 580.5,-818 586.5,-818 586.5,-818 742.5,-818 742.5,-818 748.5,-818 754.5,-824 754.5,-830 754.5,-830 754.5,-889 754.5,-889 754.5,-895 748.5,-901 742.5,-901\"/>\n<text text-anchor=\"start\" x=\"582.5\" y=\"-885.8\" font-family=\"Helvetica,sans-Serif\" font-size=\"14.00\" fill=\"#000000\">location_Kanagawa ≤ 0.5</text>\n<text text-anchor=\"start\" x=\"626.5\" y=\"-870.8\" font-family=\"Helvetica,sans-Serif\" font-size=\"14.00\" fill=\"#000000\">gini = 0.018</text>\n<text text-anchor=\"start\" x=\"616.5\" y=\"-855.8\" font-family=\"Helvetica,sans-Serif\" font-size=\"14.00\" fill=\"#000000\">samples = 430</text>\n<text text-anchor=\"start\" x=\"614.5\" y=\"-840.8\" font-family=\"Helvetica,sans-Serif\" font-size=\"14.00\" fill=\"#000000\">value = [426, 4]</text>\n<text text-anchor=\"start\" x=\"624.5\" y=\"-825.8\" font-family=\"Helvetica,sans-Serif\" font-size=\"14.00\" fill=\"#000000\">class = Died</text>\n</g>\n<!-- 3&#45;&gt;4 -->\n<g id=\"edge4\" class=\"edge\">\n<title>3&#45;&gt;4</title>\n<path fill=\"none\" stroke=\"#000000\" d=\"M777.6432,-936.8796C763.4706,-927.1868 748.2775,-916.7961 733.7712,-906.8752\"/>\n<polygon fill=\"#000000\" stroke=\"#000000\" points=\"735.5525,-903.8531 725.3224,-901.0969 731.6008,-909.6311 735.5525,-903.8531\"/>\n</g>\n<!-- 27 -->\n<g id=\"node28\" class=\"node\">\n<title>27</title>\n<path fill=\"#f2c09c\" stroke=\"#000000\" d=\"M906.5,-901C906.5,-901 784.5,-901 784.5,-901 778.5,-901 772.5,-895 772.5,-889 772.5,-889 772.5,-830 772.5,-830 772.5,-824 778.5,-818 784.5,-818 784.5,-818 906.5,-818 906.5,-818 912.5,-818 918.5,-824 918.5,-830 918.5,-830 918.5,-889 918.5,-889 918.5,-895 912.5,-901 906.5,-901\"/>\n<text text-anchor=\"start\" x=\"780.5\" y=\"-885.8\" font-family=\"Helvetica,sans-Serif\" font-size=\"14.00\" fill=\"#000000\">visiting Wuhan ≤ 0.5</text>\n<text text-anchor=\"start\" x=\"807.5\" y=\"-870.8\" font-family=\"Helvetica,sans-Serif\" font-size=\"14.00\" fill=\"#000000\">gini = 0.444</text>\n<text text-anchor=\"start\" x=\"806\" y=\"-855.8\" font-family=\"Helvetica,sans-Serif\" font-size=\"14.00\" fill=\"#000000\">samples = 3</text>\n<text text-anchor=\"start\" x=\"804\" y=\"-840.8\" font-family=\"Helvetica,sans-Serif\" font-size=\"14.00\" fill=\"#000000\">value = [2, 1]</text>\n<text text-anchor=\"start\" x=\"805.5\" y=\"-825.8\" font-family=\"Helvetica,sans-Serif\" font-size=\"14.00\" fill=\"#000000\">class = Died</text>\n</g>\n<!-- 3&#45;&gt;27 -->\n<g id=\"edge27\" class=\"edge\">\n<title>3&#45;&gt;27</title>\n<path fill=\"none\" stroke=\"#000000\" d=\"M840.9483,-936.8796C841.4304,-928.6838 841.9418,-919.9891 842.4411,-911.5013\"/>\n<polygon fill=\"#000000\" stroke=\"#000000\" points=\"845.9479,-911.4864 843.0413,-901.2981 838.96,-911.0753 845.9479,-911.4864\"/>\n</g>\n<!-- 5 -->\n<g id=\"node6\" class=\"node\">\n<title>5</title>\n<path fill=\"#e5823a\" stroke=\"#000000\" d=\"M578,-782C578,-782 451,-782 451,-782 445,-782 439,-776 439,-770 439,-770 439,-711 439,-711 439,-705 445,-699 451,-699 451,-699 578,-699 578,-699 584,-699 590,-705 590,-711 590,-711 590,-770 590,-770 590,-776 584,-782 578,-782\"/>\n<text text-anchor=\"start\" x=\"447\" y=\"-766.8\" font-family=\"Helvetica,sans-Serif\" font-size=\"14.00\" fill=\"#000000\">location_Japan ≤ 0.5</text>\n<text text-anchor=\"start\" x=\"476.5\" y=\"-751.8\" font-family=\"Helvetica,sans-Serif\" font-size=\"14.00\" fill=\"#000000\">gini = 0.014</text>\n<text text-anchor=\"start\" x=\"466.5\" y=\"-736.8\" font-family=\"Helvetica,sans-Serif\" font-size=\"14.00\" fill=\"#000000\">samples = 423</text>\n<text text-anchor=\"start\" x=\"464.5\" y=\"-721.8\" font-family=\"Helvetica,sans-Serif\" font-size=\"14.00\" fill=\"#000000\">value = [420, 3]</text>\n<text text-anchor=\"start\" x=\"474.5\" y=\"-706.8\" font-family=\"Helvetica,sans-Serif\" font-size=\"14.00\" fill=\"#000000\">class = Died</text>\n</g>\n<!-- 4&#45;&gt;5 -->\n<g id=\"edge5\" class=\"edge\">\n<title>4&#45;&gt;5</title>\n<path fill=\"none\" stroke=\"#000000\" d=\"M612.0373,-817.8796C600.0479,-808.368 587.2113,-798.1843 574.9184,-788.432\"/>\n<polygon fill=\"#000000\" stroke=\"#000000\" points=\"576.9425,-785.5701 566.9331,-782.0969 572.5919,-791.054 576.9425,-785.5701\"/>\n</g>\n<!-- 24 -->\n<g id=\"node25\" class=\"node\">\n<title>24</title>\n<path fill=\"#e9965a\" stroke=\"#000000\" d=\"M733,-782C733,-782 620,-782 620,-782 614,-782 608,-776 608,-770 608,-770 608,-711 608,-711 608,-705 614,-699 620,-699 620,-699 733,-699 733,-699 739,-699 745,-705 745,-711 745,-711 745,-770 745,-770 745,-776 739,-782 733,-782\"/>\n<text text-anchor=\"start\" x=\"616\" y=\"-766.8\" font-family=\"Helvetica,sans-Serif\" font-size=\"14.00\" fill=\"#000000\">gender_male ≤ 0.5</text>\n<text text-anchor=\"start\" x=\"638.5\" y=\"-751.8\" font-family=\"Helvetica,sans-Serif\" font-size=\"14.00\" fill=\"#000000\">gini = 0.245</text>\n<text text-anchor=\"start\" x=\"637\" y=\"-736.8\" font-family=\"Helvetica,sans-Serif\" font-size=\"14.00\" fill=\"#000000\">samples = 7</text>\n<text text-anchor=\"start\" x=\"635\" y=\"-721.8\" font-family=\"Helvetica,sans-Serif\" font-size=\"14.00\" fill=\"#000000\">value = [6, 1]</text>\n<text text-anchor=\"start\" x=\"636.5\" y=\"-706.8\" font-family=\"Helvetica,sans-Serif\" font-size=\"14.00\" fill=\"#000000\">class = Died</text>\n</g>\n<!-- 4&#45;&gt;24 -->\n<g id=\"edge24\" class=\"edge\">\n<title>4&#45;&gt;24</title>\n<path fill=\"none\" stroke=\"#000000\" d=\"M668.697,-817.8796C669.5235,-809.6838 670.4003,-800.9891 671.2562,-792.5013\"/>\n<polygon fill=\"#000000\" stroke=\"#000000\" points=\"674.764,-792.5988 672.2851,-782.2981 667.7993,-791.8964 674.764,-792.5988\"/>\n</g>\n<!-- 6 -->\n<g id=\"node7\" class=\"node\">\n<title>6</title>\n<path fill=\"#e5823a\" stroke=\"#000000\" d=\"M438.5,-663C438.5,-663 308.5,-663 308.5,-663 302.5,-663 296.5,-657 296.5,-651 296.5,-651 296.5,-592 296.5,-592 296.5,-586 302.5,-580 308.5,-580 308.5,-580 438.5,-580 438.5,-580 444.5,-580 450.5,-586 450.5,-592 450.5,-592 450.5,-651 450.5,-651 450.5,-657 444.5,-663 438.5,-663\"/>\n<text text-anchor=\"start\" x=\"304.5\" y=\"-647.8\" font-family=\"Helvetica,sans-Serif\" font-size=\"14.00\" fill=\"#000000\">country_Taiwan ≤ 0.5</text>\n<text text-anchor=\"start\" x=\"340\" y=\"-632.8\" font-family=\"Helvetica,sans-Serif\" font-size=\"14.00\" fill=\"#000000\">gini = 0.01</text>\n<text text-anchor=\"start\" x=\"325.5\" y=\"-617.8\" font-family=\"Helvetica,sans-Serif\" font-size=\"14.00\" fill=\"#000000\">samples = 409</text>\n<text text-anchor=\"start\" x=\"323.5\" y=\"-602.8\" font-family=\"Helvetica,sans-Serif\" font-size=\"14.00\" fill=\"#000000\">value = [407, 2]</text>\n<text text-anchor=\"start\" x=\"333.5\" y=\"-587.8\" font-family=\"Helvetica,sans-Serif\" font-size=\"14.00\" fill=\"#000000\">class = Died</text>\n</g>\n<!-- 5&#45;&gt;6 -->\n<g id=\"edge6\" class=\"edge\">\n<title>5&#45;&gt;6</title>\n<path fill=\"none\" stroke=\"#000000\" d=\"M465.185,-698.8796C454.0868,-689.513 442.2165,-679.4948 430.8223,-669.8784\"/>\n<polygon fill=\"#000000\" stroke=\"#000000\" points=\"432.925,-667.0731 423.0254,-663.2981 428.4101,-672.4225 432.925,-667.0731\"/>\n</g>\n<!-- 21 -->\n<g id=\"node22\" class=\"node\">\n<title>21</title>\n<path fill=\"#e78b48\" stroke=\"#000000\" d=\"M564,-663C564,-663 481,-663 481,-663 475,-663 469,-657 469,-651 469,-651 469,-592 469,-592 469,-586 475,-580 481,-580 481,-580 564,-580 564,-580 570,-580 576,-586 576,-592 576,-592 576,-651 576,-651 576,-657 570,-663 564,-663\"/>\n<text text-anchor=\"start\" x=\"488\" y=\"-647.8\" font-family=\"Helvetica,sans-Serif\" font-size=\"14.00\" fill=\"#000000\">age ≤ 70.0</text>\n<text text-anchor=\"start\" x=\"484.5\" y=\"-632.8\" font-family=\"Helvetica,sans-Serif\" font-size=\"14.00\" fill=\"#000000\">gini = 0.133</text>\n<text text-anchor=\"start\" x=\"478.5\" y=\"-617.8\" font-family=\"Helvetica,sans-Serif\" font-size=\"14.00\" fill=\"#000000\">samples = 14</text>\n<text text-anchor=\"start\" x=\"477\" y=\"-602.8\" font-family=\"Helvetica,sans-Serif\" font-size=\"14.00\" fill=\"#000000\">value = [13, 1]</text>\n<text text-anchor=\"start\" x=\"482.5\" y=\"-587.8\" font-family=\"Helvetica,sans-Serif\" font-size=\"14.00\" fill=\"#000000\">class = Died</text>\n</g>\n<!-- 5&#45;&gt;21 -->\n<g id=\"edge21\" class=\"edge\">\n<title>5&#45;&gt;21</title>\n<path fill=\"none\" stroke=\"#000000\" d=\"M517.298,-698.8796C517.849,-690.6838 518.4335,-681.9891 519.0041,-673.5013\"/>\n<polygon fill=\"#000000\" stroke=\"#000000\" points=\"522.5113,-673.5103 519.69,-663.2981 515.5271,-673.0408 522.5113,-673.5103\"/>\n</g>\n<!-- 7 -->\n<g id=\"node8\" class=\"node\">\n<title>7</title>\n<path fill=\"#e5813a\" stroke=\"#000000\" d=\"M295.5,-544C295.5,-544 203.5,-544 203.5,-544 197.5,-544 191.5,-538 191.5,-532 191.5,-532 191.5,-473 191.5,-473 191.5,-467 197.5,-461 203.5,-461 203.5,-461 295.5,-461 295.5,-461 301.5,-461 307.5,-467 307.5,-473 307.5,-473 307.5,-532 307.5,-532 307.5,-538 301.5,-544 295.5,-544\"/>\n<text text-anchor=\"start\" x=\"215\" y=\"-528.8\" font-family=\"Helvetica,sans-Serif\" font-size=\"14.00\" fill=\"#000000\">age ≤ 69.5</text>\n<text text-anchor=\"start\" x=\"211.5\" y=\"-513.8\" font-family=\"Helvetica,sans-Serif\" font-size=\"14.00\" fill=\"#000000\">gini = 0.005</text>\n<text text-anchor=\"start\" x=\"201.5\" y=\"-498.8\" font-family=\"Helvetica,sans-Serif\" font-size=\"14.00\" fill=\"#000000\">samples = 386</text>\n<text text-anchor=\"start\" x=\"199.5\" y=\"-483.8\" font-family=\"Helvetica,sans-Serif\" font-size=\"14.00\" fill=\"#000000\">value = [385, 1]</text>\n<text text-anchor=\"start\" x=\"209.5\" y=\"-468.8\" font-family=\"Helvetica,sans-Serif\" font-size=\"14.00\" fill=\"#000000\">class = Died</text>\n</g>\n<!-- 6&#45;&gt;7 -->\n<g id=\"edge7\" class=\"edge\">\n<title>6&#45;&gt;7</title>\n<path fill=\"none\" stroke=\"#000000\" d=\"M330.1308,-579.8796C320.5584,-570.6931 310.3328,-560.8798 300.4897,-551.4336\"/>\n<polygon fill=\"#000000\" stroke=\"#000000\" points=\"302.6928,-548.6969 293.0543,-544.2981 297.8459,-553.7475 302.6928,-548.6969\"/>\n</g>\n<!-- 16 -->\n<g id=\"node17\" class=\"node\">\n<title>16</title>\n<path fill=\"#e68742\" stroke=\"#000000\" d=\"M421,-544C421,-544 338,-544 338,-544 332,-544 326,-538 326,-532 326,-532 326,-473 326,-473 326,-467 332,-461 338,-461 338,-461 421,-461 421,-461 427,-461 433,-467 433,-473 433,-473 433,-532 433,-532 433,-538 427,-544 421,-544\"/>\n<text text-anchor=\"start\" x=\"345\" y=\"-528.8\" font-family=\"Helvetica,sans-Serif\" font-size=\"14.00\" fill=\"#000000\">age ≤ 62.5</text>\n<text text-anchor=\"start\" x=\"341.5\" y=\"-513.8\" font-family=\"Helvetica,sans-Serif\" font-size=\"14.00\" fill=\"#000000\">gini = 0.083</text>\n<text text-anchor=\"start\" x=\"335.5\" y=\"-498.8\" font-family=\"Helvetica,sans-Serif\" font-size=\"14.00\" fill=\"#000000\">samples = 23</text>\n<text text-anchor=\"start\" x=\"334\" y=\"-483.8\" font-family=\"Helvetica,sans-Serif\" font-size=\"14.00\" fill=\"#000000\">value = [22, 1]</text>\n<text text-anchor=\"start\" x=\"339.5\" y=\"-468.8\" font-family=\"Helvetica,sans-Serif\" font-size=\"14.00\" fill=\"#000000\">class = Died</text>\n</g>\n<!-- 6&#45;&gt;16 -->\n<g id=\"edge16\" class=\"edge\">\n<title>6&#45;&gt;16</title>\n<path fill=\"none\" stroke=\"#000000\" d=\"M375.5985,-579.8796C376.0117,-571.6838 376.4501,-562.9891 376.8781,-554.5013\"/>\n<polygon fill=\"#000000\" stroke=\"#000000\" points=\"380.3844,-554.4617 377.3925,-544.2981 373.3933,-554.1091 380.3844,-554.4617\"/>\n</g>\n<!-- 8 -->\n<g id=\"node9\" class=\"node\">\n<title>8</title>\n<path fill=\"#e58139\" stroke=\"#000000\" d=\"M167.5,-417.5C167.5,-417.5 75.5,-417.5 75.5,-417.5 69.5,-417.5 63.5,-411.5 63.5,-405.5 63.5,-405.5 63.5,-361.5 63.5,-361.5 63.5,-355.5 69.5,-349.5 75.5,-349.5 75.5,-349.5 167.5,-349.5 167.5,-349.5 173.5,-349.5 179.5,-355.5 179.5,-361.5 179.5,-361.5 179.5,-405.5 179.5,-405.5 179.5,-411.5 173.5,-417.5 167.5,-417.5\"/>\n<text text-anchor=\"start\" x=\"92\" y=\"-402.3\" font-family=\"Helvetica,sans-Serif\" font-size=\"14.00\" fill=\"#000000\">gini = 0.0</text>\n<text text-anchor=\"start\" x=\"73.5\" y=\"-387.3\" font-family=\"Helvetica,sans-Serif\" font-size=\"14.00\" fill=\"#000000\">samples = 324</text>\n<text text-anchor=\"start\" x=\"71.5\" y=\"-372.3\" font-family=\"Helvetica,sans-Serif\" font-size=\"14.00\" fill=\"#000000\">value = [324, 0]</text>\n<text text-anchor=\"start\" x=\"81.5\" y=\"-357.3\" font-family=\"Helvetica,sans-Serif\" font-size=\"14.00\" fill=\"#000000\">class = Died</text>\n</g>\n<!-- 7&#45;&gt;8 -->\n<g id=\"edge8\" class=\"edge\">\n<title>7&#45;&gt;8</title>\n<path fill=\"none\" stroke=\"#000000\" d=\"M204.7318,-460.8796C192.1944,-449.2237 178.5716,-436.5587 166.047,-424.9148\"/>\n<polygon fill=\"#000000\" stroke=\"#000000\" points=\"168.1172,-422.0605 158.4102,-417.8149 163.3509,-427.1872 168.1172,-422.0605\"/>\n</g>\n<!-- 9 -->\n<g id=\"node10\" class=\"node\">\n<title>9</title>\n<path fill=\"#e5833c\" stroke=\"#000000\" d=\"M293,-425C293,-425 210,-425 210,-425 204,-425 198,-419 198,-413 198,-413 198,-354 198,-354 198,-348 204,-342 210,-342 210,-342 293,-342 293,-342 299,-342 305,-348 305,-354 305,-354 305,-413 305,-413 305,-419 299,-425 293,-425\"/>\n<text text-anchor=\"start\" x=\"217\" y=\"-409.8\" font-family=\"Helvetica,sans-Serif\" font-size=\"14.00\" fill=\"#000000\">age ≤ 70.5</text>\n<text text-anchor=\"start\" x=\"213.5\" y=\"-394.8\" font-family=\"Helvetica,sans-Serif\" font-size=\"14.00\" fill=\"#000000\">gini = 0.032</text>\n<text text-anchor=\"start\" x=\"207.5\" y=\"-379.8\" font-family=\"Helvetica,sans-Serif\" font-size=\"14.00\" fill=\"#000000\">samples = 62</text>\n<text text-anchor=\"start\" x=\"206\" y=\"-364.8\" font-family=\"Helvetica,sans-Serif\" font-size=\"14.00\" fill=\"#000000\">value = [61, 1]</text>\n<text text-anchor=\"start\" x=\"211.5\" y=\"-349.8\" font-family=\"Helvetica,sans-Serif\" font-size=\"14.00\" fill=\"#000000\">class = Died</text>\n</g>\n<!-- 7&#45;&gt;9 -->\n<g id=\"edge9\" class=\"edge\">\n<title>7&#45;&gt;9</title>\n<path fill=\"none\" stroke=\"#000000\" d=\"M250.1995,-460.8796C250.3372,-452.6838 250.4834,-443.9891 250.626,-435.5013\"/>\n<polygon fill=\"#000000\" stroke=\"#000000\" points=\"254.1289,-435.3555 250.7975,-425.2981 247.1299,-435.2378 254.1289,-435.3555\"/>\n</g>\n<!-- 10 -->\n<g id=\"node11\" class=\"node\">\n<title>10</title>\n<path fill=\"#e9965a\" stroke=\"#000000\" d=\"M197.5,-306C197.5,-306 37.5,-306 37.5,-306 31.5,-306 25.5,-300 25.5,-294 25.5,-294 25.5,-235 25.5,-235 25.5,-229 31.5,-223 37.5,-223 37.5,-223 197.5,-223 197.5,-223 203.5,-223 209.5,-229 209.5,-235 209.5,-235 209.5,-294 209.5,-294 209.5,-300 203.5,-306 197.5,-306\"/>\n<text text-anchor=\"start\" x=\"33.5\" y=\"-290.8\" font-family=\"Helvetica,sans-Serif\" font-size=\"14.00\" fill=\"#000000\">location_Hong Kong ≤ 0.5</text>\n<text text-anchor=\"start\" x=\"79.5\" y=\"-275.8\" font-family=\"Helvetica,sans-Serif\" font-size=\"14.00\" fill=\"#000000\">gini = 0.245</text>\n<text text-anchor=\"start\" x=\"78\" y=\"-260.8\" font-family=\"Helvetica,sans-Serif\" font-size=\"14.00\" fill=\"#000000\">samples = 7</text>\n<text text-anchor=\"start\" x=\"76\" y=\"-245.8\" font-family=\"Helvetica,sans-Serif\" font-size=\"14.00\" fill=\"#000000\">value = [6, 1]</text>\n<text text-anchor=\"start\" x=\"77.5\" y=\"-230.8\" font-family=\"Helvetica,sans-Serif\" font-size=\"14.00\" fill=\"#000000\">class = Died</text>\n</g>\n<!-- 9&#45;&gt;10 -->\n<g id=\"edge10\" class=\"edge\">\n<title>9&#45;&gt;10</title>\n<path fill=\"none\" stroke=\"#000000\" d=\"M204.6333,-341.8796C194.1875,-332.6031 183.0219,-322.6874 172.289,-313.1559\"/>\n<polygon fill=\"#000000\" stroke=\"#000000\" points=\"174.368,-310.3213 164.5667,-306.2981 169.7199,-315.5553 174.368,-310.3213\"/>\n</g>\n<!-- 15 -->\n<g id=\"node16\" class=\"node\">\n<title>15</title>\n<path fill=\"#e58139\" stroke=\"#000000\" d=\"M323,-298.5C323,-298.5 240,-298.5 240,-298.5 234,-298.5 228,-292.5 228,-286.5 228,-286.5 228,-242.5 228,-242.5 228,-236.5 234,-230.5 240,-230.5 240,-230.5 323,-230.5 323,-230.5 329,-230.5 335,-236.5 335,-242.5 335,-242.5 335,-286.5 335,-286.5 335,-292.5 329,-298.5 323,-298.5\"/>\n<text text-anchor=\"start\" x=\"252\" y=\"-283.3\" font-family=\"Helvetica,sans-Serif\" font-size=\"14.00\" fill=\"#000000\">gini = 0.0</text>\n<text text-anchor=\"start\" x=\"237.5\" y=\"-268.3\" font-family=\"Helvetica,sans-Serif\" font-size=\"14.00\" fill=\"#000000\">samples = 55</text>\n<text text-anchor=\"start\" x=\"236\" y=\"-253.3\" font-family=\"Helvetica,sans-Serif\" font-size=\"14.00\" fill=\"#000000\">value = [55, 0]</text>\n<text text-anchor=\"start\" x=\"241.5\" y=\"-238.3\" font-family=\"Helvetica,sans-Serif\" font-size=\"14.00\" fill=\"#000000\">class = Died</text>\n</g>\n<!-- 9&#45;&gt;15 -->\n<g id=\"edge15\" class=\"edge\">\n<title>9&#45;&gt;15</title>\n<path fill=\"none\" stroke=\"#000000\" d=\"M261.9925,-341.8796C264.7092,-331.1034 267.6434,-319.4647 270.3905,-308.5677\"/>\n<polygon fill=\"#000000\" stroke=\"#000000\" points=\"273.7984,-309.3672 272.8492,-298.8149 267.0108,-307.6559 273.7984,-309.3672\"/>\n</g>\n<!-- 11 -->\n<g id=\"node12\" class=\"node\">\n<title>11</title>\n<path fill=\"#e58139\" stroke=\"#000000\" d=\"M87,-179.5C87,-179.5 12,-179.5 12,-179.5 6,-179.5 0,-173.5 0,-167.5 0,-167.5 0,-123.5 0,-123.5 0,-117.5 6,-111.5 12,-111.5 12,-111.5 87,-111.5 87,-111.5 93,-111.5 99,-117.5 99,-123.5 99,-123.5 99,-167.5 99,-167.5 99,-173.5 93,-179.5 87,-179.5\"/>\n<text text-anchor=\"start\" x=\"20\" y=\"-164.3\" font-family=\"Helvetica,sans-Serif\" font-size=\"14.00\" fill=\"#000000\">gini = 0.0</text>\n<text text-anchor=\"start\" x=\"10\" y=\"-149.3\" font-family=\"Helvetica,sans-Serif\" font-size=\"14.00\" fill=\"#000000\">samples = 4</text>\n<text text-anchor=\"start\" x=\"8\" y=\"-134.3\" font-family=\"Helvetica,sans-Serif\" font-size=\"14.00\" fill=\"#000000\">value = [4, 0]</text>\n<text text-anchor=\"start\" x=\"9.5\" y=\"-119.3\" font-family=\"Helvetica,sans-Serif\" font-size=\"14.00\" fill=\"#000000\">class = Died</text>\n</g>\n<!-- 10&#45;&gt;11 -->\n<g id=\"edge11\" class=\"edge\">\n<title>10&#45;&gt;11</title>\n<path fill=\"none\" stroke=\"#000000\" d=\"M93.7169,-222.8796C87.3706,-211.7735 80.5007,-199.7513 74.1109,-188.5691\"/>\n<polygon fill=\"#000000\" stroke=\"#000000\" points=\"77.1088,-186.7609 69.1085,-179.8149 71.0311,-190.2339 77.1088,-186.7609\"/>\n</g>\n<!-- 12 -->\n<g id=\"node13\" class=\"node\">\n<title>12</title>\n<path fill=\"#f2c09c\" stroke=\"#000000\" d=\"M242,-187C242,-187 129,-187 129,-187 123,-187 117,-181 117,-175 117,-175 117,-116 117,-116 117,-110 123,-104 129,-104 129,-104 242,-104 242,-104 248,-104 254,-110 254,-116 254,-116 254,-175 254,-175 254,-181 248,-187 242,-187\"/>\n<text text-anchor=\"start\" x=\"125\" y=\"-171.8\" font-family=\"Helvetica,sans-Serif\" font-size=\"14.00\" fill=\"#000000\">gender_male ≤ 0.5</text>\n<text text-anchor=\"start\" x=\"147.5\" y=\"-156.8\" font-family=\"Helvetica,sans-Serif\" font-size=\"14.00\" fill=\"#000000\">gini = 0.444</text>\n<text text-anchor=\"start\" x=\"146\" y=\"-141.8\" font-family=\"Helvetica,sans-Serif\" font-size=\"14.00\" fill=\"#000000\">samples = 3</text>\n<text text-anchor=\"start\" x=\"144\" y=\"-126.8\" font-family=\"Helvetica,sans-Serif\" font-size=\"14.00\" fill=\"#000000\">value = [2, 1]</text>\n<text text-anchor=\"start\" x=\"145.5\" y=\"-111.8\" font-family=\"Helvetica,sans-Serif\" font-size=\"14.00\" fill=\"#000000\">class = Died</text>\n</g>\n<!-- 10&#45;&gt;12 -->\n<g id=\"edge12\" class=\"edge\">\n<title>10&#45;&gt;12</title>\n<path fill=\"none\" stroke=\"#000000\" d=\"M141.2831,-222.8796C146.2237,-214.2335 151.4816,-205.0322 156.5833,-196.1042\"/>\n<polygon fill=\"#000000\" stroke=\"#000000\" points=\"159.6928,-197.717 161.6154,-187.2981 153.6151,-194.244 159.6928,-197.717\"/>\n</g>\n<!-- 13 -->\n<g id=\"node14\" class=\"node\">\n<title>13</title>\n<path fill=\"#e58139\" stroke=\"#000000\" d=\"M158,-68C158,-68 83,-68 83,-68 77,-68 71,-62 71,-56 71,-56 71,-12 71,-12 71,-6 77,0 83,0 83,0 158,0 158,0 164,0 170,-6 170,-12 170,-12 170,-56 170,-56 170,-62 164,-68 158,-68\"/>\n<text text-anchor=\"start\" x=\"91\" y=\"-52.8\" font-family=\"Helvetica,sans-Serif\" font-size=\"14.00\" fill=\"#000000\">gini = 0.0</text>\n<text text-anchor=\"start\" x=\"81\" y=\"-37.8\" font-family=\"Helvetica,sans-Serif\" font-size=\"14.00\" fill=\"#000000\">samples = 2</text>\n<text text-anchor=\"start\" x=\"79\" y=\"-22.8\" font-family=\"Helvetica,sans-Serif\" font-size=\"14.00\" fill=\"#000000\">value = [2, 0]</text>\n<text text-anchor=\"start\" x=\"80.5\" y=\"-7.8\" font-family=\"Helvetica,sans-Serif\" font-size=\"14.00\" fill=\"#000000\">class = Died</text>\n</g>\n<!-- 12&#45;&gt;13 -->\n<g id=\"edge13\" class=\"edge\">\n<title>12&#45;&gt;13</title>\n<path fill=\"none\" stroke=\"#000000\" d=\"M161.2964,-103.9815C156.1529,-95.1585 150.7123,-85.8258 145.5384,-76.9506\"/>\n<polygon fill=\"#000000\" stroke=\"#000000\" points=\"148.5344,-75.1402 140.4743,-68.2637 142.487,-78.6656 148.5344,-75.1402\"/>\n</g>\n<!-- 14 -->\n<g id=\"node15\" class=\"node\">\n<title>14</title>\n<path fill=\"#399de5\" stroke=\"#000000\" d=\"M299,-68C299,-68 200,-68 200,-68 194,-68 188,-62 188,-56 188,-56 188,-12 188,-12 188,-6 194,0 200,0 200,0 299,0 299,0 305,0 311,-6 311,-12 311,-12 311,-56 311,-56 311,-62 305,-68 299,-68\"/>\n<text text-anchor=\"start\" x=\"220\" y=\"-52.8\" font-family=\"Helvetica,sans-Serif\" font-size=\"14.00\" fill=\"#000000\">gini = 0.0</text>\n<text text-anchor=\"start\" x=\"210\" y=\"-37.8\" font-family=\"Helvetica,sans-Serif\" font-size=\"14.00\" fill=\"#000000\">samples = 1</text>\n<text text-anchor=\"start\" x=\"208\" y=\"-22.8\" font-family=\"Helvetica,sans-Serif\" font-size=\"14.00\" fill=\"#000000\">value = [0, 1]</text>\n<text text-anchor=\"start\" x=\"196\" y=\"-7.8\" font-family=\"Helvetica,sans-Serif\" font-size=\"14.00\" fill=\"#000000\">class = Survived</text>\n</g>\n<!-- 12&#45;&gt;14 -->\n<g id=\"edge14\" class=\"edge\">\n<title>12&#45;&gt;14</title>\n<path fill=\"none\" stroke=\"#000000\" d=\"M209.3312,-103.9815C214.3956,-95.1585 219.7525,-85.8258 224.8468,-76.9506\"/>\n<polygon fill=\"#000000\" stroke=\"#000000\" points=\"227.8903,-78.6789 229.833,-68.2637 221.8193,-75.1942 227.8903,-78.6789\"/>\n</g>\n<!-- 17 -->\n<g id=\"node18\" class=\"node\">\n<title>17</title>\n<path fill=\"#e58139\" stroke=\"#000000\" d=\"M420,-417.5C420,-417.5 337,-417.5 337,-417.5 331,-417.5 325,-411.5 325,-405.5 325,-405.5 325,-361.5 325,-361.5 325,-355.5 331,-349.5 337,-349.5 337,-349.5 420,-349.5 420,-349.5 426,-349.5 432,-355.5 432,-361.5 432,-361.5 432,-405.5 432,-405.5 432,-411.5 426,-417.5 420,-417.5\"/>\n<text text-anchor=\"start\" x=\"349\" y=\"-402.3\" font-family=\"Helvetica,sans-Serif\" font-size=\"14.00\" fill=\"#000000\">gini = 0.0</text>\n<text text-anchor=\"start\" x=\"334.5\" y=\"-387.3\" font-family=\"Helvetica,sans-Serif\" font-size=\"14.00\" fill=\"#000000\">samples = 18</text>\n<text text-anchor=\"start\" x=\"333\" y=\"-372.3\" font-family=\"Helvetica,sans-Serif\" font-size=\"14.00\" fill=\"#000000\">value = [18, 0]</text>\n<text text-anchor=\"start\" x=\"338.5\" y=\"-357.3\" font-family=\"Helvetica,sans-Serif\" font-size=\"14.00\" fill=\"#000000\">class = Died</text>\n</g>\n<!-- 16&#45;&gt;17 -->\n<g id=\"edge17\" class=\"edge\">\n<title>16&#45;&gt;17</title>\n<path fill=\"none\" stroke=\"#000000\" d=\"M379.1502,-460.8796C379.0606,-450.2134 378.9639,-438.7021 378.8731,-427.9015\"/>\n<polygon fill=\"#000000\" stroke=\"#000000\" points=\"382.3724,-427.7851 378.7884,-417.8149 375.3726,-427.844 382.3724,-427.7851\"/>\n</g>\n<!-- 18 -->\n<g id=\"node19\" class=\"node\">\n<title>18</title>\n<path fill=\"#eca06a\" stroke=\"#000000\" d=\"M537,-425C537,-425 462,-425 462,-425 456,-425 450,-419 450,-413 450,-413 450,-354 450,-354 450,-348 456,-342 462,-342 462,-342 537,-342 537,-342 543,-342 549,-348 549,-354 549,-354 549,-413 549,-413 549,-419 543,-425 537,-425\"/>\n<text text-anchor=\"start\" x=\"465\" y=\"-409.8\" font-family=\"Helvetica,sans-Serif\" font-size=\"14.00\" fill=\"#000000\">age ≤ 67.5</text>\n<text text-anchor=\"start\" x=\"466\" y=\"-394.8\" font-family=\"Helvetica,sans-Serif\" font-size=\"14.00\" fill=\"#000000\">gini = 0.32</text>\n<text text-anchor=\"start\" x=\"460\" y=\"-379.8\" font-family=\"Helvetica,sans-Serif\" font-size=\"14.00\" fill=\"#000000\">samples = 5</text>\n<text text-anchor=\"start\" x=\"458\" y=\"-364.8\" font-family=\"Helvetica,sans-Serif\" font-size=\"14.00\" fill=\"#000000\">value = [4, 1]</text>\n<text text-anchor=\"start\" x=\"459.5\" y=\"-349.8\" font-family=\"Helvetica,sans-Serif\" font-size=\"14.00\" fill=\"#000000\">class = Died</text>\n</g>\n<!-- 16&#45;&gt;18 -->\n<g id=\"edge18\" class=\"edge\">\n<title>16&#45;&gt;18</title>\n<path fill=\"none\" stroke=\"#000000\" d=\"M421.4702,-460.8796C430.7338,-451.6931 440.6296,-441.8798 450.1552,-432.4336\"/>\n<polygon fill=\"#000000\" stroke=\"#000000\" points=\"452.7146,-434.8247 457.3507,-425.2981 447.7856,-429.8543 452.7146,-434.8247\"/>\n</g>\n<!-- 19 -->\n<g id=\"node20\" class=\"node\">\n<title>19</title>\n<path fill=\"#399de5\" stroke=\"#000000\" d=\"M520,-298.5C520,-298.5 421,-298.5 421,-298.5 415,-298.5 409,-292.5 409,-286.5 409,-286.5 409,-242.5 409,-242.5 409,-236.5 415,-230.5 421,-230.5 421,-230.5 520,-230.5 520,-230.5 526,-230.5 532,-236.5 532,-242.5 532,-242.5 532,-286.5 532,-286.5 532,-292.5 526,-298.5 520,-298.5\"/>\n<text text-anchor=\"start\" x=\"441\" y=\"-283.3\" font-family=\"Helvetica,sans-Serif\" font-size=\"14.00\" fill=\"#000000\">gini = 0.0</text>\n<text text-anchor=\"start\" x=\"431\" y=\"-268.3\" font-family=\"Helvetica,sans-Serif\" font-size=\"14.00\" fill=\"#000000\">samples = 1</text>\n<text text-anchor=\"start\" x=\"429\" y=\"-253.3\" font-family=\"Helvetica,sans-Serif\" font-size=\"14.00\" fill=\"#000000\">value = [0, 1]</text>\n<text text-anchor=\"start\" x=\"417\" y=\"-238.3\" font-family=\"Helvetica,sans-Serif\" font-size=\"14.00\" fill=\"#000000\">class = Survived</text>\n</g>\n<!-- 18&#45;&gt;19 -->\n<g id=\"edge19\" class=\"edge\">\n<title>18&#45;&gt;19</title>\n<path fill=\"none\" stroke=\"#000000\" d=\"M489.3572,-341.8796C486.7311,-331.1034 483.8948,-319.4647 481.2392,-308.5677\"/>\n<polygon fill=\"#000000\" stroke=\"#000000\" points=\"484.6307,-307.7019 478.8625,-298.8149 477.8297,-309.3593 484.6307,-307.7019\"/>\n</g>\n<!-- 20 -->\n<g id=\"node21\" class=\"node\">\n<title>20</title>\n<path fill=\"#e58139\" stroke=\"#000000\" d=\"M637,-298.5C637,-298.5 562,-298.5 562,-298.5 556,-298.5 550,-292.5 550,-286.5 550,-286.5 550,-242.5 550,-242.5 550,-236.5 556,-230.5 562,-230.5 562,-230.5 637,-230.5 637,-230.5 643,-230.5 649,-236.5 649,-242.5 649,-242.5 649,-286.5 649,-286.5 649,-292.5 643,-298.5 637,-298.5\"/>\n<text text-anchor=\"start\" x=\"570\" y=\"-283.3\" font-family=\"Helvetica,sans-Serif\" font-size=\"14.00\" fill=\"#000000\">gini = 0.0</text>\n<text text-anchor=\"start\" x=\"560\" y=\"-268.3\" font-family=\"Helvetica,sans-Serif\" font-size=\"14.00\" fill=\"#000000\">samples = 4</text>\n<text text-anchor=\"start\" x=\"558\" y=\"-253.3\" font-family=\"Helvetica,sans-Serif\" font-size=\"14.00\" fill=\"#000000\">value = [4, 0]</text>\n<text text-anchor=\"start\" x=\"559.5\" y=\"-238.3\" font-family=\"Helvetica,sans-Serif\" font-size=\"14.00\" fill=\"#000000\">class = Died</text>\n</g>\n<!-- 18&#45;&gt;20 -->\n<g id=\"edge20\" class=\"edge\">\n<title>18&#45;&gt;20</title>\n<path fill=\"none\" stroke=\"#000000\" d=\"M534.4751,-341.8796C544.0852,-330.4436 554.5115,-318.0363 564.1429,-306.575\"/>\n<polygon fill=\"#000000\" stroke=\"#000000\" points=\"566.91,-308.7225 570.6639,-298.8149 561.5509,-304.219 566.91,-308.7225\"/>\n</g>\n<!-- 22 -->\n<g id=\"node23\" class=\"node\">\n<title>22</title>\n<path fill=\"#e58139\" stroke=\"#000000\" d=\"M558,-536.5C558,-536.5 475,-536.5 475,-536.5 469,-536.5 463,-530.5 463,-524.5 463,-524.5 463,-480.5 463,-480.5 463,-474.5 469,-468.5 475,-468.5 475,-468.5 558,-468.5 558,-468.5 564,-468.5 570,-474.5 570,-480.5 570,-480.5 570,-524.5 570,-524.5 570,-530.5 564,-536.5 558,-536.5\"/>\n<text text-anchor=\"start\" x=\"487\" y=\"-521.3\" font-family=\"Helvetica,sans-Serif\" font-size=\"14.00\" fill=\"#000000\">gini = 0.0</text>\n<text text-anchor=\"start\" x=\"472.5\" y=\"-506.3\" font-family=\"Helvetica,sans-Serif\" font-size=\"14.00\" fill=\"#000000\">samples = 13</text>\n<text text-anchor=\"start\" x=\"471\" y=\"-491.3\" font-family=\"Helvetica,sans-Serif\" font-size=\"14.00\" fill=\"#000000\">value = [13, 0]</text>\n<text text-anchor=\"start\" x=\"476.5\" y=\"-476.3\" font-family=\"Helvetica,sans-Serif\" font-size=\"14.00\" fill=\"#000000\">class = Died</text>\n</g>\n<!-- 21&#45;&gt;22 -->\n<g id=\"edge22\" class=\"edge\">\n<title>21&#45;&gt;22</title>\n<path fill=\"none\" stroke=\"#000000\" d=\"M520.4015,-579.8796C519.8637,-569.2134 519.2833,-557.7021 518.7387,-546.9015\"/>\n<polygon fill=\"#000000\" stroke=\"#000000\" points=\"522.2294,-546.626 518.2302,-536.8149 515.2383,-546.9785 522.2294,-546.626\"/>\n</g>\n<!-- 23 -->\n<g id=\"node24\" class=\"node\">\n<title>23</title>\n<path fill=\"#399de5\" stroke=\"#000000\" d=\"M699,-536.5C699,-536.5 600,-536.5 600,-536.5 594,-536.5 588,-530.5 588,-524.5 588,-524.5 588,-480.5 588,-480.5 588,-474.5 594,-468.5 600,-468.5 600,-468.5 699,-468.5 699,-468.5 705,-468.5 711,-474.5 711,-480.5 711,-480.5 711,-524.5 711,-524.5 711,-530.5 705,-536.5 699,-536.5\"/>\n<text text-anchor=\"start\" x=\"620\" y=\"-521.3\" font-family=\"Helvetica,sans-Serif\" font-size=\"14.00\" fill=\"#000000\">gini = 0.0</text>\n<text text-anchor=\"start\" x=\"610\" y=\"-506.3\" font-family=\"Helvetica,sans-Serif\" font-size=\"14.00\" fill=\"#000000\">samples = 1</text>\n<text text-anchor=\"start\" x=\"608\" y=\"-491.3\" font-family=\"Helvetica,sans-Serif\" font-size=\"14.00\" fill=\"#000000\">value = [0, 1]</text>\n<text text-anchor=\"start\" x=\"596\" y=\"-476.3\" font-family=\"Helvetica,sans-Serif\" font-size=\"14.00\" fill=\"#000000\">class = Survived</text>\n</g>\n<!-- 21&#45;&gt;23 -->\n<g id=\"edge23\" class=\"edge\">\n<title>21&#45;&gt;23</title>\n<path fill=\"none\" stroke=\"#000000\" d=\"M566.9184,-579.8796C579.3579,-568.2237 592.8743,-555.5587 605.301,-543.9148\"/>\n<polygon fill=\"#000000\" stroke=\"#000000\" points=\"607.9741,-546.2065 612.8782,-536.8149 603.1879,-541.0985 607.9741,-546.2065\"/>\n</g>\n<!-- 25 -->\n<g id=\"node26\" class=\"node\">\n<title>25</title>\n<path fill=\"#399de5\" stroke=\"#000000\" d=\"M719,-655.5C719,-655.5 620,-655.5 620,-655.5 614,-655.5 608,-649.5 608,-643.5 608,-643.5 608,-599.5 608,-599.5 608,-593.5 614,-587.5 620,-587.5 620,-587.5 719,-587.5 719,-587.5 725,-587.5 731,-593.5 731,-599.5 731,-599.5 731,-643.5 731,-643.5 731,-649.5 725,-655.5 719,-655.5\"/>\n<text text-anchor=\"start\" x=\"640\" y=\"-640.3\" font-family=\"Helvetica,sans-Serif\" font-size=\"14.00\" fill=\"#000000\">gini = 0.0</text>\n<text text-anchor=\"start\" x=\"630\" y=\"-625.3\" font-family=\"Helvetica,sans-Serif\" font-size=\"14.00\" fill=\"#000000\">samples = 1</text>\n<text text-anchor=\"start\" x=\"628\" y=\"-610.3\" font-family=\"Helvetica,sans-Serif\" font-size=\"14.00\" fill=\"#000000\">value = [0, 1]</text>\n<text text-anchor=\"start\" x=\"616\" y=\"-595.3\" font-family=\"Helvetica,sans-Serif\" font-size=\"14.00\" fill=\"#000000\">class = Survived</text>\n</g>\n<!-- 24&#45;&gt;25 -->\n<g id=\"edge25\" class=\"edge\">\n<title>24&#45;&gt;25</title>\n<path fill=\"none\" stroke=\"#000000\" d=\"M674.0517,-698.8796C673.4243,-688.2134 672.7472,-676.7021 672.1119,-665.9015\"/>\n<polygon fill=\"#000000\" stroke=\"#000000\" points=\"675.5998,-665.5921 671.5185,-655.8149 668.6119,-666.0032 675.5998,-665.5921\"/>\n</g>\n<!-- 26 -->\n<g id=\"node27\" class=\"node\">\n<title>26</title>\n<path fill=\"#e58139\" stroke=\"#000000\" d=\"M836,-655.5C836,-655.5 761,-655.5 761,-655.5 755,-655.5 749,-649.5 749,-643.5 749,-643.5 749,-599.5 749,-599.5 749,-593.5 755,-587.5 761,-587.5 761,-587.5 836,-587.5 836,-587.5 842,-587.5 848,-593.5 848,-599.5 848,-599.5 848,-643.5 848,-643.5 848,-649.5 842,-655.5 836,-655.5\"/>\n<text text-anchor=\"start\" x=\"769\" y=\"-640.3\" font-family=\"Helvetica,sans-Serif\" font-size=\"14.00\" fill=\"#000000\">gini = 0.0</text>\n<text text-anchor=\"start\" x=\"759\" y=\"-625.3\" font-family=\"Helvetica,sans-Serif\" font-size=\"14.00\" fill=\"#000000\">samples = 6</text>\n<text text-anchor=\"start\" x=\"757\" y=\"-610.3\" font-family=\"Helvetica,sans-Serif\" font-size=\"14.00\" fill=\"#000000\">value = [6, 0]</text>\n<text text-anchor=\"start\" x=\"758.5\" y=\"-595.3\" font-family=\"Helvetica,sans-Serif\" font-size=\"14.00\" fill=\"#000000\">class = Died</text>\n</g>\n<!-- 24&#45;&gt;26 -->\n<g id=\"edge26\" class=\"edge\">\n<title>24&#45;&gt;26</title>\n<path fill=\"none\" stroke=\"#000000\" d=\"M719.1697,-698.8796C731.1194,-687.2237 744.1037,-674.5587 756.0411,-662.9148\"/>\n<polygon fill=\"#000000\" stroke=\"#000000\" points=\"758.6053,-665.303 763.32,-655.8149 753.7175,-660.292 758.6053,-665.303\"/>\n</g>\n<!-- 28 -->\n<g id=\"node29\" class=\"node\">\n<title>28</title>\n<path fill=\"#e58139\" stroke=\"#000000\" d=\"M872,-774.5C872,-774.5 797,-774.5 797,-774.5 791,-774.5 785,-768.5 785,-762.5 785,-762.5 785,-718.5 785,-718.5 785,-712.5 791,-706.5 797,-706.5 797,-706.5 872,-706.5 872,-706.5 878,-706.5 884,-712.5 884,-718.5 884,-718.5 884,-762.5 884,-762.5 884,-768.5 878,-774.5 872,-774.5\"/>\n<text text-anchor=\"start\" x=\"805\" y=\"-759.3\" font-family=\"Helvetica,sans-Serif\" font-size=\"14.00\" fill=\"#000000\">gini = 0.0</text>\n<text text-anchor=\"start\" x=\"795\" y=\"-744.3\" font-family=\"Helvetica,sans-Serif\" font-size=\"14.00\" fill=\"#000000\">samples = 2</text>\n<text text-anchor=\"start\" x=\"793\" y=\"-729.3\" font-family=\"Helvetica,sans-Serif\" font-size=\"14.00\" fill=\"#000000\">value = [2, 0]</text>\n<text text-anchor=\"start\" x=\"794.5\" y=\"-714.3\" font-family=\"Helvetica,sans-Serif\" font-size=\"14.00\" fill=\"#000000\">class = Died</text>\n</g>\n<!-- 27&#45;&gt;28 -->\n<g id=\"edge28\" class=\"edge\">\n<title>27&#45;&gt;28</title>\n<path fill=\"none\" stroke=\"#000000\" d=\"M841.6527,-817.8796C840.6668,-807.2134 839.6027,-795.7021 838.6043,-784.9015\"/>\n<polygon fill=\"#000000\" stroke=\"#000000\" points=\"842.0776,-784.4503 837.672,-774.8149 835.1074,-785.0947 842.0776,-784.4503\"/>\n</g>\n<!-- 29 -->\n<g id=\"node30\" class=\"node\">\n<title>29</title>\n<path fill=\"#399de5\" stroke=\"#000000\" d=\"M1013,-774.5C1013,-774.5 914,-774.5 914,-774.5 908,-774.5 902,-768.5 902,-762.5 902,-762.5 902,-718.5 902,-718.5 902,-712.5 908,-706.5 914,-706.5 914,-706.5 1013,-706.5 1013,-706.5 1019,-706.5 1025,-712.5 1025,-718.5 1025,-718.5 1025,-762.5 1025,-762.5 1025,-768.5 1019,-774.5 1013,-774.5\"/>\n<text text-anchor=\"start\" x=\"934\" y=\"-759.3\" font-family=\"Helvetica,sans-Serif\" font-size=\"14.00\" fill=\"#000000\">gini = 0.0</text>\n<text text-anchor=\"start\" x=\"924\" y=\"-744.3\" font-family=\"Helvetica,sans-Serif\" font-size=\"14.00\" fill=\"#000000\">samples = 1</text>\n<text text-anchor=\"start\" x=\"922\" y=\"-729.3\" font-family=\"Helvetica,sans-Serif\" font-size=\"14.00\" fill=\"#000000\">value = [0, 1]</text>\n<text text-anchor=\"start\" x=\"910\" y=\"-714.3\" font-family=\"Helvetica,sans-Serif\" font-size=\"14.00\" fill=\"#000000\">class = Survived</text>\n</g>\n<!-- 27&#45;&gt;29 -->\n<g id=\"edge29\" class=\"edge\">\n<title>27&#45;&gt;29</title>\n<path fill=\"none\" stroke=\"#000000\" d=\"M886.7707,-817.8796C898.2195,-806.3337 910.6503,-793.7976 922.1062,-782.2446\"/>\n<polygon fill=\"#000000\" stroke=\"#000000\" points=\"924.9175,-784.3802 929.4734,-774.8149 919.9469,-779.4514 924.9175,-784.3802\"/>\n</g>\n<!-- 31 -->\n<g id=\"node32\" class=\"node\">\n<title>31</title>\n<path fill=\"#e58139\" stroke=\"#000000\" d=\"M1044,-893.5C1044,-893.5 961,-893.5 961,-893.5 955,-893.5 949,-887.5 949,-881.5 949,-881.5 949,-837.5 949,-837.5 949,-831.5 955,-825.5 961,-825.5 961,-825.5 1044,-825.5 1044,-825.5 1050,-825.5 1056,-831.5 1056,-837.5 1056,-837.5 1056,-881.5 1056,-881.5 1056,-887.5 1050,-893.5 1044,-893.5\"/>\n<text text-anchor=\"start\" x=\"973\" y=\"-878.3\" font-family=\"Helvetica,sans-Serif\" font-size=\"14.00\" fill=\"#000000\">gini = 0.0</text>\n<text text-anchor=\"start\" x=\"958.5\" y=\"-863.3\" font-family=\"Helvetica,sans-Serif\" font-size=\"14.00\" fill=\"#000000\">samples = 35</text>\n<text text-anchor=\"start\" x=\"957\" y=\"-848.3\" font-family=\"Helvetica,sans-Serif\" font-size=\"14.00\" fill=\"#000000\">value = [35, 0]</text>\n<text text-anchor=\"start\" x=\"962.5\" y=\"-833.3\" font-family=\"Helvetica,sans-Serif\" font-size=\"14.00\" fill=\"#000000\">class = Died</text>\n</g>\n<!-- 30&#45;&gt;31 -->\n<g id=\"edge31\" class=\"edge\">\n<title>30&#45;&gt;31</title>\n<path fill=\"none\" stroke=\"#000000\" d=\"M1006.4015,-936.8796C1005.8637,-926.2134 1005.2833,-914.7021 1004.7387,-903.9015\"/>\n<polygon fill=\"#000000\" stroke=\"#000000\" points=\"1008.2294,-903.626 1004.2302,-893.8149 1001.2383,-903.9785 1008.2294,-903.626\"/>\n</g>\n<!-- 32 -->\n<g id=\"node33\" class=\"node\">\n<title>32</title>\n<path fill=\"#eb9c63\" stroke=\"#000000\" d=\"M1169,-901C1169,-901 1086,-901 1086,-901 1080,-901 1074,-895 1074,-889 1074,-889 1074,-830 1074,-830 1074,-824 1080,-818 1086,-818 1086,-818 1169,-818 1169,-818 1175,-818 1181,-824 1181,-830 1181,-830 1181,-889 1181,-889 1181,-895 1175,-901 1169,-901\"/>\n<text text-anchor=\"start\" x=\"1093\" y=\"-885.8\" font-family=\"Helvetica,sans-Serif\" font-size=\"14.00\" fill=\"#000000\">age ≤ 56.5</text>\n<text text-anchor=\"start\" x=\"1089.5\" y=\"-870.8\" font-family=\"Helvetica,sans-Serif\" font-size=\"14.00\" fill=\"#000000\">gini = 0.291</text>\n<text text-anchor=\"start\" x=\"1083.5\" y=\"-855.8\" font-family=\"Helvetica,sans-Serif\" font-size=\"14.00\" fill=\"#000000\">samples = 34</text>\n<text text-anchor=\"start\" x=\"1082\" y=\"-840.8\" font-family=\"Helvetica,sans-Serif\" font-size=\"14.00\" fill=\"#000000\">value = [28, 6]</text>\n<text text-anchor=\"start\" x=\"1087.5\" y=\"-825.8\" font-family=\"Helvetica,sans-Serif\" font-size=\"14.00\" fill=\"#000000\">class = Died</text>\n</g>\n<!-- 30&#45;&gt;32 -->\n<g id=\"edge32\" class=\"edge\">\n<title>30&#45;&gt;32</title>\n<path fill=\"none\" stroke=\"#000000\" d=\"M1050.1204,-936.8796C1059.3069,-927.6931 1069.1202,-917.8798 1078.5664,-908.4336\"/>\n<polygon fill=\"#000000\" stroke=\"#000000\" points=\"1081.1057,-910.8441 1085.7019,-901.2981 1076.1559,-905.8943 1081.1057,-910.8441\"/>\n</g>\n<!-- 33 -->\n<g id=\"node34\" class=\"node\">\n<title>33</title>\n<path fill=\"#e78d4c\" stroke=\"#000000\" d=\"M1154,-782C1154,-782 1071,-782 1071,-782 1065,-782 1059,-776 1059,-770 1059,-770 1059,-711 1059,-711 1059,-705 1065,-699 1071,-699 1071,-699 1154,-699 1154,-699 1160,-699 1166,-705 1166,-711 1166,-711 1166,-770 1166,-770 1166,-776 1160,-782 1154,-782\"/>\n<text text-anchor=\"start\" x=\"1078\" y=\"-766.8\" font-family=\"Helvetica,sans-Serif\" font-size=\"14.00\" fill=\"#000000\">age ≤ 42.0</text>\n<text text-anchor=\"start\" x=\"1074.5\" y=\"-751.8\" font-family=\"Helvetica,sans-Serif\" font-size=\"14.00\" fill=\"#000000\">gini = 0.159</text>\n<text text-anchor=\"start\" x=\"1068.5\" y=\"-736.8\" font-family=\"Helvetica,sans-Serif\" font-size=\"14.00\" fill=\"#000000\">samples = 23</text>\n<text text-anchor=\"start\" x=\"1067\" y=\"-721.8\" font-family=\"Helvetica,sans-Serif\" font-size=\"14.00\" fill=\"#000000\">value = [21, 2]</text>\n<text text-anchor=\"start\" x=\"1072.5\" y=\"-706.8\" font-family=\"Helvetica,sans-Serif\" font-size=\"14.00\" fill=\"#000000\">class = Died</text>\n</g>\n<!-- 32&#45;&gt;33 -->\n<g id=\"edge33\" class=\"edge\">\n<title>32&#45;&gt;33</title>\n<path fill=\"none\" stroke=\"#000000\" d=\"M1122.2537,-817.8796C1121.2093,-809.5938 1120.1006,-800.798 1119.0195,-792.2216\"/>\n<polygon fill=\"#000000\" stroke=\"#000000\" points=\"1122.4919,-791.7818 1117.7687,-782.2981 1115.5468,-792.6573 1122.4919,-791.7818\"/>\n</g>\n<!-- 42 -->\n<g id=\"node43\" class=\"node\">\n<title>42</title>\n<path fill=\"#f4c9aa\" stroke=\"#000000\" d=\"M1285.5,-782C1285.5,-782 1205.5,-782 1205.5,-782 1199.5,-782 1193.5,-776 1193.5,-770 1193.5,-770 1193.5,-711 1193.5,-711 1193.5,-705 1199.5,-699 1205.5,-699 1205.5,-699 1285.5,-699 1285.5,-699 1291.5,-699 1297.5,-705 1297.5,-711 1297.5,-711 1297.5,-770 1297.5,-770 1297.5,-776 1291.5,-782 1285.5,-782\"/>\n<text text-anchor=\"start\" x=\"1211\" y=\"-766.8\" font-family=\"Helvetica,sans-Serif\" font-size=\"14.00\" fill=\"#000000\">age ≤ 57.5</text>\n<text text-anchor=\"start\" x=\"1207.5\" y=\"-751.8\" font-family=\"Helvetica,sans-Serif\" font-size=\"14.00\" fill=\"#000000\">gini = 0.463</text>\n<text text-anchor=\"start\" x=\"1201.5\" y=\"-736.8\" font-family=\"Helvetica,sans-Serif\" font-size=\"14.00\" fill=\"#000000\">samples = 11</text>\n<text text-anchor=\"start\" x=\"1204\" y=\"-721.8\" font-family=\"Helvetica,sans-Serif\" font-size=\"14.00\" fill=\"#000000\">value = [7, 4]</text>\n<text text-anchor=\"start\" x=\"1205.5\" y=\"-706.8\" font-family=\"Helvetica,sans-Serif\" font-size=\"14.00\" fill=\"#000000\">class = Died</text>\n</g>\n<!-- 32&#45;&gt;42 -->\n<g id=\"edge42\" class=\"edge\">\n<title>32&#45;&gt;42</title>\n<path fill=\"none\" stroke=\"#000000\" d=\"M1168.7707,-817.8796C1177.8799,-808.6931 1187.6108,-798.8798 1196.9776,-789.4336\"/>\n<polygon fill=\"#000000\" stroke=\"#000000\" points=\"1199.4973,-791.8634 1204.0532,-782.2981 1194.5267,-786.9345 1199.4973,-791.8634\"/>\n</g>\n<!-- 34 -->\n<g id=\"node35\" class=\"node\">\n<title>34</title>\n<path fill=\"#ea985d\" stroke=\"#000000\" d=\"M1029,-663C1029,-663 946,-663 946,-663 940,-663 934,-657 934,-651 934,-651 934,-592 934,-592 934,-586 940,-580 946,-580 946,-580 1029,-580 1029,-580 1035,-580 1041,-586 1041,-592 1041,-592 1041,-651 1041,-651 1041,-657 1035,-663 1029,-663\"/>\n<text text-anchor=\"start\" x=\"953\" y=\"-647.8\" font-family=\"Helvetica,sans-Serif\" font-size=\"14.00\" fill=\"#000000\">age ≤ 39.0</text>\n<text text-anchor=\"start\" x=\"954\" y=\"-632.8\" font-family=\"Helvetica,sans-Serif\" font-size=\"14.00\" fill=\"#000000\">gini = 0.26</text>\n<text text-anchor=\"start\" x=\"943.5\" y=\"-617.8\" font-family=\"Helvetica,sans-Serif\" font-size=\"14.00\" fill=\"#000000\">samples = 13</text>\n<text text-anchor=\"start\" x=\"942\" y=\"-602.8\" font-family=\"Helvetica,sans-Serif\" font-size=\"14.00\" fill=\"#000000\">value = [11, 2]</text>\n<text text-anchor=\"start\" x=\"947.5\" y=\"-587.8\" font-family=\"Helvetica,sans-Serif\" font-size=\"14.00\" fill=\"#000000\">class = Died</text>\n</g>\n<!-- 33&#45;&gt;34 -->\n<g id=\"edge34\" class=\"edge\">\n<title>33&#45;&gt;34</title>\n<path fill=\"none\" stroke=\"#000000\" d=\"M1068.7811,-698.8796C1059.1314,-689.6931 1048.8234,-679.8798 1038.9009,-670.4336\"/>\n<polygon fill=\"#000000\" stroke=\"#000000\" points=\"1041.0616,-667.6582 1031.4055,-663.2981 1036.235,-672.7282 1041.0616,-667.6582\"/>\n</g>\n<!-- 41 -->\n<g id=\"node42\" class=\"node\">\n<title>41</title>\n<path fill=\"#e58139\" stroke=\"#000000\" d=\"M1154,-655.5C1154,-655.5 1071,-655.5 1071,-655.5 1065,-655.5 1059,-649.5 1059,-643.5 1059,-643.5 1059,-599.5 1059,-599.5 1059,-593.5 1065,-587.5 1071,-587.5 1071,-587.5 1154,-587.5 1154,-587.5 1160,-587.5 1166,-593.5 1166,-599.5 1166,-599.5 1166,-643.5 1166,-643.5 1166,-649.5 1160,-655.5 1154,-655.5\"/>\n<text text-anchor=\"start\" x=\"1083\" y=\"-640.3\" font-family=\"Helvetica,sans-Serif\" font-size=\"14.00\" fill=\"#000000\">gini = 0.0</text>\n<text text-anchor=\"start\" x=\"1068.5\" y=\"-625.3\" font-family=\"Helvetica,sans-Serif\" font-size=\"14.00\" fill=\"#000000\">samples = 10</text>\n<text text-anchor=\"start\" x=\"1067\" y=\"-610.3\" font-family=\"Helvetica,sans-Serif\" font-size=\"14.00\" fill=\"#000000\">value = [10, 0]</text>\n<text text-anchor=\"start\" x=\"1072.5\" y=\"-595.3\" font-family=\"Helvetica,sans-Serif\" font-size=\"14.00\" fill=\"#000000\">class = Died</text>\n</g>\n<!-- 33&#45;&gt;41 -->\n<g id=\"edge41\" class=\"edge\">\n<title>33&#45;&gt;41</title>\n<path fill=\"none\" stroke=\"#000000\" d=\"M1112.5,-698.8796C1112.5,-688.2134 1112.5,-676.7021 1112.5,-665.9015\"/>\n<polygon fill=\"#000000\" stroke=\"#000000\" points=\"1116.0001,-665.8149 1112.5,-655.8149 1109.0001,-665.815 1116.0001,-665.8149\"/>\n</g>\n<!-- 35 -->\n<g id=\"node36\" class=\"node\">\n<title>35</title>\n<path fill=\"#e78c4b\" stroke=\"#000000\" d=\"M923,-544C923,-544 840,-544 840,-544 834,-544 828,-538 828,-532 828,-532 828,-473 828,-473 828,-467 834,-461 840,-461 840,-461 923,-461 923,-461 929,-461 935,-467 935,-473 935,-473 935,-532 935,-532 935,-538 929,-544 923,-544\"/>\n<text text-anchor=\"start\" x=\"847\" y=\"-528.8\" font-family=\"Helvetica,sans-Serif\" font-size=\"14.00\" fill=\"#000000\">age ≤ 34.0</text>\n<text text-anchor=\"start\" x=\"843.5\" y=\"-513.8\" font-family=\"Helvetica,sans-Serif\" font-size=\"14.00\" fill=\"#000000\">gini = 0.153</text>\n<text text-anchor=\"start\" x=\"837.5\" y=\"-498.8\" font-family=\"Helvetica,sans-Serif\" font-size=\"14.00\" fill=\"#000000\">samples = 12</text>\n<text text-anchor=\"start\" x=\"836\" y=\"-483.8\" font-family=\"Helvetica,sans-Serif\" font-size=\"14.00\" fill=\"#000000\">value = [11, 1]</text>\n<text text-anchor=\"start\" x=\"841.5\" y=\"-468.8\" font-family=\"Helvetica,sans-Serif\" font-size=\"14.00\" fill=\"#000000\">class = Died</text>\n</g>\n<!-- 34&#45;&gt;35 -->\n<g id=\"edge35\" class=\"edge\">\n<title>34&#45;&gt;35</title>\n<path fill=\"none\" stroke=\"#000000\" d=\"M950.4263,-579.8796C942.4039,-570.8733 933.8448,-561.2644 925.5833,-551.9897\"/>\n<polygon fill=\"#000000\" stroke=\"#000000\" points=\"927.9969,-549.4373 918.7319,-544.2981 922.7698,-554.0933 927.9969,-549.4373\"/>\n</g>\n<!-- 40 -->\n<g id=\"node41\" class=\"node\">\n<title>40</title>\n<path fill=\"#399de5\" stroke=\"#000000\" d=\"M1064,-536.5C1064,-536.5 965,-536.5 965,-536.5 959,-536.5 953,-530.5 953,-524.5 953,-524.5 953,-480.5 953,-480.5 953,-474.5 959,-468.5 965,-468.5 965,-468.5 1064,-468.5 1064,-468.5 1070,-468.5 1076,-474.5 1076,-480.5 1076,-480.5 1076,-524.5 1076,-524.5 1076,-530.5 1070,-536.5 1064,-536.5\"/>\n<text text-anchor=\"start\" x=\"985\" y=\"-521.3\" font-family=\"Helvetica,sans-Serif\" font-size=\"14.00\" fill=\"#000000\">gini = 0.0</text>\n<text text-anchor=\"start\" x=\"975\" y=\"-506.3\" font-family=\"Helvetica,sans-Serif\" font-size=\"14.00\" fill=\"#000000\">samples = 1</text>\n<text text-anchor=\"start\" x=\"973\" y=\"-491.3\" font-family=\"Helvetica,sans-Serif\" font-size=\"14.00\" fill=\"#000000\">value = [0, 1]</text>\n<text text-anchor=\"start\" x=\"961\" y=\"-476.3\" font-family=\"Helvetica,sans-Serif\" font-size=\"14.00\" fill=\"#000000\">class = Survived</text>\n</g>\n<!-- 34&#45;&gt;40 -->\n<g id=\"edge40\" class=\"edge\">\n<title>34&#45;&gt;40</title>\n<path fill=\"none\" stroke=\"#000000\" d=\"M996.9433,-579.8796C999.3883,-569.1034 1002.029,-557.4647 1004.5014,-546.5677\"/>\n<polygon fill=\"#000000\" stroke=\"#000000\" points=\"1007.9148,-547.3415 1006.7143,-536.8149 1001.0883,-545.7926 1007.9148,-547.3415\"/>\n</g>\n<!-- 36 -->\n<g id=\"node37\" class=\"node\">\n<title>36</title>\n<path fill=\"#e58139\" stroke=\"#000000\" d=\"M860,-417.5C860,-417.5 785,-417.5 785,-417.5 779,-417.5 773,-411.5 773,-405.5 773,-405.5 773,-361.5 773,-361.5 773,-355.5 779,-349.5 785,-349.5 785,-349.5 860,-349.5 860,-349.5 866,-349.5 872,-355.5 872,-361.5 872,-361.5 872,-405.5 872,-405.5 872,-411.5 866,-417.5 860,-417.5\"/>\n<text text-anchor=\"start\" x=\"793\" y=\"-402.3\" font-family=\"Helvetica,sans-Serif\" font-size=\"14.00\" fill=\"#000000\">gini = 0.0</text>\n<text text-anchor=\"start\" x=\"783\" y=\"-387.3\" font-family=\"Helvetica,sans-Serif\" font-size=\"14.00\" fill=\"#000000\">samples = 8</text>\n<text text-anchor=\"start\" x=\"781\" y=\"-372.3\" font-family=\"Helvetica,sans-Serif\" font-size=\"14.00\" fill=\"#000000\">value = [8, 0]</text>\n<text text-anchor=\"start\" x=\"782.5\" y=\"-357.3\" font-family=\"Helvetica,sans-Serif\" font-size=\"14.00\" fill=\"#000000\">class = Died</text>\n</g>\n<!-- 35&#45;&gt;36 -->\n<g id=\"edge36\" class=\"edge\">\n<title>35&#45;&gt;36</title>\n<path fill=\"none\" stroke=\"#000000\" d=\"M860.8647,-460.8796C855.4128,-449.8835 849.5157,-437.9893 844.0184,-426.9015\"/>\n<polygon fill=\"#000000\" stroke=\"#000000\" points=\"847.0911,-425.2195 839.5133,-417.8149 840.8196,-428.3289 847.0911,-425.2195\"/>\n</g>\n<!-- 37 -->\n<g id=\"node38\" class=\"node\">\n<title>37</title>\n<path fill=\"#eeab7b\" stroke=\"#000000\" d=\"M977,-425C977,-425 902,-425 902,-425 896,-425 890,-419 890,-413 890,-413 890,-354 890,-354 890,-348 896,-342 902,-342 902,-342 977,-342 977,-342 983,-342 989,-348 989,-354 989,-354 989,-413 989,-413 989,-419 983,-425 977,-425\"/>\n<text text-anchor=\"start\" x=\"905\" y=\"-409.8\" font-family=\"Helvetica,sans-Serif\" font-size=\"14.00\" fill=\"#000000\">age ≤ 36.5</text>\n<text text-anchor=\"start\" x=\"901.5\" y=\"-394.8\" font-family=\"Helvetica,sans-Serif\" font-size=\"14.00\" fill=\"#000000\">gini = 0.375</text>\n<text text-anchor=\"start\" x=\"900\" y=\"-379.8\" font-family=\"Helvetica,sans-Serif\" font-size=\"14.00\" fill=\"#000000\">samples = 4</text>\n<text text-anchor=\"start\" x=\"898\" y=\"-364.8\" font-family=\"Helvetica,sans-Serif\" font-size=\"14.00\" fill=\"#000000\">value = [3, 1]</text>\n<text text-anchor=\"start\" x=\"899.5\" y=\"-349.8\" font-family=\"Helvetica,sans-Serif\" font-size=\"14.00\" fill=\"#000000\">class = Died</text>\n</g>\n<!-- 35&#45;&gt;37 -->\n<g id=\"edge37\" class=\"edge\">\n<title>35&#45;&gt;37</title>\n<path fill=\"none\" stroke=\"#000000\" d=\"M901.7856,-460.8796C905.9557,-452.3236 910.3909,-443.2238 914.6997,-434.3833\"/>\n<polygon fill=\"#000000\" stroke=\"#000000\" points=\"917.8927,-435.8207 919.1278,-425.2981 911.6003,-432.7538 917.8927,-435.8207\"/>\n</g>\n<!-- 38 -->\n<g id=\"node39\" class=\"node\">\n<title>38</title>\n<path fill=\"#f2c09c\" stroke=\"#000000\" d=\"M919,-298.5C919,-298.5 844,-298.5 844,-298.5 838,-298.5 832,-292.5 832,-286.5 832,-286.5 832,-242.5 832,-242.5 832,-236.5 838,-230.5 844,-230.5 844,-230.5 919,-230.5 919,-230.5 925,-230.5 931,-236.5 931,-242.5 931,-242.5 931,-286.5 931,-286.5 931,-292.5 925,-298.5 919,-298.5\"/>\n<text text-anchor=\"start\" x=\"843.5\" y=\"-283.3\" font-family=\"Helvetica,sans-Serif\" font-size=\"14.00\" fill=\"#000000\">gini = 0.444</text>\n<text text-anchor=\"start\" x=\"842\" y=\"-268.3\" font-family=\"Helvetica,sans-Serif\" font-size=\"14.00\" fill=\"#000000\">samples = 3</text>\n<text text-anchor=\"start\" x=\"840\" y=\"-253.3\" font-family=\"Helvetica,sans-Serif\" font-size=\"14.00\" fill=\"#000000\">value = [2, 1]</text>\n<text text-anchor=\"start\" x=\"841.5\" y=\"-238.3\" font-family=\"Helvetica,sans-Serif\" font-size=\"14.00\" fill=\"#000000\">class = Died</text>\n</g>\n<!-- 37&#45;&gt;38 -->\n<g id=\"edge38\" class=\"edge\">\n<title>37&#45;&gt;38</title>\n<path fill=\"none\" stroke=\"#000000\" d=\"M919.2144,-341.8796C913.855,-330.8835 908.0578,-318.9893 902.6537,-307.9015\"/>\n<polygon fill=\"#000000\" stroke=\"#000000\" points=\"905.7524,-306.2706 898.2249,-298.8149 899.46,-309.3375 905.7524,-306.2706\"/>\n</g>\n<!-- 39 -->\n<g id=\"node40\" class=\"node\">\n<title>39</title>\n<path fill=\"#e58139\" stroke=\"#000000\" d=\"M1036,-298.5C1036,-298.5 961,-298.5 961,-298.5 955,-298.5 949,-292.5 949,-286.5 949,-286.5 949,-242.5 949,-242.5 949,-236.5 955,-230.5 961,-230.5 961,-230.5 1036,-230.5 1036,-230.5 1042,-230.5 1048,-236.5 1048,-242.5 1048,-242.5 1048,-286.5 1048,-286.5 1048,-292.5 1042,-298.5 1036,-298.5\"/>\n<text text-anchor=\"start\" x=\"969\" y=\"-283.3\" font-family=\"Helvetica,sans-Serif\" font-size=\"14.00\" fill=\"#000000\">gini = 0.0</text>\n<text text-anchor=\"start\" x=\"959\" y=\"-268.3\" font-family=\"Helvetica,sans-Serif\" font-size=\"14.00\" fill=\"#000000\">samples = 1</text>\n<text text-anchor=\"start\" x=\"957\" y=\"-253.3\" font-family=\"Helvetica,sans-Serif\" font-size=\"14.00\" fill=\"#000000\">value = [1, 0]</text>\n<text text-anchor=\"start\" x=\"958.5\" y=\"-238.3\" font-family=\"Helvetica,sans-Serif\" font-size=\"14.00\" fill=\"#000000\">class = Died</text>\n</g>\n<!-- 37&#45;&gt;39 -->\n<g id=\"edge39\" class=\"edge\">\n<title>37&#45;&gt;39</title>\n<path fill=\"none\" stroke=\"#000000\" d=\"M960.1353,-341.8796C965.5872,-330.8835 971.4843,-318.9893 976.9816,-307.9015\"/>\n<polygon fill=\"#000000\" stroke=\"#000000\" points=\"980.1804,-309.3289 981.4867,-298.8149 973.9089,-306.2195 980.1804,-309.3289\"/>\n</g>\n<!-- 43 -->\n<g id=\"node44\" class=\"node\">\n<title>43</title>\n<path fill=\"#399de5\" stroke=\"#000000\" d=\"M1295,-655.5C1295,-655.5 1196,-655.5 1196,-655.5 1190,-655.5 1184,-649.5 1184,-643.5 1184,-643.5 1184,-599.5 1184,-599.5 1184,-593.5 1190,-587.5 1196,-587.5 1196,-587.5 1295,-587.5 1295,-587.5 1301,-587.5 1307,-593.5 1307,-599.5 1307,-599.5 1307,-643.5 1307,-643.5 1307,-649.5 1301,-655.5 1295,-655.5\"/>\n<text text-anchor=\"start\" x=\"1216\" y=\"-640.3\" font-family=\"Helvetica,sans-Serif\" font-size=\"14.00\" fill=\"#000000\">gini = 0.0</text>\n<text text-anchor=\"start\" x=\"1206\" y=\"-625.3\" font-family=\"Helvetica,sans-Serif\" font-size=\"14.00\" fill=\"#000000\">samples = 1</text>\n<text text-anchor=\"start\" x=\"1204\" y=\"-610.3\" font-family=\"Helvetica,sans-Serif\" font-size=\"14.00\" fill=\"#000000\">value = [0, 1]</text>\n<text text-anchor=\"start\" x=\"1192\" y=\"-595.3\" font-family=\"Helvetica,sans-Serif\" font-size=\"14.00\" fill=\"#000000\">class = Survived</text>\n</g>\n<!-- 42&#45;&gt;43 -->\n<g id=\"edge43\" class=\"edge\">\n<title>42&#45;&gt;43</title>\n<path fill=\"none\" stroke=\"#000000\" d=\"M1245.5,-698.8796C1245.5,-688.2134 1245.5,-676.7021 1245.5,-665.9015\"/>\n<polygon fill=\"#000000\" stroke=\"#000000\" points=\"1249.0001,-665.8149 1245.5,-655.8149 1242.0001,-665.815 1249.0001,-665.8149\"/>\n</g>\n<!-- 44 -->\n<g id=\"node45\" class=\"node\">\n<title>44</title>\n<path fill=\"#f0b78e\" stroke=\"#000000\" d=\"M1417.5,-663C1417.5,-663 1337.5,-663 1337.5,-663 1331.5,-663 1325.5,-657 1325.5,-651 1325.5,-651 1325.5,-592 1325.5,-592 1325.5,-586 1331.5,-580 1337.5,-580 1337.5,-580 1417.5,-580 1417.5,-580 1423.5,-580 1429.5,-586 1429.5,-592 1429.5,-592 1429.5,-651 1429.5,-651 1429.5,-657 1423.5,-663 1417.5,-663\"/>\n<text text-anchor=\"start\" x=\"1343\" y=\"-647.8\" font-family=\"Helvetica,sans-Serif\" font-size=\"14.00\" fill=\"#000000\">age ≤ 75.5</text>\n<text text-anchor=\"start\" x=\"1344\" y=\"-632.8\" font-family=\"Helvetica,sans-Serif\" font-size=\"14.00\" fill=\"#000000\">gini = 0.42</text>\n<text text-anchor=\"start\" x=\"1333.5\" y=\"-617.8\" font-family=\"Helvetica,sans-Serif\" font-size=\"14.00\" fill=\"#000000\">samples = 10</text>\n<text text-anchor=\"start\" x=\"1336\" y=\"-602.8\" font-family=\"Helvetica,sans-Serif\" font-size=\"14.00\" fill=\"#000000\">value = [7, 3]</text>\n<text text-anchor=\"start\" x=\"1337.5\" y=\"-587.8\" font-family=\"Helvetica,sans-Serif\" font-size=\"14.00\" fill=\"#000000\">class = Died</text>\n</g>\n<!-- 42&#45;&gt;44 -->\n<g id=\"edge44\" class=\"edge\">\n<title>42&#45;&gt;44</title>\n<path fill=\"none\" stroke=\"#000000\" d=\"M1291.6672,-698.8796C1301.9571,-689.6031 1312.956,-679.6874 1323.5287,-670.1559\"/>\n<polygon fill=\"#000000\" stroke=\"#000000\" points=\"1326.0519,-672.5935 1331.1358,-663.2981 1321.3648,-667.3944 1326.0519,-672.5935\"/>\n</g>\n<!-- 45 -->\n<g id=\"node46\" class=\"node\">\n<title>45</title>\n<path fill=\"#f5cdb0\" stroke=\"#000000\" d=\"M1356,-544C1356,-544 1281,-544 1281,-544 1275,-544 1269,-538 1269,-532 1269,-532 1269,-473 1269,-473 1269,-467 1275,-461 1281,-461 1281,-461 1356,-461 1356,-461 1362,-461 1368,-467 1368,-473 1368,-473 1368,-532 1368,-532 1368,-538 1362,-544 1356,-544\"/>\n<text text-anchor=\"start\" x=\"1284\" y=\"-528.8\" font-family=\"Helvetica,sans-Serif\" font-size=\"14.00\" fill=\"#000000\">age ≤ 70.5</text>\n<text text-anchor=\"start\" x=\"1280.5\" y=\"-513.8\" font-family=\"Helvetica,sans-Serif\" font-size=\"14.00\" fill=\"#000000\">gini = 0.469</text>\n<text text-anchor=\"start\" x=\"1279\" y=\"-498.8\" font-family=\"Helvetica,sans-Serif\" font-size=\"14.00\" fill=\"#000000\">samples = 8</text>\n<text text-anchor=\"start\" x=\"1277\" y=\"-483.8\" font-family=\"Helvetica,sans-Serif\" font-size=\"14.00\" fill=\"#000000\">value = [5, 3]</text>\n<text text-anchor=\"start\" x=\"1278.5\" y=\"-468.8\" font-family=\"Helvetica,sans-Serif\" font-size=\"14.00\" fill=\"#000000\">class = Died</text>\n</g>\n<!-- 44&#45;&gt;45 -->\n<g id=\"edge45\" class=\"edge\">\n<title>44&#45;&gt;45</title>\n<path fill=\"none\" stroke=\"#000000\" d=\"M1356.8647,-579.8796C1352.6226,-571.3236 1348.111,-562.2238 1343.7279,-553.3833\"/>\n<polygon fill=\"#000000\" stroke=\"#000000\" points=\"1346.8012,-551.7026 1339.2234,-544.2981 1340.5297,-554.8121 1346.8012,-551.7026\"/>\n</g>\n<!-- 54 -->\n<g id=\"node55\" class=\"node\">\n<title>54</title>\n<path fill=\"#e58139\" stroke=\"#000000\" d=\"M1473,-536.5C1473,-536.5 1398,-536.5 1398,-536.5 1392,-536.5 1386,-530.5 1386,-524.5 1386,-524.5 1386,-480.5 1386,-480.5 1386,-474.5 1392,-468.5 1398,-468.5 1398,-468.5 1473,-468.5 1473,-468.5 1479,-468.5 1485,-474.5 1485,-480.5 1485,-480.5 1485,-524.5 1485,-524.5 1485,-530.5 1479,-536.5 1473,-536.5\"/>\n<text text-anchor=\"start\" x=\"1406\" y=\"-521.3\" font-family=\"Helvetica,sans-Serif\" font-size=\"14.00\" fill=\"#000000\">gini = 0.0</text>\n<text text-anchor=\"start\" x=\"1396\" y=\"-506.3\" font-family=\"Helvetica,sans-Serif\" font-size=\"14.00\" fill=\"#000000\">samples = 2</text>\n<text text-anchor=\"start\" x=\"1394\" y=\"-491.3\" font-family=\"Helvetica,sans-Serif\" font-size=\"14.00\" fill=\"#000000\">value = [2, 0]</text>\n<text text-anchor=\"start\" x=\"1395.5\" y=\"-476.3\" font-family=\"Helvetica,sans-Serif\" font-size=\"14.00\" fill=\"#000000\">class = Died</text>\n</g>\n<!-- 44&#45;&gt;54 -->\n<g id=\"edge54\" class=\"edge\">\n<title>44&#45;&gt;54</title>\n<path fill=\"none\" stroke=\"#000000\" d=\"M1397.7856,-579.8796C1403.145,-568.8835 1408.9422,-556.9893 1414.3463,-545.9015\"/>\n<polygon fill=\"#000000\" stroke=\"#000000\" points=\"1417.54,-547.3375 1418.7751,-536.8149 1411.2476,-544.2706 1417.54,-547.3375\"/>\n</g>\n<!-- 46 -->\n<g id=\"node47\" class=\"node\">\n<title>46</title>\n<path fill=\"#eca06a\" stroke=\"#000000\" d=\"M1342,-425C1342,-425 1267,-425 1267,-425 1261,-425 1255,-419 1255,-413 1255,-413 1255,-354 1255,-354 1255,-348 1261,-342 1267,-342 1267,-342 1342,-342 1342,-342 1348,-342 1354,-348 1354,-354 1354,-354 1354,-413 1354,-413 1354,-419 1348,-425 1342,-425\"/>\n<text text-anchor=\"start\" x=\"1270\" y=\"-409.8\" font-family=\"Helvetica,sans-Serif\" font-size=\"14.00\" fill=\"#000000\">age ≤ 60.5</text>\n<text text-anchor=\"start\" x=\"1271\" y=\"-394.8\" font-family=\"Helvetica,sans-Serif\" font-size=\"14.00\" fill=\"#000000\">gini = 0.32</text>\n<text text-anchor=\"start\" x=\"1265\" y=\"-379.8\" font-family=\"Helvetica,sans-Serif\" font-size=\"14.00\" fill=\"#000000\">samples = 5</text>\n<text text-anchor=\"start\" x=\"1263\" y=\"-364.8\" font-family=\"Helvetica,sans-Serif\" font-size=\"14.00\" fill=\"#000000\">value = [4, 1]</text>\n<text text-anchor=\"start\" x=\"1264.5\" y=\"-349.8\" font-family=\"Helvetica,sans-Serif\" font-size=\"14.00\" fill=\"#000000\">class = Died</text>\n</g>\n<!-- 45&#45;&gt;46 -->\n<g id=\"edge46\" class=\"edge\">\n<title>45&#45;&gt;46</title>\n<path fill=\"none\" stroke=\"#000000\" d=\"M1313.6035,-460.8796C1312.6393,-452.6838 1311.6164,-443.9891 1310.6178,-435.5013\"/>\n<polygon fill=\"#000000\" stroke=\"#000000\" points=\"1314.0619,-434.8206 1309.4174,-425.2981 1307.1099,-435.6386 1314.0619,-434.8206\"/>\n</g>\n<!-- 51 -->\n<g id=\"node52\" class=\"node\">\n<title>51</title>\n<path fill=\"#9ccef2\" stroke=\"#000000\" d=\"M1483,-425C1483,-425 1384,-425 1384,-425 1378,-425 1372,-419 1372,-413 1372,-413 1372,-354 1372,-354 1372,-348 1378,-342 1384,-342 1384,-342 1483,-342 1483,-342 1489,-342 1495,-348 1495,-354 1495,-354 1495,-413 1495,-413 1495,-419 1489,-425 1483,-425\"/>\n<text text-anchor=\"start\" x=\"1399\" y=\"-409.8\" font-family=\"Helvetica,sans-Serif\" font-size=\"14.00\" fill=\"#000000\">age ≤ 74.5</text>\n<text text-anchor=\"start\" x=\"1395.5\" y=\"-394.8\" font-family=\"Helvetica,sans-Serif\" font-size=\"14.00\" fill=\"#000000\">gini = 0.444</text>\n<text text-anchor=\"start\" x=\"1394\" y=\"-379.8\" font-family=\"Helvetica,sans-Serif\" font-size=\"14.00\" fill=\"#000000\">samples = 3</text>\n<text text-anchor=\"start\" x=\"1392\" y=\"-364.8\" font-family=\"Helvetica,sans-Serif\" font-size=\"14.00\" fill=\"#000000\">value = [1, 2]</text>\n<text text-anchor=\"start\" x=\"1380\" y=\"-349.8\" font-family=\"Helvetica,sans-Serif\" font-size=\"14.00\" fill=\"#000000\">class = Survived</text>\n</g>\n<!-- 45&#45;&gt;51 -->\n<g id=\"edge51\" class=\"edge\">\n<title>45&#45;&gt;51</title>\n<path fill=\"none\" stroke=\"#000000\" d=\"M1358.7214,-460.8796C1367.512,-451.7832 1376.8966,-442.0722 1385.9426,-432.7116\"/>\n<polygon fill=\"#000000\" stroke=\"#000000\" points=\"1388.6745,-434.9212 1393.1069,-425.2981 1383.6409,-430.0568 1388.6745,-434.9212\"/>\n</g>\n<!-- 47 -->\n<g id=\"node48\" class=\"node\">\n<title>47</title>\n<path fill=\"#ffffff\" stroke=\"#000000\" d=\"M1225,-306C1225,-306 1150,-306 1150,-306 1144,-306 1138,-300 1138,-294 1138,-294 1138,-235 1138,-235 1138,-229 1144,-223 1150,-223 1150,-223 1225,-223 1225,-223 1231,-223 1237,-229 1237,-235 1237,-235 1237,-294 1237,-294 1237,-300 1231,-306 1225,-306\"/>\n<text text-anchor=\"start\" x=\"1153\" y=\"-290.8\" font-family=\"Helvetica,sans-Serif\" font-size=\"14.00\" fill=\"#000000\">age ≤ 58.5</text>\n<text text-anchor=\"start\" x=\"1158\" y=\"-275.8\" font-family=\"Helvetica,sans-Serif\" font-size=\"14.00\" fill=\"#000000\">gini = 0.5</text>\n<text text-anchor=\"start\" x=\"1148\" y=\"-260.8\" font-family=\"Helvetica,sans-Serif\" font-size=\"14.00\" fill=\"#000000\">samples = 2</text>\n<text text-anchor=\"start\" x=\"1146\" y=\"-245.8\" font-family=\"Helvetica,sans-Serif\" font-size=\"14.00\" fill=\"#000000\">value = [1, 1]</text>\n<text text-anchor=\"start\" x=\"1147.5\" y=\"-230.8\" font-family=\"Helvetica,sans-Serif\" font-size=\"14.00\" fill=\"#000000\">class = Died</text>\n</g>\n<!-- 46&#45;&gt;47 -->\n<g id=\"edge47\" class=\"edge\">\n<title>46&#45;&gt;47</title>\n<path fill=\"none\" stroke=\"#000000\" d=\"M1263.5791,-341.8796C1254.547,-332.6931 1244.8987,-322.8798 1235.6112,-313.4336\"/>\n<polygon fill=\"#000000\" stroke=\"#000000\" points=\"1238.1023,-310.975 1228.5956,-306.2981 1233.1107,-315.8827 1238.1023,-310.975\"/>\n</g>\n<!-- 50 -->\n<g id=\"node51\" class=\"node\">\n<title>50</title>\n<path fill=\"#e58139\" stroke=\"#000000\" d=\"M1342,-298.5C1342,-298.5 1267,-298.5 1267,-298.5 1261,-298.5 1255,-292.5 1255,-286.5 1255,-286.5 1255,-242.5 1255,-242.5 1255,-236.5 1261,-230.5 1267,-230.5 1267,-230.5 1342,-230.5 1342,-230.5 1348,-230.5 1354,-236.5 1354,-242.5 1354,-242.5 1354,-286.5 1354,-286.5 1354,-292.5 1348,-298.5 1342,-298.5\"/>\n<text text-anchor=\"start\" x=\"1275\" y=\"-283.3\" font-family=\"Helvetica,sans-Serif\" font-size=\"14.00\" fill=\"#000000\">gini = 0.0</text>\n<text text-anchor=\"start\" x=\"1265\" y=\"-268.3\" font-family=\"Helvetica,sans-Serif\" font-size=\"14.00\" fill=\"#000000\">samples = 3</text>\n<text text-anchor=\"start\" x=\"1263\" y=\"-253.3\" font-family=\"Helvetica,sans-Serif\" font-size=\"14.00\" fill=\"#000000\">value = [3, 0]</text>\n<text text-anchor=\"start\" x=\"1264.5\" y=\"-238.3\" font-family=\"Helvetica,sans-Serif\" font-size=\"14.00\" fill=\"#000000\">class = Died</text>\n</g>\n<!-- 46&#45;&gt;50 -->\n<g id=\"edge50\" class=\"edge\">\n<title>46&#45;&gt;50</title>\n<path fill=\"none\" stroke=\"#000000\" d=\"M1304.5,-341.8796C1304.5,-331.2134 1304.5,-319.7021 1304.5,-308.9015\"/>\n<polygon fill=\"#000000\" stroke=\"#000000\" points=\"1308.0001,-308.8149 1304.5,-298.8149 1301.0001,-308.815 1308.0001,-308.8149\"/>\n</g>\n<!-- 48 -->\n<g id=\"node49\" class=\"node\">\n<title>48</title>\n<path fill=\"#e58139\" stroke=\"#000000\" d=\"M1160,-179.5C1160,-179.5 1085,-179.5 1085,-179.5 1079,-179.5 1073,-173.5 1073,-167.5 1073,-167.5 1073,-123.5 1073,-123.5 1073,-117.5 1079,-111.5 1085,-111.5 1085,-111.5 1160,-111.5 1160,-111.5 1166,-111.5 1172,-117.5 1172,-123.5 1172,-123.5 1172,-167.5 1172,-167.5 1172,-173.5 1166,-179.5 1160,-179.5\"/>\n<text text-anchor=\"start\" x=\"1093\" y=\"-164.3\" font-family=\"Helvetica,sans-Serif\" font-size=\"14.00\" fill=\"#000000\">gini = 0.0</text>\n<text text-anchor=\"start\" x=\"1083\" y=\"-149.3\" font-family=\"Helvetica,sans-Serif\" font-size=\"14.00\" fill=\"#000000\">samples = 1</text>\n<text text-anchor=\"start\" x=\"1081\" y=\"-134.3\" font-family=\"Helvetica,sans-Serif\" font-size=\"14.00\" fill=\"#000000\">value = [1, 0]</text>\n<text text-anchor=\"start\" x=\"1082.5\" y=\"-119.3\" font-family=\"Helvetica,sans-Serif\" font-size=\"14.00\" fill=\"#000000\">class = Died</text>\n</g>\n<!-- 47&#45;&gt;48 -->\n<g id=\"edge48\" class=\"edge\">\n<title>47&#45;&gt;48</title>\n<path fill=\"none\" stroke=\"#000000\" d=\"M1164.7662,-222.8796C1158.7599,-211.8835 1152.263,-199.9893 1146.2067,-188.9015\"/>\n<polygon fill=\"#000000\" stroke=\"#000000\" points=\"1149.1088,-186.9133 1141.2435,-179.8149 1142.9655,-190.2689 1149.1088,-186.9133\"/>\n</g>\n<!-- 49 -->\n<g id=\"node50\" class=\"node\">\n<title>49</title>\n<path fill=\"#399de5\" stroke=\"#000000\" d=\"M1301,-179.5C1301,-179.5 1202,-179.5 1202,-179.5 1196,-179.5 1190,-173.5 1190,-167.5 1190,-167.5 1190,-123.5 1190,-123.5 1190,-117.5 1196,-111.5 1202,-111.5 1202,-111.5 1301,-111.5 1301,-111.5 1307,-111.5 1313,-117.5 1313,-123.5 1313,-123.5 1313,-167.5 1313,-167.5 1313,-173.5 1307,-179.5 1301,-179.5\"/>\n<text text-anchor=\"start\" x=\"1222\" y=\"-164.3\" font-family=\"Helvetica,sans-Serif\" font-size=\"14.00\" fill=\"#000000\">gini = 0.0</text>\n<text text-anchor=\"start\" x=\"1212\" y=\"-149.3\" font-family=\"Helvetica,sans-Serif\" font-size=\"14.00\" fill=\"#000000\">samples = 1</text>\n<text text-anchor=\"start\" x=\"1210\" y=\"-134.3\" font-family=\"Helvetica,sans-Serif\" font-size=\"14.00\" fill=\"#000000\">value = [0, 1]</text>\n<text text-anchor=\"start\" x=\"1198\" y=\"-119.3\" font-family=\"Helvetica,sans-Serif\" font-size=\"14.00\" fill=\"#000000\">class = Survived</text>\n</g>\n<!-- 47&#45;&gt;49 -->\n<g id=\"edge49\" class=\"edge\">\n<title>47&#45;&gt;49</title>\n<path fill=\"none\" stroke=\"#000000\" d=\"M1209.8841,-222.8796C1215.798,-211.8835 1222.1949,-199.9893 1228.158,-188.9015\"/>\n<polygon fill=\"#000000\" stroke=\"#000000\" points=\"1231.3908,-190.2799 1233.0449,-179.8149 1225.2258,-186.9642 1231.3908,-190.2799\"/>\n</g>\n<!-- 52 -->\n<g id=\"node53\" class=\"node\">\n<title>52</title>\n<path fill=\"#399de5\" stroke=\"#000000\" d=\"M1483,-298.5C1483,-298.5 1384,-298.5 1384,-298.5 1378,-298.5 1372,-292.5 1372,-286.5 1372,-286.5 1372,-242.5 1372,-242.5 1372,-236.5 1378,-230.5 1384,-230.5 1384,-230.5 1483,-230.5 1483,-230.5 1489,-230.5 1495,-236.5 1495,-242.5 1495,-242.5 1495,-286.5 1495,-286.5 1495,-292.5 1489,-298.5 1483,-298.5\"/>\n<text text-anchor=\"start\" x=\"1404\" y=\"-283.3\" font-family=\"Helvetica,sans-Serif\" font-size=\"14.00\" fill=\"#000000\">gini = 0.0</text>\n<text text-anchor=\"start\" x=\"1394\" y=\"-268.3\" font-family=\"Helvetica,sans-Serif\" font-size=\"14.00\" fill=\"#000000\">samples = 1</text>\n<text text-anchor=\"start\" x=\"1392\" y=\"-253.3\" font-family=\"Helvetica,sans-Serif\" font-size=\"14.00\" fill=\"#000000\">value = [0, 1]</text>\n<text text-anchor=\"start\" x=\"1380\" y=\"-238.3\" font-family=\"Helvetica,sans-Serif\" font-size=\"14.00\" fill=\"#000000\">class = Survived</text>\n</g>\n<!-- 51&#45;&gt;52 -->\n<g id=\"edge52\" class=\"edge\">\n<title>51&#45;&gt;52</title>\n<path fill=\"none\" stroke=\"#000000\" d=\"M1433.5,-341.8796C1433.5,-331.2134 1433.5,-319.7021 1433.5,-308.9015\"/>\n<polygon fill=\"#000000\" stroke=\"#000000\" points=\"1437.0001,-308.8149 1433.5,-298.8149 1430.0001,-308.815 1437.0001,-308.8149\"/>\n</g>\n<!-- 53 -->\n<g id=\"node54\" class=\"node\">\n<title>53</title>\n<path fill=\"#ffffff\" stroke=\"#000000\" d=\"M1600,-298.5C1600,-298.5 1525,-298.5 1525,-298.5 1519,-298.5 1513,-292.5 1513,-286.5 1513,-286.5 1513,-242.5 1513,-242.5 1513,-236.5 1519,-230.5 1525,-230.5 1525,-230.5 1600,-230.5 1600,-230.5 1606,-230.5 1612,-236.5 1612,-242.5 1612,-242.5 1612,-286.5 1612,-286.5 1612,-292.5 1606,-298.5 1600,-298.5\"/>\n<text text-anchor=\"start\" x=\"1533\" y=\"-283.3\" font-family=\"Helvetica,sans-Serif\" font-size=\"14.00\" fill=\"#000000\">gini = 0.5</text>\n<text text-anchor=\"start\" x=\"1523\" y=\"-268.3\" font-family=\"Helvetica,sans-Serif\" font-size=\"14.00\" fill=\"#000000\">samples = 2</text>\n<text text-anchor=\"start\" x=\"1521\" y=\"-253.3\" font-family=\"Helvetica,sans-Serif\" font-size=\"14.00\" fill=\"#000000\">value = [1, 1]</text>\n<text text-anchor=\"start\" x=\"1522.5\" y=\"-238.3\" font-family=\"Helvetica,sans-Serif\" font-size=\"14.00\" fill=\"#000000\">class = Died</text>\n</g>\n<!-- 51&#45;&gt;53 -->\n<g id=\"edge53\" class=\"edge\">\n<title>51&#45;&gt;53</title>\n<path fill=\"none\" stroke=\"#000000\" d=\"M1478.6179,-341.8796C1491.2533,-330.2237 1504.9826,-317.5587 1517.605,-305.9148\"/>\n<polygon fill=\"#000000\" stroke=\"#000000\" points=\"1520.3244,-308.168 1525.3015,-298.8149 1515.578,-303.0228 1520.3244,-308.168\"/>\n</g>\n<!-- 56 -->\n<g id=\"node57\" class=\"node\">\n<title>56</title>\n<path fill=\"#e58139\" stroke=\"#000000\" d=\"M1195,-1012.5C1195,-1012.5 1120,-1012.5 1120,-1012.5 1114,-1012.5 1108,-1006.5 1108,-1000.5 1108,-1000.5 1108,-956.5 1108,-956.5 1108,-950.5 1114,-944.5 1120,-944.5 1120,-944.5 1195,-944.5 1195,-944.5 1201,-944.5 1207,-950.5 1207,-956.5 1207,-956.5 1207,-1000.5 1207,-1000.5 1207,-1006.5 1201,-1012.5 1195,-1012.5\"/>\n<text text-anchor=\"start\" x=\"1128\" y=\"-997.3\" font-family=\"Helvetica,sans-Serif\" font-size=\"14.00\" fill=\"#000000\">gini = 0.0</text>\n<text text-anchor=\"start\" x=\"1118\" y=\"-982.3\" font-family=\"Helvetica,sans-Serif\" font-size=\"14.00\" fill=\"#000000\">samples = 3</text>\n<text text-anchor=\"start\" x=\"1116\" y=\"-967.3\" font-family=\"Helvetica,sans-Serif\" font-size=\"14.00\" fill=\"#000000\">value = [3, 0]</text>\n<text text-anchor=\"start\" x=\"1117.5\" y=\"-952.3\" font-family=\"Helvetica,sans-Serif\" font-size=\"14.00\" fill=\"#000000\">class = Died</text>\n</g>\n<!-- 55&#45;&gt;56 -->\n<g id=\"edge56\" class=\"edge\">\n<title>55&#45;&gt;56</title>\n<path fill=\"none\" stroke=\"#000000\" d=\"M1162.0517,-1055.8796C1161.4243,-1045.2134 1160.7472,-1033.7021 1160.1119,-1022.9015\"/>\n<polygon fill=\"#000000\" stroke=\"#000000\" points=\"1163.5998,-1022.5921 1159.5185,-1012.8149 1156.6119,-1023.0032 1163.5998,-1022.5921\"/>\n</g>\n<!-- 57 -->\n<g id=\"node58\" class=\"node\">\n<title>57</title>\n<path fill=\"#399de5\" stroke=\"#000000\" d=\"M1336,-1012.5C1336,-1012.5 1237,-1012.5 1237,-1012.5 1231,-1012.5 1225,-1006.5 1225,-1000.5 1225,-1000.5 1225,-956.5 1225,-956.5 1225,-950.5 1231,-944.5 1237,-944.5 1237,-944.5 1336,-944.5 1336,-944.5 1342,-944.5 1348,-950.5 1348,-956.5 1348,-956.5 1348,-1000.5 1348,-1000.5 1348,-1006.5 1342,-1012.5 1336,-1012.5\"/>\n<text text-anchor=\"start\" x=\"1257\" y=\"-997.3\" font-family=\"Helvetica,sans-Serif\" font-size=\"14.00\" fill=\"#000000\">gini = 0.0</text>\n<text text-anchor=\"start\" x=\"1247\" y=\"-982.3\" font-family=\"Helvetica,sans-Serif\" font-size=\"14.00\" fill=\"#000000\">samples = 2</text>\n<text text-anchor=\"start\" x=\"1245\" y=\"-967.3\" font-family=\"Helvetica,sans-Serif\" font-size=\"14.00\" fill=\"#000000\">value = [0, 2]</text>\n<text text-anchor=\"start\" x=\"1233\" y=\"-952.3\" font-family=\"Helvetica,sans-Serif\" font-size=\"14.00\" fill=\"#000000\">class = Survived</text>\n</g>\n<!-- 55&#45;&gt;57 -->\n<g id=\"edge57\" class=\"edge\">\n<title>55&#45;&gt;57</title>\n<path fill=\"none\" stroke=\"#000000\" d=\"M1207.1697,-1055.8796C1219.1194,-1044.2237 1232.1037,-1031.5587 1244.0411,-1019.9148\"/>\n<polygon fill=\"#000000\" stroke=\"#000000\" points=\"1246.6053,-1022.303 1251.32,-1012.8149 1241.7175,-1017.292 1246.6053,-1022.303\"/>\n</g>\n</g>\n</svg>\n"
          },
          "metadata": {
            "tags": []
          },
          "execution_count": 251
        }
      ]
    },
    {
      "cell_type": "code",
      "metadata": {
        "id": "x22TmGa7VAYi",
        "colab_type": "code",
        "colab": {
          "base_uri": "https://localhost:8080/",
          "height": 1000
        },
        "outputId": "6901b66a-bcbb-4387-e7c8-3c81fccfe8f6"
      },
      "source": [
        "#Важность признаков\n",
        "from operator import itemgetter\n",
        "importance = list(zip(data.columns,DTClassifier.feature_importances_))\n",
        "importance_sort = sorted(importance, key=itemgetter(1), reverse = True)\n",
        "importance_sort"
      ],
      "execution_count": 252,
      "outputs": [
        {
          "output_type": "execute_result",
          "data": {
            "text/plain": [
              "[('age', 0.5623511348413235),\n",
              " ('gender_male', 0.16556680750272187),\n",
              " ('location_Manila', 0.07612018977332659),\n",
              " ('location_Paris', 0.05685496285810745),\n",
              " ('visiting Wuhan', 0.053558249868213),\n",
              " ('location_South Korea', 0.02718938067944169),\n",
              " ('location_Kowloon', 0.025130006042144635),\n",
              " ('location_Hong Kong', 0.015302357105203728),\n",
              " ('location_Kanagawa', 0.010196776008697743),\n",
              " ('location_Japan', 0.004814773664681096),\n",
              " ('country_Taiwan', 0.0029153616561387596),\n",
              " ('from Wuhan', 0.0),\n",
              " ('recovered', 0.0),\n",
              " ('location_Aichi Prefecture', 0.0),\n",
              " ('location_Amiens', 0.0),\n",
              " ('location_Andalusia', 0.0),\n",
              " ('location_Annecy', 0.0),\n",
              " ('location_Baden-Wuerttemberg', 0.0),\n",
              " ('location_Barcelona', 0.0),\n",
              " ('location_Bavaria', 0.0),\n",
              " ('location_Bern', 0.0),\n",
              " ('location_Bordeaux', 0.0),\n",
              " ('location_Brest', 0.0),\n",
              " ('location_California', 0.0),\n",
              " ('location_Castellon', 0.0),\n",
              " ('location_Castile and Leon', 0.0),\n",
              " ('location_Chiba Prefecture', 0.0),\n",
              " ('location_Fo Tan', 0.0),\n",
              " ('location_Fukuoka Prefecture', 0.0),\n",
              " ('location_Gifu Prefecture', 0.0),\n",
              " ('location_Haneda', 0.0),\n",
              " ('location_Hesse', 0.0),\n",
              " ('location_Ho Chi Minh City', 0.0),\n",
              " ('location_Hokkaido', 0.0),\n",
              " ('location_Illinois', 0.0),\n",
              " ('location_Ishikawa', 0.0),\n",
              " ('location_Johor', 0.0),\n",
              " ('location_Jonkoping', 0.0),\n",
              " ('location_Kathmandu', 0.0),\n",
              " ('location_Kumamoto City', 0.0),\n",
              " ('location_Kumamoto Prefecture', 0.0),\n",
              " ('location_Kwai Chung', 0.0),\n",
              " ('location_Kwun Tong', 0.0),\n",
              " ('location_Kyoto', 0.0),\n",
              " ('location_Langkawi', 0.0),\n",
              " ('location_Lapland', 0.0),\n",
              " ('location_Lebanon', 0.0),\n",
              " ('location_London', 0.0),\n",
              " ('location_Lyon', 0.0),\n",
              " ('location_Malaysia', 0.0),\n",
              " ('location_Massachusetts', 0.0),\n",
              " ('location_Mie', 0.0),\n",
              " ('location_Montpellier', 0.0),\n",
              " ('location_NSW', 0.0),\n",
              " ('location_Nagano Prefecture', 0.0),\n",
              " ('location_Nagoya City', 0.0),\n",
              " ('location_Nantes', 0.0),\n",
              " ('location_Nara Prefecture', 0.0),\n",
              " ('location_Ngau Chi Wan', 0.0),\n",
              " ('location_Nice', 0.0),\n",
              " ('location_North Rhine-Westphalia', 0.0),\n",
              " ('location_Okinawa Prefecture', 0.0),\n",
              " ('location_Osaka Prefecture', 0.0),\n",
              " ('location_Phillipines', 0.0),\n",
              " ('location_Preah Sihanouk Province', 0.0),\n",
              " ('location_Queensland', 0.0),\n",
              " ('location_Rome', 0.0),\n",
              " ('location_Sagamihara', 0.0),\n",
              " ('location_Sapporo', 0.0),\n",
              " ('location_Seoul', 0.0),\n",
              " ('location_Singapore', 0.0),\n",
              " ('location_South Australia', 0.0),\n",
              " ('location_Sri Lanka', 0.0),\n",
              " ('location_Strasbourg', 0.0),\n",
              " ('location_Taiwan', 0.0),\n",
              " ('location_Tenerife', 0.0),\n",
              " ('location_Thailand', 0.0),\n",
              " ('location_Tokyo', 0.0),\n",
              " ('location_Toronto', 0.0),\n",
              " ('location_Tsing Yi', 0.0),\n",
              " ('location_Tubingen', 0.0),\n",
              " ('location_UAE', 0.0),\n",
              " ('location_Valencia', 0.0),\n",
              " ('location_Vancouver', 0.0),\n",
              " ('location_Victoria', 0.0),\n",
              " ('location_Vinh Phuc', 0.0),\n",
              " ('location_Wakayama Prefecture', 0.0),\n",
              " ('location_Wan Chai', 0.0),\n",
              " ('location_Washington', 0.0),\n",
              " ('location_Yau Ma Tei', 0.0),\n",
              " ('location_Zaragoza', 0.0),\n",
              " ('location_Zhuhai', 0.0),\n",
              " ('country_Australia', 0.0),\n",
              " ('country_Cambodia', 0.0),\n",
              " ('country_Canada', 0.0),\n",
              " ('country_Finland', 0.0),\n",
              " ('country_France', 0.0),\n",
              " ('country_Germany', 0.0),\n",
              " ('country_Hong Kong', 0.0),\n",
              " ('country_Italy', 0.0),\n",
              " ('country_Japan', 0.0),\n",
              " ('country_Lebanon', 0.0),\n",
              " ('country_Malaysia', 0.0),\n",
              " ('country_Nepal', 0.0),\n",
              " ('country_Phillipines', 0.0),\n",
              " ('country_Singapore', 0.0),\n",
              " ('country_South Korea', 0.0),\n",
              " ('country_Spain', 0.0),\n",
              " ('country_Sri Lanka', 0.0),\n",
              " ('country_Sweden', 0.0),\n",
              " ('country_Switzerland', 0.0),\n",
              " ('country_Thailand', 0.0),\n",
              " ('country_UAE', 0.0),\n",
              " ('country_UK', 0.0),\n",
              " ('country_USA', 0.0),\n",
              " ('country_Vietnam', 0.0),\n",
              " ('gender_female', 0.0)]"
            ]
          },
          "metadata": {
            "tags": []
          },
          "execution_count": 252
        }
      ]
    },
    {
      "cell_type": "code",
      "metadata": {
        "id": "_UWSPtRbXOKg",
        "colab_type": "code",
        "colab": {
          "base_uri": "https://localhost:8080/",
          "height": 34
        },
        "outputId": "542d1c40-59e0-45c8-95a1-a4aeb606abaf"
      },
      "source": [
        "DTClassifier2 = DecisionTreeClassifier(random_state=1)\n",
        "DTClassifier2.fit(X_cov[['age']],y_cov)\n",
        "DTClassifier2.score(X_test[['age']],y_test)"
      ],
      "execution_count": 253,
      "outputs": [
        {
          "output_type": "execute_result",
          "data": {
            "text/plain": [
              "0.9606299212598425"
            ]
          },
          "metadata": {
            "tags": []
          },
          "execution_count": 253
        }
      ]
    },
    {
      "cell_type": "code",
      "metadata": {
        "id": "sMNkLV1HXWxZ",
        "colab_type": "code",
        "colab": {
          "base_uri": "https://localhost:8080/",
          "height": 34
        },
        "outputId": "d7321f77-b423-4361-8e29-08457187b815"
      },
      "source": [
        "DTClassifier2 = DecisionTreeClassifier(random_state=1)\n",
        "DTClassifier2.fit(X_cov[['gender_male']],y_cov)\n",
        "DTClassifier2.score(X_test[['gender_male']],y_test)"
      ],
      "execution_count": 255,
      "outputs": [
        {
          "output_type": "execute_result",
          "data": {
            "text/plain": [
              "0.9606299212598425"
            ]
          },
          "metadata": {
            "tags": []
          },
          "execution_count": 255
        }
      ]
    },
    {
      "cell_type": "code",
      "metadata": {
        "id": "sNuggrwKaWob",
        "colab_type": "code",
        "colab": {
          "base_uri": "https://localhost:8080/",
          "height": 255
        },
        "outputId": "865d9ed7-7cdb-496a-a274-d40c5dc3556e"
      },
      "source": [
        "y_predicted_DT2 = DTClassifier2.predict(X_test[['age']])\n",
        "classification_report(y_predicted_DT2,y_test, output_dict= True)"
      ],
      "execution_count": 256,
      "outputs": [
        {
          "output_type": "execute_result",
          "data": {
            "text/plain": [
              "{'0': {'f1-score': 0.9799196787148594,\n",
              "  'precision': 1.0,\n",
              "  'recall': 0.9606299212598425,\n",
              "  'support': 127},\n",
              " '1': {'f1-score': 0.0, 'precision': 0.0, 'recall': 0.0, 'support': 0},\n",
              " 'accuracy': 0.9606299212598425,\n",
              " 'macro avg': {'f1-score': 0.4899598393574297,\n",
              "  'precision': 0.5,\n",
              "  'recall': 0.48031496062992124,\n",
              "  'support': 127},\n",
              " 'weighted avg': {'f1-score': 0.9799196787148594,\n",
              "  'precision': 1.0,\n",
              "  'recall': 0.9606299212598425,\n",
              "  'support': 127}}"
            ]
          },
          "metadata": {
            "tags": []
          },
          "execution_count": 256
        }
      ]
    },
    {
      "cell_type": "code",
      "metadata": {
        "id": "_yWRQw-0an-m",
        "colab_type": "code",
        "colab": {
          "base_uri": "https://localhost:8080/",
          "height": 281
        },
        "outputId": "a140c7f7-b237-4518-bc20-5fc4777a0341"
      },
      "source": [
        "dot_data1 = export_graphviz(DTClassifier2, out_file=None, \n",
        "                           feature_names=['age'], \n",
        "                           class_names=('Died','Survived'), \n",
        "                           filled=True, rounded=True, special_characters=True)  \n",
        "graph = graphviz.Source(dot_data1)  \n",
        "graph"
      ],
      "execution_count": 258,
      "outputs": [
        {
          "output_type": "execute_result",
          "data": {
            "text/plain": [
              "<graphviz.files.Source at 0x7f1752b43ef0>"
            ],
            "image/svg+xml": "<?xml version=\"1.0\" encoding=\"UTF-8\" standalone=\"no\"?>\n<!DOCTYPE svg PUBLIC \"-//W3C//DTD SVG 1.1//EN\"\n \"http://www.w3.org/Graphics/SVG/1.1/DTD/svg11.dtd\">\n<!-- Generated by graphviz version 2.40.1 (20161225.0304)\n -->\n<!-- Title: Tree Pages: 1 -->\n<svg width=\"266pt\" height=\"195pt\"\n viewBox=\"0.00 0.00 266.00 195.00\" xmlns=\"http://www.w3.org/2000/svg\" xmlns:xlink=\"http://www.w3.org/1999/xlink\">\n<g id=\"graph0\" class=\"graph\" transform=\"scale(1 1) rotate(0) translate(4 191)\">\n<title>Tree</title>\n<polygon fill=\"#ffffff\" stroke=\"transparent\" points=\"-4,4 -4,-191 262,-191 262,4 -4,4\"/>\n<!-- 0 -->\n<g id=\"node1\" class=\"node\">\n<title>0</title>\n<path fill=\"#e6853f\" stroke=\"#000000\" d=\"M177,-187C177,-187 77,-187 77,-187 71,-187 65,-181 65,-175 65,-175 65,-116 65,-116 65,-110 71,-104 77,-104 77,-104 177,-104 177,-104 183,-104 189,-110 189,-116 189,-116 189,-175 189,-175 189,-181 183,-187 177,-187\"/>\n<text text-anchor=\"start\" x=\"96.5\" y=\"-171.8\" font-family=\"Helvetica,sans-Serif\" font-size=\"14.00\" fill=\"#000000\">age ≤ 0.5</text>\n<text text-anchor=\"start\" x=\"89\" y=\"-156.8\" font-family=\"Helvetica,sans-Serif\" font-size=\"14.00\" fill=\"#000000\">gini = 0.054</text>\n<text text-anchor=\"start\" x=\"79\" y=\"-141.8\" font-family=\"Helvetica,sans-Serif\" font-size=\"14.00\" fill=\"#000000\">samples = 508</text>\n<text text-anchor=\"start\" x=\"73\" y=\"-126.8\" font-family=\"Helvetica,sans-Serif\" font-size=\"14.00\" fill=\"#000000\">value = [494, 14]</text>\n<text text-anchor=\"start\" x=\"87\" y=\"-111.8\" font-family=\"Helvetica,sans-Serif\" font-size=\"14.00\" fill=\"#000000\">class = Died</text>\n</g>\n<!-- 1 -->\n<g id=\"node2\" class=\"node\">\n<title>1</title>\n<path fill=\"#e5823a\" stroke=\"#000000\" d=\"M104,-68C104,-68 12,-68 12,-68 6,-68 0,-62 0,-56 0,-56 0,-12 0,-12 0,-6 6,0 12,0 12,0 104,0 104,0 110,0 116,-6 116,-12 116,-12 116,-56 116,-56 116,-62 110,-68 104,-68\"/>\n<text text-anchor=\"start\" x=\"20\" y=\"-52.8\" font-family=\"Helvetica,sans-Serif\" font-size=\"14.00\" fill=\"#000000\">gini = 0.009</text>\n<text text-anchor=\"start\" x=\"10\" y=\"-37.8\" font-family=\"Helvetica,sans-Serif\" font-size=\"14.00\" fill=\"#000000\">samples = 217</text>\n<text text-anchor=\"start\" x=\"8\" y=\"-22.8\" font-family=\"Helvetica,sans-Serif\" font-size=\"14.00\" fill=\"#000000\">value = [216, 1]</text>\n<text text-anchor=\"start\" x=\"18\" y=\"-7.8\" font-family=\"Helvetica,sans-Serif\" font-size=\"14.00\" fill=\"#000000\">class = Died</text>\n</g>\n<!-- 0&#45;&gt;1 -->\n<g id=\"edge1\" class=\"edge\">\n<title>0&#45;&gt;1</title>\n<path fill=\"none\" stroke=\"#000000\" d=\"M101.3069,-103.9815C95.8469,-95.1585 90.0716,-85.8258 84.5793,-76.9506\"/>\n<polygon fill=\"#000000\" stroke=\"#000000\" points=\"87.442,-74.9254 79.2035,-68.2637 81.4896,-78.609 87.442,-74.9254\"/>\n<text text-anchor=\"middle\" x=\"73.4738\" y=\"-88.8982\" font-family=\"Helvetica,sans-Serif\" font-size=\"14.00\" fill=\"#000000\">True</text>\n</g>\n<!-- 2 -->\n<g id=\"node3\" class=\"node\">\n<title>2</title>\n<path fill=\"#e68742\" stroke=\"#000000\" d=\"M246,-68C246,-68 146,-68 146,-68 140,-68 134,-62 134,-56 134,-56 134,-12 134,-12 134,-6 140,0 146,0 146,0 246,0 246,0 252,0 258,-6 258,-12 258,-12 258,-56 258,-56 258,-62 252,-68 246,-68\"/>\n<text text-anchor=\"start\" x=\"158\" y=\"-52.8\" font-family=\"Helvetica,sans-Serif\" font-size=\"14.00\" fill=\"#000000\">gini = 0.085</text>\n<text text-anchor=\"start\" x=\"148\" y=\"-37.8\" font-family=\"Helvetica,sans-Serif\" font-size=\"14.00\" fill=\"#000000\">samples = 291</text>\n<text text-anchor=\"start\" x=\"142\" y=\"-22.8\" font-family=\"Helvetica,sans-Serif\" font-size=\"14.00\" fill=\"#000000\">value = [278, 13]</text>\n<text text-anchor=\"start\" x=\"156\" y=\"-7.8\" font-family=\"Helvetica,sans-Serif\" font-size=\"14.00\" fill=\"#000000\">class = Died</text>\n</g>\n<!-- 0&#45;&gt;2 -->\n<g id=\"edge2\" class=\"edge\">\n<title>0&#45;&gt;2</title>\n<path fill=\"none\" stroke=\"#000000\" d=\"M152.6931,-103.9815C158.1531,-95.1585 163.9284,-85.8258 169.4207,-76.9506\"/>\n<polygon fill=\"#000000\" stroke=\"#000000\" points=\"172.5104,-78.609 174.7965,-68.2637 166.558,-74.9254 172.5104,-78.609\"/>\n<text text-anchor=\"middle\" x=\"180.5262\" y=\"-88.8982\" font-family=\"Helvetica,sans-Serif\" font-size=\"14.00\" fill=\"#000000\">False</text>\n</g>\n</g>\n</svg>\n"
          },
          "metadata": {
            "tags": []
          },
          "execution_count": 258
        }
      ]
    },
    {
      "cell_type": "markdown",
      "metadata": {
        "id": "l0NSVepVbcfq",
        "colab_type": "text"
      },
      "source": [
        "**Лучшеми моделями являются логическая регрессия и SVM. Показатели их точности одинаковы.**"
      ]
    },
    {
      "cell_type": "code",
      "metadata": {
        "id": "yz2jjhvtarz_",
        "colab_type": "code",
        "colab": {}
      },
      "source": [
        ""
      ],
      "execution_count": 0,
      "outputs": []
    }
  ]
}