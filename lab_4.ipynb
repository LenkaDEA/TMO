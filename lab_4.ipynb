{
  "nbformat": 4,
  "nbformat_minor": 0,
  "metadata": {
    "colab": {
      "name": "lab_4.ipynb",
      "provenance": [],
      "collapsed_sections": []
    },
    "kernelspec": {
      "name": "python3",
      "display_name": "Python 3"
    }
  },
  "cells": [
    {
      "cell_type": "code",
      "metadata": {
        "id": "dlxPQem6qmv0",
        "colab_type": "code",
        "colab": {}
      },
      "source": [
        "import numpy as np\n",
        "import pandas as pd\n",
        "import seaborn as sns\n",
        "import matplotlib.pyplot as plt\n",
        "%matplotlib inline\n",
        "from sklearn.impute import SimpleImputer\n",
        "import pandas_profiling as pp\n",
        "import warnings\n",
        "warnings.simplefilter(\"ignore\")"
      ],
      "execution_count": 0,
      "outputs": []
    },
    {
      "cell_type": "code",
      "metadata": {
        "id": "fcegEMgRswUS",
        "colab_type": "code",
        "outputId": "dc694e32-e9ae-43cc-85a2-a2a063217b20",
        "colab": {
          "base_uri": "https://localhost:8080/",
          "height": 666
        }
      },
      "source": [
        "data = pd.read_csv('datasets_494724_1208143_COVID19_line_list_data.csv')\n",
        "data.head()"
      ],
      "execution_count": 0,
      "outputs": [
        {
          "output_type": "execute_result",
          "data": {
            "text/html": [
              "<div>\n",
              "<style scoped>\n",
              "    .dataframe tbody tr th:only-of-type {\n",
              "        vertical-align: middle;\n",
              "    }\n",
              "\n",
              "    .dataframe tbody tr th {\n",
              "        vertical-align: top;\n",
              "    }\n",
              "\n",
              "    .dataframe thead th {\n",
              "        text-align: right;\n",
              "    }\n",
              "</style>\n",
              "<table border=\"1\" class=\"dataframe\">\n",
              "  <thead>\n",
              "    <tr style=\"text-align: right;\">\n",
              "      <th></th>\n",
              "      <th>id</th>\n",
              "      <th>case_in_country</th>\n",
              "      <th>reporting date</th>\n",
              "      <th>Unnamed: 3</th>\n",
              "      <th>summary</th>\n",
              "      <th>location</th>\n",
              "      <th>country</th>\n",
              "      <th>gender</th>\n",
              "      <th>age</th>\n",
              "      <th>symptom_onset</th>\n",
              "      <th>If_onset_approximated</th>\n",
              "      <th>hosp_visit_date</th>\n",
              "      <th>exposure_start</th>\n",
              "      <th>exposure_end</th>\n",
              "      <th>visiting Wuhan</th>\n",
              "      <th>from Wuhan</th>\n",
              "      <th>death</th>\n",
              "      <th>recovered</th>\n",
              "      <th>symptom</th>\n",
              "      <th>source</th>\n",
              "      <th>link</th>\n",
              "      <th>Unnamed: 21</th>\n",
              "      <th>Unnamed: 22</th>\n",
              "      <th>Unnamed: 23</th>\n",
              "      <th>Unnamed: 24</th>\n",
              "      <th>Unnamed: 25</th>\n",
              "      <th>Unnamed: 26</th>\n",
              "    </tr>\n",
              "  </thead>\n",
              "  <tbody>\n",
              "    <tr>\n",
              "      <th>0</th>\n",
              "      <td>1</td>\n",
              "      <td>NaN</td>\n",
              "      <td>1/20/2020</td>\n",
              "      <td>NaN</td>\n",
              "      <td>First confirmed imported COVID-19 pneumonia pa...</td>\n",
              "      <td>Shenzhen, Guangdong</td>\n",
              "      <td>China</td>\n",
              "      <td>male</td>\n",
              "      <td>66.0</td>\n",
              "      <td>01/03/20</td>\n",
              "      <td>0.0</td>\n",
              "      <td>01/11/20</td>\n",
              "      <td>12/29/2019</td>\n",
              "      <td>01/04/20</td>\n",
              "      <td>1</td>\n",
              "      <td>0.0</td>\n",
              "      <td>0</td>\n",
              "      <td>0</td>\n",
              "      <td>NaN</td>\n",
              "      <td>Shenzhen Municipal Health Commission</td>\n",
              "      <td>http://wjw.sz.gov.cn/wzx/202001/t20200120_1898...</td>\n",
              "      <td>NaN</td>\n",
              "      <td>NaN</td>\n",
              "      <td>NaN</td>\n",
              "      <td>NaN</td>\n",
              "      <td>NaN</td>\n",
              "      <td>NaN</td>\n",
              "    </tr>\n",
              "    <tr>\n",
              "      <th>1</th>\n",
              "      <td>2</td>\n",
              "      <td>NaN</td>\n",
              "      <td>1/20/2020</td>\n",
              "      <td>NaN</td>\n",
              "      <td>First confirmed imported COVID-19 pneumonia pa...</td>\n",
              "      <td>Shanghai</td>\n",
              "      <td>China</td>\n",
              "      <td>female</td>\n",
              "      <td>56.0</td>\n",
              "      <td>1/15/2020</td>\n",
              "      <td>0.0</td>\n",
              "      <td>1/15/2020</td>\n",
              "      <td>NaN</td>\n",
              "      <td>01/12/20</td>\n",
              "      <td>0</td>\n",
              "      <td>1.0</td>\n",
              "      <td>0</td>\n",
              "      <td>0</td>\n",
              "      <td>NaN</td>\n",
              "      <td>Official Weibo of Shanghai Municipal Health Co...</td>\n",
              "      <td>https://www.weibo.com/2372649470/IqogQhgfa?fro...</td>\n",
              "      <td>NaN</td>\n",
              "      <td>NaN</td>\n",
              "      <td>NaN</td>\n",
              "      <td>NaN</td>\n",
              "      <td>NaN</td>\n",
              "      <td>NaN</td>\n",
              "    </tr>\n",
              "    <tr>\n",
              "      <th>2</th>\n",
              "      <td>3</td>\n",
              "      <td>NaN</td>\n",
              "      <td>1/21/2020</td>\n",
              "      <td>NaN</td>\n",
              "      <td>First confirmed imported cases in Zhejiang: pa...</td>\n",
              "      <td>Zhejiang</td>\n",
              "      <td>China</td>\n",
              "      <td>male</td>\n",
              "      <td>46.0</td>\n",
              "      <td>01/04/20</td>\n",
              "      <td>0.0</td>\n",
              "      <td>1/17/2020</td>\n",
              "      <td>NaN</td>\n",
              "      <td>01/03/20</td>\n",
              "      <td>0</td>\n",
              "      <td>1.0</td>\n",
              "      <td>0</td>\n",
              "      <td>0</td>\n",
              "      <td>NaN</td>\n",
              "      <td>Health Commission of Zhejiang Province</td>\n",
              "      <td>http://www.zjwjw.gov.cn/art/2020/1/21/art_1202...</td>\n",
              "      <td>NaN</td>\n",
              "      <td>NaN</td>\n",
              "      <td>NaN</td>\n",
              "      <td>NaN</td>\n",
              "      <td>NaN</td>\n",
              "      <td>NaN</td>\n",
              "    </tr>\n",
              "    <tr>\n",
              "      <th>3</th>\n",
              "      <td>4</td>\n",
              "      <td>NaN</td>\n",
              "      <td>1/21/2020</td>\n",
              "      <td>NaN</td>\n",
              "      <td>new confirmed imported COVID-19 pneumonia in T...</td>\n",
              "      <td>Tianjin</td>\n",
              "      <td>China</td>\n",
              "      <td>female</td>\n",
              "      <td>60.0</td>\n",
              "      <td>NaN</td>\n",
              "      <td>NaN</td>\n",
              "      <td>1/19/2020</td>\n",
              "      <td>NaN</td>\n",
              "      <td>NaN</td>\n",
              "      <td>1</td>\n",
              "      <td>0.0</td>\n",
              "      <td>0</td>\n",
              "      <td>0</td>\n",
              "      <td>NaN</td>\n",
              "      <td>人民日报官方微博</td>\n",
              "      <td>https://m.weibo.cn/status/4463235401268457?</td>\n",
              "      <td>NaN</td>\n",
              "      <td>NaN</td>\n",
              "      <td>NaN</td>\n",
              "      <td>NaN</td>\n",
              "      <td>NaN</td>\n",
              "      <td>NaN</td>\n",
              "    </tr>\n",
              "    <tr>\n",
              "      <th>4</th>\n",
              "      <td>5</td>\n",
              "      <td>NaN</td>\n",
              "      <td>1/21/2020</td>\n",
              "      <td>NaN</td>\n",
              "      <td>new confirmed imported COVID-19 pneumonia in T...</td>\n",
              "      <td>Tianjin</td>\n",
              "      <td>China</td>\n",
              "      <td>male</td>\n",
              "      <td>58.0</td>\n",
              "      <td>NaN</td>\n",
              "      <td>NaN</td>\n",
              "      <td>1/14/2020</td>\n",
              "      <td>NaN</td>\n",
              "      <td>NaN</td>\n",
              "      <td>0</td>\n",
              "      <td>0.0</td>\n",
              "      <td>0</td>\n",
              "      <td>0</td>\n",
              "      <td>NaN</td>\n",
              "      <td>人民日报官方微博</td>\n",
              "      <td>https://m.weibo.cn/status/4463235401268457?</td>\n",
              "      <td>NaN</td>\n",
              "      <td>NaN</td>\n",
              "      <td>NaN</td>\n",
              "      <td>NaN</td>\n",
              "      <td>NaN</td>\n",
              "      <td>NaN</td>\n",
              "    </tr>\n",
              "  </tbody>\n",
              "</table>\n",
              "</div>"
            ],
            "text/plain": [
              "   id  case_in_country reporting date  ...  Unnamed: 24 Unnamed: 25 Unnamed: 26\n",
              "0   1              NaN      1/20/2020  ...          NaN         NaN         NaN\n",
              "1   2              NaN      1/20/2020  ...          NaN         NaN         NaN\n",
              "2   3              NaN      1/21/2020  ...          NaN         NaN         NaN\n",
              "3   4              NaN      1/21/2020  ...          NaN         NaN         NaN\n",
              "4   5              NaN      1/21/2020  ...          NaN         NaN         NaN\n",
              "\n",
              "[5 rows x 27 columns]"
            ]
          },
          "metadata": {
            "tags": []
          },
          "execution_count": 36
        }
      ]
    },
    {
      "cell_type": "code",
      "metadata": {
        "id": "EkQkJT7utJTR",
        "colab_type": "code",
        "outputId": "24cf91fc-86dc-4ff6-cf81-99157a00bb72",
        "colab": {
          "base_uri": "https://localhost:8080/",
          "height": 493
        }
      },
      "source": [
        "# проверим есть ли пропущенные значения\n",
        "data.isnull().sum()"
      ],
      "execution_count": 0,
      "outputs": [
        {
          "output_type": "execute_result",
          "data": {
            "text/plain": [
              "id                          0\n",
              "case_in_country           197\n",
              "reporting date              1\n",
              "Unnamed: 3               1085\n",
              "summary                     5\n",
              "location                    0\n",
              "country                     0\n",
              "gender                    183\n",
              "age                       242\n",
              "symptom_onset             522\n",
              "If_onset_approximated     525\n",
              "hosp_visit_date           578\n",
              "exposure_start            957\n",
              "exposure_end              744\n",
              "visiting Wuhan              0\n",
              "from Wuhan                  4\n",
              "death                       0\n",
              "recovered                   0\n",
              "symptom                   815\n",
              "source                      0\n",
              "link                        0\n",
              "Unnamed: 21              1085\n",
              "Unnamed: 22              1085\n",
              "Unnamed: 23              1085\n",
              "Unnamed: 24              1085\n",
              "Unnamed: 25              1085\n",
              "Unnamed: 26              1085\n",
              "dtype: int64"
            ]
          },
          "metadata": {
            "tags": []
          },
          "execution_count": 37
        }
      ]
    },
    {
      "cell_type": "code",
      "metadata": {
        "id": "gFSJTbx65lDD",
        "colab_type": "code",
        "outputId": "f959a02d-551a-45f5-ec0e-b8a72fbf41e0",
        "colab": {
          "base_uri": "https://localhost:8080/",
          "height": 34
        }
      },
      "source": [
        "# Удаление колонок, содержащих пустые значения\n",
        "data_new_1 = data.drop(columns=['Unnamed: 21','link','source', 'summary','reporting date','Unnamed: 22','Unnamed: 23','Unnamed: 24','Unnamed: 25','symptom','Unnamed: 26', 'Unnamed: 3','symptom_onset','If_onset_approximated','hosp_visit_date','exposure_start', 'exposure_end'])\n",
        "(data.shape, data_new_1.shape)"
      ],
      "execution_count": 0,
      "outputs": [
        {
          "output_type": "execute_result",
          "data": {
            "text/plain": [
              "((1085, 27), (1085, 10))"
            ]
          },
          "metadata": {
            "tags": []
          },
          "execution_count": 38
        }
      ]
    },
    {
      "cell_type": "code",
      "metadata": {
        "id": "nViO-qvF6p_W",
        "colab_type": "code",
        "outputId": "c0389025-45ca-4c47-f0c8-ae89ec2bcb86",
        "colab": {
          "base_uri": "https://localhost:8080/",
          "height": 204
        }
      },
      "source": [
        "data_new_1.head()"
      ],
      "execution_count": 0,
      "outputs": [
        {
          "output_type": "execute_result",
          "data": {
            "text/html": [
              "<div>\n",
              "<style scoped>\n",
              "    .dataframe tbody tr th:only-of-type {\n",
              "        vertical-align: middle;\n",
              "    }\n",
              "\n",
              "    .dataframe tbody tr th {\n",
              "        vertical-align: top;\n",
              "    }\n",
              "\n",
              "    .dataframe thead th {\n",
              "        text-align: right;\n",
              "    }\n",
              "</style>\n",
              "<table border=\"1\" class=\"dataframe\">\n",
              "  <thead>\n",
              "    <tr style=\"text-align: right;\">\n",
              "      <th></th>\n",
              "      <th>id</th>\n",
              "      <th>case_in_country</th>\n",
              "      <th>location</th>\n",
              "      <th>country</th>\n",
              "      <th>gender</th>\n",
              "      <th>age</th>\n",
              "      <th>visiting Wuhan</th>\n",
              "      <th>from Wuhan</th>\n",
              "      <th>death</th>\n",
              "      <th>recovered</th>\n",
              "    </tr>\n",
              "  </thead>\n",
              "  <tbody>\n",
              "    <tr>\n",
              "      <th>0</th>\n",
              "      <td>1</td>\n",
              "      <td>NaN</td>\n",
              "      <td>Shenzhen, Guangdong</td>\n",
              "      <td>China</td>\n",
              "      <td>male</td>\n",
              "      <td>66.0</td>\n",
              "      <td>1</td>\n",
              "      <td>0.0</td>\n",
              "      <td>0</td>\n",
              "      <td>0</td>\n",
              "    </tr>\n",
              "    <tr>\n",
              "      <th>1</th>\n",
              "      <td>2</td>\n",
              "      <td>NaN</td>\n",
              "      <td>Shanghai</td>\n",
              "      <td>China</td>\n",
              "      <td>female</td>\n",
              "      <td>56.0</td>\n",
              "      <td>0</td>\n",
              "      <td>1.0</td>\n",
              "      <td>0</td>\n",
              "      <td>0</td>\n",
              "    </tr>\n",
              "    <tr>\n",
              "      <th>2</th>\n",
              "      <td>3</td>\n",
              "      <td>NaN</td>\n",
              "      <td>Zhejiang</td>\n",
              "      <td>China</td>\n",
              "      <td>male</td>\n",
              "      <td>46.0</td>\n",
              "      <td>0</td>\n",
              "      <td>1.0</td>\n",
              "      <td>0</td>\n",
              "      <td>0</td>\n",
              "    </tr>\n",
              "    <tr>\n",
              "      <th>3</th>\n",
              "      <td>4</td>\n",
              "      <td>NaN</td>\n",
              "      <td>Tianjin</td>\n",
              "      <td>China</td>\n",
              "      <td>female</td>\n",
              "      <td>60.0</td>\n",
              "      <td>1</td>\n",
              "      <td>0.0</td>\n",
              "      <td>0</td>\n",
              "      <td>0</td>\n",
              "    </tr>\n",
              "    <tr>\n",
              "      <th>4</th>\n",
              "      <td>5</td>\n",
              "      <td>NaN</td>\n",
              "      <td>Tianjin</td>\n",
              "      <td>China</td>\n",
              "      <td>male</td>\n",
              "      <td>58.0</td>\n",
              "      <td>0</td>\n",
              "      <td>0.0</td>\n",
              "      <td>0</td>\n",
              "      <td>0</td>\n",
              "    </tr>\n",
              "  </tbody>\n",
              "</table>\n",
              "</div>"
            ],
            "text/plain": [
              "   id  case_in_country             location  ... from Wuhan death  recovered\n",
              "0   1              NaN  Shenzhen, Guangdong  ...        0.0     0          0\n",
              "1   2              NaN             Shanghai  ...        1.0     0          0\n",
              "2   3              NaN             Zhejiang  ...        1.0     0          0\n",
              "3   4              NaN              Tianjin  ...        0.0     0          0\n",
              "4   5              NaN              Tianjin  ...        0.0     0          0\n",
              "\n",
              "[5 rows x 10 columns]"
            ]
          },
          "metadata": {
            "tags": []
          },
          "execution_count": 39
        }
      ]
    },
    {
      "cell_type": "code",
      "metadata": {
        "id": "uG3QO4Ej6-6Y",
        "colab_type": "code",
        "outputId": "5113b35b-5cc0-4e50-f69e-982882682f83",
        "colab": {
          "base_uri": "https://localhost:8080/",
          "height": 204
        }
      },
      "source": [
        "data_new_1.isnull().sum()"
      ],
      "execution_count": 0,
      "outputs": [
        {
          "output_type": "execute_result",
          "data": {
            "text/plain": [
              "id                   0\n",
              "case_in_country    197\n",
              "location             0\n",
              "country              0\n",
              "gender             183\n",
              "age                242\n",
              "visiting Wuhan       0\n",
              "from Wuhan           4\n",
              "death                0\n",
              "recovered            0\n",
              "dtype: int64"
            ]
          },
          "metadata": {
            "tags": []
          },
          "execution_count": 40
        }
      ]
    },
    {
      "cell_type": "code",
      "metadata": {
        "id": "z379L5XW_oXh",
        "colab_type": "code",
        "outputId": "35c83a87-98b5-49be-b46a-67d6b11abb5c",
        "colab": {
          "base_uri": "https://localhost:8080/",
          "height": 34
        }
      },
      "source": [
        "# Удаление строки, содержащих пустые значения\n",
        "data_new_2 = data_new_1.dropna(axis=0,how='any',subset=['case_in_country','gender', 'age'])\n",
        "(data_new_1.shape, data_new_2.shape)"
      ],
      "execution_count": 0,
      "outputs": [
        {
          "output_type": "execute_result",
          "data": {
            "text/plain": [
              "((1085, 10), (635, 10))"
            ]
          },
          "metadata": {
            "tags": []
          },
          "execution_count": 41
        }
      ]
    },
    {
      "cell_type": "code",
      "metadata": {
        "id": "TI2zE8Tt_87M",
        "colab_type": "code",
        "outputId": "26de80a3-b667-4bb5-80c0-c3f7281ca8b5",
        "colab": {
          "base_uri": "https://localhost:8080/",
          "height": 204
        }
      },
      "source": [
        "data_new_2.head()"
      ],
      "execution_count": 0,
      "outputs": [
        {
          "output_type": "execute_result",
          "data": {
            "text/html": [
              "<div>\n",
              "<style scoped>\n",
              "    .dataframe tbody tr th:only-of-type {\n",
              "        vertical-align: middle;\n",
              "    }\n",
              "\n",
              "    .dataframe tbody tr th {\n",
              "        vertical-align: top;\n",
              "    }\n",
              "\n",
              "    .dataframe thead th {\n",
              "        text-align: right;\n",
              "    }\n",
              "</style>\n",
              "<table border=\"1\" class=\"dataframe\">\n",
              "  <thead>\n",
              "    <tr style=\"text-align: right;\">\n",
              "      <th></th>\n",
              "      <th>id</th>\n",
              "      <th>case_in_country</th>\n",
              "      <th>location</th>\n",
              "      <th>country</th>\n",
              "      <th>gender</th>\n",
              "      <th>age</th>\n",
              "      <th>visiting Wuhan</th>\n",
              "      <th>from Wuhan</th>\n",
              "      <th>death</th>\n",
              "      <th>recovered</th>\n",
              "    </tr>\n",
              "  </thead>\n",
              "  <tbody>\n",
              "    <tr>\n",
              "      <th>197</th>\n",
              "      <td>198</td>\n",
              "      <td>1.0</td>\n",
              "      <td>Bordeaux</td>\n",
              "      <td>France</td>\n",
              "      <td>male</td>\n",
              "      <td>48.0</td>\n",
              "      <td>1</td>\n",
              "      <td>0.0</td>\n",
              "      <td>0</td>\n",
              "      <td>0</td>\n",
              "    </tr>\n",
              "    <tr>\n",
              "      <th>198</th>\n",
              "      <td>199</td>\n",
              "      <td>2.0</td>\n",
              "      <td>Paris</td>\n",
              "      <td>France</td>\n",
              "      <td>male</td>\n",
              "      <td>31.0</td>\n",
              "      <td>0</td>\n",
              "      <td>1.0</td>\n",
              "      <td>0</td>\n",
              "      <td>02/12/20</td>\n",
              "    </tr>\n",
              "    <tr>\n",
              "      <th>199</th>\n",
              "      <td>200</td>\n",
              "      <td>3.0</td>\n",
              "      <td>Paris</td>\n",
              "      <td>France</td>\n",
              "      <td>female</td>\n",
              "      <td>30.0</td>\n",
              "      <td>0</td>\n",
              "      <td>1.0</td>\n",
              "      <td>0</td>\n",
              "      <td>02/12/20</td>\n",
              "    </tr>\n",
              "    <tr>\n",
              "      <th>200</th>\n",
              "      <td>201</td>\n",
              "      <td>4.0</td>\n",
              "      <td>Paris</td>\n",
              "      <td>France</td>\n",
              "      <td>male</td>\n",
              "      <td>80.0</td>\n",
              "      <td>0</td>\n",
              "      <td>1.0</td>\n",
              "      <td>2/14/2020</td>\n",
              "      <td>0</td>\n",
              "    </tr>\n",
              "    <tr>\n",
              "      <th>209</th>\n",
              "      <td>210</td>\n",
              "      <td>13.0</td>\n",
              "      <td>Paris</td>\n",
              "      <td>France</td>\n",
              "      <td>female</td>\n",
              "      <td>33.0</td>\n",
              "      <td>0</td>\n",
              "      <td>0.0</td>\n",
              "      <td>0</td>\n",
              "      <td>0</td>\n",
              "    </tr>\n",
              "  </tbody>\n",
              "</table>\n",
              "</div>"
            ],
            "text/plain": [
              "      id  case_in_country  location  ... from Wuhan      death  recovered\n",
              "197  198              1.0  Bordeaux  ...        0.0          0          0\n",
              "198  199              2.0     Paris  ...        1.0          0   02/12/20\n",
              "199  200              3.0     Paris  ...        1.0          0   02/12/20\n",
              "200  201              4.0     Paris  ...        1.0  2/14/2020          0\n",
              "209  210             13.0     Paris  ...        0.0          0          0\n",
              "\n",
              "[5 rows x 10 columns]"
            ]
          },
          "metadata": {
            "tags": []
          },
          "execution_count": 42
        }
      ]
    },
    {
      "cell_type": "code",
      "metadata": {
        "id": "2LfxkVn-M_co",
        "colab_type": "code",
        "outputId": "e30bec55-458f-4642-82d8-7b716342fa32",
        "colab": {
          "base_uri": "https://localhost:8080/",
          "height": 34
        }
      },
      "source": [
        "data_new_2.shape[0]"
      ],
      "execution_count": 0,
      "outputs": [
        {
          "output_type": "execute_result",
          "data": {
            "text/plain": [
              "635"
            ]
          },
          "metadata": {
            "tags": []
          },
          "execution_count": 43
        }
      ]
    },
    {
      "cell_type": "code",
      "metadata": {
        "id": "lJplNe7AAIDE",
        "colab_type": "code",
        "colab": {}
      },
      "source": [
        "data_new_2['death'] = data_new_2['death'].apply(lambda x: 0 if x=='0' else 1)"
      ],
      "execution_count": 0,
      "outputs": []
    },
    {
      "cell_type": "code",
      "metadata": {
        "id": "O-pJ4lEgFJAQ",
        "colab_type": "code",
        "colab": {}
      },
      "source": [
        "data_new_2['recovered'] = data_new_2['recovered'].apply(lambda x: 0 if x=='0' else 1)"
      ],
      "execution_count": 0,
      "outputs": []
    },
    {
      "cell_type": "code",
      "metadata": {
        "id": "toLWaaidU6p9",
        "colab_type": "code",
        "outputId": "d3bc13d9-7e92-42a8-c5e5-ab23d8fa9f3e",
        "colab": {
          "base_uri": "https://localhost:8080/",
          "height": 419
        }
      },
      "source": [
        "data_new_2"
      ],
      "execution_count": 0,
      "outputs": [
        {
          "output_type": "execute_result",
          "data": {
            "text/html": [
              "<div>\n",
              "<style scoped>\n",
              "    .dataframe tbody tr th:only-of-type {\n",
              "        vertical-align: middle;\n",
              "    }\n",
              "\n",
              "    .dataframe tbody tr th {\n",
              "        vertical-align: top;\n",
              "    }\n",
              "\n",
              "    .dataframe thead th {\n",
              "        text-align: right;\n",
              "    }\n",
              "</style>\n",
              "<table border=\"1\" class=\"dataframe\">\n",
              "  <thead>\n",
              "    <tr style=\"text-align: right;\">\n",
              "      <th></th>\n",
              "      <th>id</th>\n",
              "      <th>case_in_country</th>\n",
              "      <th>location</th>\n",
              "      <th>country</th>\n",
              "      <th>gender</th>\n",
              "      <th>age</th>\n",
              "      <th>visiting Wuhan</th>\n",
              "      <th>from Wuhan</th>\n",
              "      <th>death</th>\n",
              "      <th>recovered</th>\n",
              "    </tr>\n",
              "  </thead>\n",
              "  <tbody>\n",
              "    <tr>\n",
              "      <th>197</th>\n",
              "      <td>198</td>\n",
              "      <td>1.0</td>\n",
              "      <td>Bordeaux</td>\n",
              "      <td>France</td>\n",
              "      <td>male</td>\n",
              "      <td>48.0</td>\n",
              "      <td>1</td>\n",
              "      <td>0.0</td>\n",
              "      <td>0</td>\n",
              "      <td>0</td>\n",
              "    </tr>\n",
              "    <tr>\n",
              "      <th>198</th>\n",
              "      <td>199</td>\n",
              "      <td>2.0</td>\n",
              "      <td>Paris</td>\n",
              "      <td>France</td>\n",
              "      <td>male</td>\n",
              "      <td>31.0</td>\n",
              "      <td>0</td>\n",
              "      <td>1.0</td>\n",
              "      <td>0</td>\n",
              "      <td>1</td>\n",
              "    </tr>\n",
              "    <tr>\n",
              "      <th>199</th>\n",
              "      <td>200</td>\n",
              "      <td>3.0</td>\n",
              "      <td>Paris</td>\n",
              "      <td>France</td>\n",
              "      <td>female</td>\n",
              "      <td>30.0</td>\n",
              "      <td>0</td>\n",
              "      <td>1.0</td>\n",
              "      <td>0</td>\n",
              "      <td>1</td>\n",
              "    </tr>\n",
              "    <tr>\n",
              "      <th>200</th>\n",
              "      <td>201</td>\n",
              "      <td>4.0</td>\n",
              "      <td>Paris</td>\n",
              "      <td>France</td>\n",
              "      <td>male</td>\n",
              "      <td>80.0</td>\n",
              "      <td>0</td>\n",
              "      <td>1.0</td>\n",
              "      <td>1</td>\n",
              "      <td>0</td>\n",
              "    </tr>\n",
              "    <tr>\n",
              "      <th>209</th>\n",
              "      <td>210</td>\n",
              "      <td>13.0</td>\n",
              "      <td>Paris</td>\n",
              "      <td>France</td>\n",
              "      <td>female</td>\n",
              "      <td>33.0</td>\n",
              "      <td>0</td>\n",
              "      <td>0.0</td>\n",
              "      <td>0</td>\n",
              "      <td>0</td>\n",
              "    </tr>\n",
              "    <tr>\n",
              "      <th>...</th>\n",
              "      <td>...</td>\n",
              "      <td>...</td>\n",
              "      <td>...</td>\n",
              "      <td>...</td>\n",
              "      <td>...</td>\n",
              "      <td>...</td>\n",
              "      <td>...</td>\n",
              "      <td>...</td>\n",
              "      <td>...</td>\n",
              "      <td>...</td>\n",
              "    </tr>\n",
              "    <tr>\n",
              "      <th>1027</th>\n",
              "      <td>1028</td>\n",
              "      <td>32.0</td>\n",
              "      <td>Andalusia</td>\n",
              "      <td>Spain</td>\n",
              "      <td>male</td>\n",
              "      <td>58.0</td>\n",
              "      <td>0</td>\n",
              "      <td>0.0</td>\n",
              "      <td>0</td>\n",
              "      <td>0</td>\n",
              "    </tr>\n",
              "    <tr>\n",
              "      <th>1029</th>\n",
              "      <td>1030</td>\n",
              "      <td>34.0</td>\n",
              "      <td>Zaragoza</td>\n",
              "      <td>Spain</td>\n",
              "      <td>female</td>\n",
              "      <td>27.0</td>\n",
              "      <td>0</td>\n",
              "      <td>0.0</td>\n",
              "      <td>0</td>\n",
              "      <td>0</td>\n",
              "    </tr>\n",
              "    <tr>\n",
              "      <th>1030</th>\n",
              "      <td>1031</td>\n",
              "      <td>1.0</td>\n",
              "      <td>Jonkoping</td>\n",
              "      <td>Sweden</td>\n",
              "      <td>female</td>\n",
              "      <td>25.0</td>\n",
              "      <td>1</td>\n",
              "      <td>0.0</td>\n",
              "      <td>0</td>\n",
              "      <td>0</td>\n",
              "    </tr>\n",
              "    <tr>\n",
              "      <th>1052</th>\n",
              "      <td>1053</td>\n",
              "      <td>1.0</td>\n",
              "      <td>Lebanon</td>\n",
              "      <td>Lebanon</td>\n",
              "      <td>female</td>\n",
              "      <td>45.0</td>\n",
              "      <td>0</td>\n",
              "      <td>0.0</td>\n",
              "      <td>0</td>\n",
              "      <td>0</td>\n",
              "    </tr>\n",
              "    <tr>\n",
              "      <th>1084</th>\n",
              "      <td>1085</td>\n",
              "      <td>1.0</td>\n",
              "      <td>Bern</td>\n",
              "      <td>Switzerland</td>\n",
              "      <td>male</td>\n",
              "      <td>70.0</td>\n",
              "      <td>0</td>\n",
              "      <td>0.0</td>\n",
              "      <td>0</td>\n",
              "      <td>0</td>\n",
              "    </tr>\n",
              "  </tbody>\n",
              "</table>\n",
              "<p>635 rows × 10 columns</p>\n",
              "</div>"
            ],
            "text/plain": [
              "        id  case_in_country   location  ... from Wuhan death  recovered\n",
              "197    198              1.0   Bordeaux  ...        0.0     0          0\n",
              "198    199              2.0      Paris  ...        1.0     0          1\n",
              "199    200              3.0      Paris  ...        1.0     0          1\n",
              "200    201              4.0      Paris  ...        1.0     1          0\n",
              "209    210             13.0      Paris  ...        0.0     0          0\n",
              "...    ...              ...        ...  ...        ...   ...        ...\n",
              "1027  1028             32.0  Andalusia  ...        0.0     0          0\n",
              "1029  1030             34.0   Zaragoza  ...        0.0     0          0\n",
              "1030  1031              1.0  Jonkoping  ...        0.0     0          0\n",
              "1052  1053              1.0    Lebanon  ...        0.0     0          0\n",
              "1084  1085              1.0       Bern  ...        0.0     0          0\n",
              "\n",
              "[635 rows x 10 columns]"
            ]
          },
          "metadata": {
            "tags": []
          },
          "execution_count": 46
        }
      ]
    },
    {
      "cell_type": "code",
      "metadata": {
        "id": "nXy26j8qVtvx",
        "colab_type": "code",
        "outputId": "f7a4788e-e31e-447f-d62a-c2d21067d5a4",
        "colab": {
          "base_uri": "https://localhost:8080/",
          "height": 34
        }
      },
      "source": [
        "data = pd.get_dummies(data_new_2)\n",
        "data = pd.get_dummies(data_new_2)\n",
        "data = data.drop(columns=['id','case_in_country'])\n",
        "(data.shape, data.shape)"
      ],
      "execution_count": 0,
      "outputs": [
        {
          "output_type": "execute_result",
          "data": {
            "text/plain": [
              "((635, 118), (635, 118))"
            ]
          },
          "metadata": {
            "tags": []
          },
          "execution_count": 47
        }
      ]
    },
    {
      "cell_type": "code",
      "metadata": {
        "id": "LE19NBkrV-Xr",
        "colab_type": "code",
        "colab": {}
      },
      "source": [
        "from sklearn.model_selection import train_test_split"
      ],
      "execution_count": 0,
      "outputs": []
    },
    {
      "cell_type": "code",
      "metadata": {
        "id": "RC7Ewq7fkNcs",
        "colab_type": "code",
        "outputId": "fb0399ad-cfc0-4d6b-f58f-f297bf4e0829",
        "colab": {
          "base_uri": "https://localhost:8080/",
          "height": 51
        }
      },
      "source": [
        "y = data.death\n",
        "data.drop('death', axis=1, inplace=True)\n",
        "X_cov, X_test, y_cov, y_test = train_test_split(data, y, test_size=0.2)\n",
        "print (X_cov.shape, y_cov.shape)\n",
        "print (X_test.shape, y_test.shape)"
      ],
      "execution_count": 0,
      "outputs": [
        {
          "output_type": "stream",
          "text": [
            "(508, 117) (508,)\n",
            "(127, 117) (127,)\n"
          ],
          "name": "stdout"
        }
      ]
    },
    {
      "cell_type": "markdown",
      "metadata": {
        "id": "asyaGpVFim6M",
        "colab_type": "text"
      },
      "source": [
        "Обучение модели"
      ]
    },
    {
      "cell_type": "code",
      "metadata": {
        "id": "eKlFp-2QaHnt",
        "colab_type": "code",
        "colab": {}
      },
      "source": [
        "from sklearn.neighbors import KNeighborsClassifier"
      ],
      "execution_count": 0,
      "outputs": []
    },
    {
      "cell_type": "code",
      "metadata": {
        "id": "Lrol1zQHgI1e",
        "colab_type": "code",
        "colab": {}
      },
      "source": [
        "KNeighborsClassifierObj = KNeighborsClassifier(n_neighbors=10)"
      ],
      "execution_count": 0,
      "outputs": []
    },
    {
      "cell_type": "code",
      "metadata": {
        "id": "ely16ygYiirV",
        "colab_type": "code",
        "outputId": "6bc17f00-1690-4e84-cd5d-b1fd29a6c554",
        "colab": {
          "base_uri": "https://localhost:8080/",
          "height": 68
        }
      },
      "source": [
        "KNeighborsClassifierObj.fit(X_cov, y_cov)"
      ],
      "execution_count": 0,
      "outputs": [
        {
          "output_type": "execute_result",
          "data": {
            "text/plain": [
              "KNeighborsClassifier(algorithm='auto', leaf_size=30, metric='minkowski',\n",
              "                     metric_params=None, n_jobs=None, n_neighbors=10, p=2,\n",
              "                     weights='uniform')"
            ]
          },
          "metadata": {
            "tags": []
          },
          "execution_count": 52
        }
      ]
    },
    {
      "cell_type": "code",
      "metadata": {
        "id": "MgTniMYQmZZ3",
        "colab_type": "code",
        "colab": {}
      },
      "source": [
        "y_predicted = KNeighborsClassifierObj.predict(X_test)"
      ],
      "execution_count": 0,
      "outputs": []
    },
    {
      "cell_type": "markdown",
      "metadata": {
        "id": "7a4ulP28oOFP",
        "colab_type": "text"
      },
      "source": [
        "Метрика качества"
      ]
    },
    {
      "cell_type": "code",
      "metadata": {
        "id": "gH5PxCetnYCc",
        "colab_type": "code",
        "colab": {}
      },
      "source": [
        "from sklearn.metrics import accuracy_score, balanced_accuracy_score, precision_score, f1_score, classification_report"
      ],
      "execution_count": 0,
      "outputs": []
    },
    {
      "cell_type": "code",
      "metadata": {
        "id": "1aPCCxk5oRyx",
        "colab_type": "code",
        "outputId": "a3a89141-a06d-44f1-d4d5-9061738f685c",
        "colab": {
          "base_uri": "https://localhost:8080/",
          "height": 34
        }
      },
      "source": [
        "accuracy_score(y_test, y_predicted)"
      ],
      "execution_count": 0,
      "outputs": [
        {
          "output_type": "execute_result",
          "data": {
            "text/plain": [
              "0.9763779527559056"
            ]
          },
          "metadata": {
            "tags": []
          },
          "execution_count": 55
        }
      ]
    },
    {
      "cell_type": "code",
      "metadata": {
        "id": "R-yIJSG2oToR",
        "colab_type": "code",
        "outputId": "300afd11-380c-4cb9-b497-b3aebeeceb91",
        "colab": {
          "base_uri": "https://localhost:8080/",
          "height": 34
        }
      },
      "source": [
        "precision_score(y_test, y_predicted)"
      ],
      "execution_count": 0,
      "outputs": [
        {
          "output_type": "execute_result",
          "data": {
            "text/plain": [
              "0.0"
            ]
          },
          "metadata": {
            "tags": []
          },
          "execution_count": 56
        }
      ]
    },
    {
      "cell_type": "markdown",
      "metadata": {
        "id": "iYEYt07rqbtA",
        "colab_type": "text"
      },
      "source": [
        "*Смертность не зависит от других параметров.*"
      ]
    },
    {
      "cell_type": "code",
      "metadata": {
        "id": "w4g9uJbAoZcA",
        "colab_type": "code",
        "outputId": "8b35c3b5-2b9b-47bb-9c96-f09467cd6c37",
        "colab": {
          "base_uri": "https://localhost:8080/",
          "height": 255
        }
      },
      "source": [
        "classification_report(y_test, y_predicted, output_dict = True)"
      ],
      "execution_count": 0,
      "outputs": [
        {
          "output_type": "execute_result",
          "data": {
            "text/plain": [
              "{'0': {'f1-score': 0.9880478087649402,\n",
              "  'precision': 0.9763779527559056,\n",
              "  'recall': 1.0,\n",
              "  'support': 124},\n",
              " '1': {'f1-score': 0.0, 'precision': 0.0, 'recall': 0.0, 'support': 3},\n",
              " 'accuracy': 0.9763779527559056,\n",
              " 'macro avg': {'f1-score': 0.4940239043824701,\n",
              "  'precision': 0.4881889763779528,\n",
              "  'recall': 0.5,\n",
              "  'support': 127},\n",
              " 'weighted avg': {'f1-score': 0.9647080967468709,\n",
              "  'precision': 0.9533139066278133,\n",
              "  'recall': 0.9763779527559056,\n",
              "  'support': 127}}"
            ]
          },
          "metadata": {
            "tags": []
          },
          "execution_count": 57
        }
      ]
    },
    {
      "cell_type": "markdown",
      "metadata": {
        "id": "QGAvt0_Sojv4",
        "colab_type": "text"
      },
      "source": [
        "Кросс-валидация"
      ]
    },
    {
      "cell_type": "code",
      "metadata": {
        "id": "qipK-vDiohLT",
        "colab_type": "code",
        "colab": {}
      },
      "source": [
        "from sklearn.model_selection import cross_val_score"
      ],
      "execution_count": 0,
      "outputs": []
    },
    {
      "cell_type": "code",
      "metadata": {
        "id": "bQ0zM5dzomlE",
        "colab_type": "code",
        "outputId": "461a7f8b-d62b-45a1-d0aa-191734305728",
        "colab": {
          "base_uri": "https://localhost:8080/",
          "height": 34
        }
      },
      "source": [
        "scores = cross_val_score(KNeighborsClassifierObj, \n",
        "                         X_cov, y_cov, cv=3,\n",
        "                        scoring='f1_weighted')\n",
        "scores, np.mean(scores)"
      ],
      "execution_count": 0,
      "outputs": [
        {
          "output_type": "execute_result",
          "data": {
            "text/plain": [
              "(array([0.94737584, 0.95584342, 0.95584342]), 0.9530208904419757)"
            ]
          },
          "metadata": {
            "tags": []
          },
          "execution_count": 59
        }
      ]
    },
    {
      "cell_type": "markdown",
      "metadata": {
        "id": "pM24vegUo4jf",
        "colab_type": "text"
      },
      "source": [
        "Подбор гиперпараметров\n"
      ]
    },
    {
      "cell_type": "code",
      "metadata": {
        "id": "-hEQSVMeo0aj",
        "colab_type": "code",
        "colab": {}
      },
      "source": [
        "from sklearn.model_selection import GridSearchCV"
      ],
      "execution_count": 0,
      "outputs": []
    },
    {
      "cell_type": "code",
      "metadata": {
        "id": "m4B15bDNo681",
        "colab_type": "code",
        "colab": {}
      },
      "source": [
        "n_range = np.array(range(5,55,5))\n",
        "tuned_parameters = [{'n_neighbors': n_range}]"
      ],
      "execution_count": 0,
      "outputs": []
    },
    {
      "cell_type": "code",
      "metadata": {
        "id": "4eXkWHAAo8l0",
        "colab_type": "code",
        "colab": {}
      },
      "source": [
        "clf_gs = GridSearchCV(KNeighborsClassifier(), tuned_parameters, cv=5, scoring='f1_weighted')"
      ],
      "execution_count": 0,
      "outputs": []
    },
    {
      "cell_type": "code",
      "metadata": {
        "id": "qM-0iIv4o-fL",
        "colab_type": "code",
        "outputId": "b85ffe8a-b9c7-4e1c-cfae-0ab7b19a3ac2",
        "colab": {
          "base_uri": "https://localhost:8080/",
          "height": 187
        }
      },
      "source": [
        "clf_gs.fit(X_cov, y_cov)"
      ],
      "execution_count": 0,
      "outputs": [
        {
          "output_type": "execute_result",
          "data": {
            "text/plain": [
              "GridSearchCV(cv=5, error_score=nan,\n",
              "             estimator=KNeighborsClassifier(algorithm='auto', leaf_size=30,\n",
              "                                            metric='minkowski',\n",
              "                                            metric_params=None, n_jobs=None,\n",
              "                                            n_neighbors=5, p=2,\n",
              "                                            weights='uniform'),\n",
              "             iid='deprecated', n_jobs=None,\n",
              "             param_grid=[{'n_neighbors': array([ 5, 10, 15, 20, 25, 30, 35, 40, 45, 50])}],\n",
              "             pre_dispatch='2*n_jobs', refit=True, return_train_score=False,\n",
              "             scoring='f1_weighted', verbose=0)"
            ]
          },
          "metadata": {
            "tags": []
          },
          "execution_count": 63
        }
      ]
    },
    {
      "cell_type": "code",
      "metadata": {
        "id": "VQ0fsSy8pATG",
        "colab_type": "code",
        "outputId": "d5c0afe9-6728-488b-cbda-4e393cb781e7",
        "colab": {
          "base_uri": "https://localhost:8080/",
          "height": 34
        }
      },
      "source": [
        "clf_gs.best_params_"
      ],
      "execution_count": 0,
      "outputs": [
        {
          "output_type": "execute_result",
          "data": {
            "text/plain": [
              "{'n_neighbors': 5}"
            ]
          },
          "metadata": {
            "tags": []
          },
          "execution_count": 64
        }
      ]
    },
    {
      "cell_type": "code",
      "metadata": {
        "id": "oZuE2ZQcpGTs",
        "colab_type": "code",
        "outputId": "4165ddb6-0b1a-4224-d1b2-76867cdd3181",
        "colab": {
          "base_uri": "https://localhost:8080/",
          "height": 34
        }
      },
      "source": [
        "clf_gs.best_score_"
      ],
      "execution_count": 0,
      "outputs": [
        {
          "output_type": "execute_result",
          "data": {
            "text/plain": [
              "0.9549397178298793"
            ]
          },
          "metadata": {
            "tags": []
          },
          "execution_count": 65
        }
      ]
    },
    {
      "cell_type": "code",
      "metadata": {
        "id": "e9aF1nd2pHwg",
        "colab_type": "code",
        "outputId": "41245df8-2d7a-481b-a9ef-c6b21b24e525",
        "colab": {
          "base_uri": "https://localhost:8080/",
          "height": 283
        }
      },
      "source": [
        "plt.plot(n_range, clf_gs.cv_results_['mean_test_score'])"
      ],
      "execution_count": 0,
      "outputs": [
        {
          "output_type": "execute_result",
          "data": {
            "text/plain": [
              "[<matplotlib.lines.Line2D at 0x7f9ca8cb3be0>]"
            ]
          },
          "metadata": {
            "tags": []
          },
          "execution_count": 66
        },
        {
          "output_type": "display_data",
          "data": {
            "image/png": "[encoded data removed]",
            "text/plain": [
              "<Figure size 432x288 with 1 Axes>"
            ]
          },
          "metadata": {
            "tags": [],
            "needs_background": "light"
          }
        }
      ]
    },
    {
      "cell_type": "code",
      "metadata": {
        "id": "mRqC7uFopJSi",
        "colab_type": "code",
        "colab": {}
      },
      "source": [
        ""
      ],
      "execution_count": 0,
      "outputs": []
    }
  ]
}